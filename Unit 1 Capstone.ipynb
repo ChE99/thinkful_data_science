{
 "cells": [
  {
   "cell_type": "markdown",
   "metadata": {
    "collapsed": true
   },
   "source": [
    "# I. The Problem\n",
    "\n",
    "How to improve Americans' physical fitness? According to researchers at Penn State and the University of Maryland, who analyzed data from the US Census Bureau, Americans, on average, spend only two hours per week being physically active. This is just half of the four hours a week of physical activity recommended by the Centers for Disease Control (CDC) and Prevention. Strong evidence shows that physical inactivity increases the risk of many adverse health conditions, including major non-communicable diseases such as coronary heart disease, type 2 diabetes, and breast and colon cancers, and shortens life expectancy. Because much of the world's population is inactive, this link presents a major public health issue. "
   ]
  },
  {
   "cell_type": "markdown",
   "metadata": {},
   "source": [
    "# II. The Potential Solution\n",
    "\n",
    "A fitness app that educates users to adopt healthy living habits, motivates them to improve their physical fitness, and tracks their progress."
   ]
  },
  {
   "cell_type": "markdown",
   "metadata": {},
   "source": [
    "# III. The Method of Testing the Solution\n",
    "\n",
    "## A. Metrics Selection\n",
    "\n",
    "The primary success metric will be defined as a reduction in participants' body mass indices (BMI) towards the healthy range (18.5 - 24.9). However, since BMI changes may not necessarily represent participants' health habits, secondary metrics such as physical activity (i.e., active hours per week), muscle mass, and food nutrition knowledge will also be tracked and measured. Possible contradictions between metrics will be monitored - for example: BMI and muscle mass are both health metrics, but weight loss to achieve a healthy BMI range could result in lower muscle mass."
   ]
  },
  {
   "cell_type": "markdown",
   "metadata": {},
   "source": [
    "## B. Sample Identification\n",
    "\n",
    "In the absence of publicly available data on weight across different ethnicities in the U.S., data will be randomly generated to represent the population from which samples will be taken. Data generation will be based on metrics available from federal agencies such as the Centers for Disease Control (CDC) and Prevention, and National Institutes of Health, among others; for example, average height, weight, and waist circumference on U.S. males and females published on the CDC website."
   ]
  },
  {
   "cell_type": "code",
   "execution_count": 1,
   "metadata": {
    "collapsed": true
   },
   "outputs": [],
   "source": [
    "import numpy as np\n",
    "import pandas as pd\n",
    "import matplotlib.pyplot as plt\n",
    "import seaborn as sns\n",
    "%matplotlib inline"
   ]
  },
  {
   "cell_type": "code",
   "execution_count": 2,
   "metadata": {
    "collapsed": false
   },
   "outputs": [
    {
     "data": {
      "text/html": [
       "<div>\n",
       "<table border=\"1\" class=\"dataframe\">\n",
       "  <thead>\n",
       "    <tr style=\"text-align: right;\">\n",
       "      <th></th>\n",
       "      <th>active_hours</th>\n",
       "      <th>age</th>\n",
       "      <th>ethnicity</th>\n",
       "      <th>gender</th>\n",
       "      <th>height_in</th>\n",
       "      <th>waist_circ_in</th>\n",
       "      <th>weight_lbs</th>\n",
       "    </tr>\n",
       "  </thead>\n",
       "  <tbody>\n",
       "    <tr>\n",
       "      <th>0</th>\n",
       "      <td>2.034456</td>\n",
       "      <td>56.215100</td>\n",
       "      <td>asian</td>\n",
       "      <td>male</td>\n",
       "      <td>67.418172</td>\n",
       "      <td>39.400325</td>\n",
       "      <td>243.248681</td>\n",
       "    </tr>\n",
       "    <tr>\n",
       "      <th>1</th>\n",
       "      <td>2.299914</td>\n",
       "      <td>61.191163</td>\n",
       "      <td>native_hawaiian</td>\n",
       "      <td>male</td>\n",
       "      <td>69.457883</td>\n",
       "      <td>40.285621</td>\n",
       "      <td>197.122717</td>\n",
       "    </tr>\n",
       "    <tr>\n",
       "      <th>2</th>\n",
       "      <td>1.876303</td>\n",
       "      <td>52.763637</td>\n",
       "      <td>black</td>\n",
       "      <td>male</td>\n",
       "      <td>65.614105</td>\n",
       "      <td>38.873148</td>\n",
       "      <td>184.175215</td>\n",
       "    </tr>\n",
       "    <tr>\n",
       "      <th>3</th>\n",
       "      <td>1.810099</td>\n",
       "      <td>51.892246</td>\n",
       "      <td>asian</td>\n",
       "      <td>male</td>\n",
       "      <td>65.492886</td>\n",
       "      <td>38.646407</td>\n",
       "      <td>206.647124</td>\n",
       "    </tr>\n",
       "    <tr>\n",
       "      <th>4</th>\n",
       "      <td>2.506292</td>\n",
       "      <td>18.460413</td>\n",
       "      <td>american_indian</td>\n",
       "      <td>male</td>\n",
       "      <td>69.966709</td>\n",
       "      <td>39.878703</td>\n",
       "      <td>192.983147</td>\n",
       "    </tr>\n",
       "  </tbody>\n",
       "</table>\n",
       "</div>"
      ],
      "text/plain": [
       "   active_hours        age        ethnicity gender  height_in  waist_circ_in  \\\n",
       "0      2.034456  56.215100            asian   male  67.418172      39.400325   \n",
       "1      2.299914  61.191163  native_hawaiian   male  69.457883      40.285621   \n",
       "2      1.876303  52.763637            black   male  65.614105      38.873148   \n",
       "3      1.810099  51.892246            asian   male  65.492886      38.646407   \n",
       "4      2.506292  18.460413  american_indian   male  69.966709      39.878703   \n",
       "\n",
       "   weight_lbs  \n",
       "0  243.248681  \n",
       "1  197.122717  \n",
       "2  184.175215  \n",
       "3  206.647124  \n",
       "4  192.983147  "
      ]
     },
     "execution_count": 2,
     "metadata": {},
     "output_type": "execute_result"
    }
   ],
   "source": [
    "# Create two dataframes - male and female - based on U.S. data from the CDC on average height, weight, waist circumference, and active hours per week.\n",
    "np.random.seed(123)\n",
    "a = ['american_indian', 'asian', 'black', 'native_hawaiian', 'white']\n",
    "ethnicity = []\n",
    "for item in range(1,501):\n",
    "    gender = 'male'\n",
    "    height = 2.9*np.random.randn(500)+69.2\n",
    "    weight = 30.7*np.random.randn(500)+195.7\n",
    "    waist_circ = 1.5*np.random.randn(500)+40\n",
    "    active_hours = .5*np.random.randn(500)+2\n",
    "    ethnicity.append(np.random.choice(a))\n",
    "    age = np.random.uniform(18,64,500)    \n",
    "df_male = pd.DataFrame({'gender':gender, 'ethnicity':ethnicity, 'height_in':height, 'weight_lbs':weight, 'age': age, 'waist_circ_in':waist_circ, 'active_hours':active_hours})\n",
    "df_male.head()"
   ]
  },
  {
   "cell_type": "code",
   "execution_count": 3,
   "metadata": {
    "collapsed": false
   },
   "outputs": [
    {
     "data": {
      "text/html": [
       "<div>\n",
       "<table border=\"1\" class=\"dataframe\">\n",
       "  <thead>\n",
       "    <tr style=\"text-align: right;\">\n",
       "      <th></th>\n",
       "      <th>active_hours</th>\n",
       "      <th>age</th>\n",
       "      <th>ethnicity</th>\n",
       "      <th>gender</th>\n",
       "      <th>height_in</th>\n",
       "      <th>waist_circ_in</th>\n",
       "      <th>weight_lbs</th>\n",
       "    </tr>\n",
       "  </thead>\n",
       "  <tbody>\n",
       "    <tr>\n",
       "      <th>0</th>\n",
       "      <td>2.479531</td>\n",
       "      <td>23.711067</td>\n",
       "      <td>american_indian</td>\n",
       "      <td>female</td>\n",
       "      <td>61.624100</td>\n",
       "      <td>37.541360</td>\n",
       "      <td>193.064739</td>\n",
       "    </tr>\n",
       "    <tr>\n",
       "      <th>1</th>\n",
       "      <td>2.146087</td>\n",
       "      <td>18.272936</td>\n",
       "      <td>white</td>\n",
       "      <td>female</td>\n",
       "      <td>59.951749</td>\n",
       "      <td>38.700928</td>\n",
       "      <td>159.387652</td>\n",
       "    </tr>\n",
       "    <tr>\n",
       "      <th>2</th>\n",
       "      <td>1.873809</td>\n",
       "      <td>22.441478</td>\n",
       "      <td>black</td>\n",
       "      <td>female</td>\n",
       "      <td>63.473118</td>\n",
       "      <td>39.777741</td>\n",
       "      <td>138.756409</td>\n",
       "    </tr>\n",
       "    <tr>\n",
       "      <th>3</th>\n",
       "      <td>1.747645</td>\n",
       "      <td>20.359513</td>\n",
       "      <td>white</td>\n",
       "      <td>female</td>\n",
       "      <td>66.656148</td>\n",
       "      <td>37.707290</td>\n",
       "      <td>216.209771</td>\n",
       "    </tr>\n",
       "    <tr>\n",
       "      <th>4</th>\n",
       "      <td>2.460772</td>\n",
       "      <td>23.119882</td>\n",
       "      <td>white</td>\n",
       "      <td>female</td>\n",
       "      <td>64.129918</td>\n",
       "      <td>38.776771</td>\n",
       "      <td>166.589825</td>\n",
       "    </tr>\n",
       "  </tbody>\n",
       "</table>\n",
       "</div>"
      ],
      "text/plain": [
       "   active_hours        age        ethnicity  gender  height_in  waist_circ_in  \\\n",
       "0      2.479531  23.711067  american_indian  female  61.624100      37.541360   \n",
       "1      2.146087  18.272936            white  female  59.951749      38.700928   \n",
       "2      1.873809  22.441478            black  female  63.473118      39.777741   \n",
       "3      1.747645  20.359513            white  female  66.656148      37.707290   \n",
       "4      2.460772  23.119882            white  female  64.129918      38.776771   \n",
       "\n",
       "   weight_lbs  \n",
       "0  193.064739  \n",
       "1  159.387652  \n",
       "2  138.756409  \n",
       "3  216.209771  \n",
       "4  166.589825  "
      ]
     },
     "execution_count": 3,
     "metadata": {},
     "output_type": "execute_result"
    }
   ],
   "source": [
    "a = ['american_indian', 'asian', 'black', 'native_hawaiian', 'white']\n",
    "ethnicity = []\n",
    "for item in range(1,501):\n",
    "    gender = 'female'\n",
    "    height = 2.7*np.random.randn(500)+63.7\n",
    "    weight = 26.4*np.random.randn(500)+168.5\n",
    "    waist_circ = 1.2*np.random.randn(500)+38.1\n",
    "    active_hours = .5*np.random.randn(500)+2\n",
    "    ethnicity.append(np.random.choice(a))\n",
    "    age = np.random.uniform(18,24,500)\n",
    "df_female = pd.DataFrame({'gender':gender, 'ethnicity':ethnicity, 'height_in':height, 'weight_lbs':weight, 'age': age, 'waist_circ_in':waist_circ, 'active_hours':active_hours})\n",
    "df_female.head()"
   ]
  },
  {
   "cell_type": "code",
   "execution_count": 4,
   "metadata": {
    "collapsed": false
   },
   "outputs": [
    {
     "data": {
      "text/html": [
       "<div>\n",
       "<table border=\"1\" class=\"dataframe\">\n",
       "  <thead>\n",
       "    <tr style=\"text-align: right;\">\n",
       "      <th></th>\n",
       "      <th>active_hours</th>\n",
       "      <th>age</th>\n",
       "      <th>ethnicity</th>\n",
       "      <th>gender</th>\n",
       "      <th>height_in</th>\n",
       "      <th>waist_circ_in</th>\n",
       "      <th>weight_lbs</th>\n",
       "      <th>bmi</th>\n",
       "      <th>category</th>\n",
       "    </tr>\n",
       "  </thead>\n",
       "  <tbody>\n",
       "    <tr>\n",
       "      <th>0</th>\n",
       "      <td>1.067008</td>\n",
       "      <td>37.340855</td>\n",
       "      <td>american_indian</td>\n",
       "      <td>male</td>\n",
       "      <td>67.308224</td>\n",
       "      <td>39.383029</td>\n",
       "      <td>173.164414</td>\n",
       "      <td>26.870622</td>\n",
       "      <td>overweight</td>\n",
       "    </tr>\n",
       "    <tr>\n",
       "      <th>1</th>\n",
       "      <td>2.479382</td>\n",
       "      <td>33.067020</td>\n",
       "      <td>asian</td>\n",
       "      <td>male</td>\n",
       "      <td>71.398094</td>\n",
       "      <td>39.053159</td>\n",
       "      <td>164.518414</td>\n",
       "      <td>22.688021</td>\n",
       "      <td>healthy</td>\n",
       "    </tr>\n",
       "    <tr>\n",
       "      <th>2</th>\n",
       "      <td>1.889276</td>\n",
       "      <td>40.216586</td>\n",
       "      <td>black</td>\n",
       "      <td>male</td>\n",
       "      <td>71.794519</td>\n",
       "      <td>41.338261</td>\n",
       "      <td>186.889721</td>\n",
       "      <td>25.489315</td>\n",
       "      <td>overweight</td>\n",
       "    </tr>\n",
       "    <tr>\n",
       "      <th>3</th>\n",
       "      <td>1.869348</td>\n",
       "      <td>20.140602</td>\n",
       "      <td>white</td>\n",
       "      <td>female</td>\n",
       "      <td>64.283958</td>\n",
       "      <td>36.421488</td>\n",
       "      <td>154.911892</td>\n",
       "      <td>26.353291</td>\n",
       "      <td>overweight</td>\n",
       "    </tr>\n",
       "    <tr>\n",
       "      <th>4</th>\n",
       "      <td>1.975693</td>\n",
       "      <td>35.907238</td>\n",
       "      <td>black</td>\n",
       "      <td>male</td>\n",
       "      <td>68.075111</td>\n",
       "      <td>39.930730</td>\n",
       "      <td>183.755469</td>\n",
       "      <td>27.875257</td>\n",
       "      <td>overweight</td>\n",
       "    </tr>\n",
       "  </tbody>\n",
       "</table>\n",
       "</div>"
      ],
      "text/plain": [
       "   active_hours        age        ethnicity  gender  height_in  waist_circ_in  \\\n",
       "0      1.067008  37.340855  american_indian    male  67.308224      39.383029   \n",
       "1      2.479382  33.067020            asian    male  71.398094      39.053159   \n",
       "2      1.889276  40.216586            black    male  71.794519      41.338261   \n",
       "3      1.869348  20.140602            white  female  64.283958      36.421488   \n",
       "4      1.975693  35.907238            black    male  68.075111      39.930730   \n",
       "\n",
       "   weight_lbs        bmi    category  \n",
       "0  173.164414  26.870622  overweight  \n",
       "1  164.518414  22.688021     healthy  \n",
       "2  186.889721  25.489315  overweight  \n",
       "3  154.911892  26.353291  overweight  \n",
       "4  183.755469  27.875257  overweight  "
      ]
     },
     "execution_count": 4,
     "metadata": {},
     "output_type": "execute_result"
    }
   ],
   "source": [
    "# Combine the male and female dataframes.\n",
    "df = pd.concat([df_male, df_female]).sample(frac=1).reset_index(drop=True)\n",
    "\n",
    "# Calculate and create a BMI column.\n",
    "df['bmi'] = (df['weight_lbs']/df['height_in']**2)*703\n",
    "\n",
    "# Create a category column based on BMI.\n",
    "def category(x):\n",
    "    if x < 18.5:\n",
    "        return 'underweight'\n",
    "    elif 18.5 <= x <= 24.9:\n",
    "        return 'healthy'\n",
    "    elif 25 <= x <= 29.9:\n",
    "        return 'overweight'\n",
    "    else: \n",
    "        return 'obese'\n",
    "df['category'] = df['bmi'].apply(category)\n",
    "df.head()"
   ]
  },
  {
   "cell_type": "code",
   "execution_count": 5,
   "metadata": {
    "collapsed": false
   },
   "outputs": [
    {
     "data": {
      "text/plain": [
       "category     gender\n",
       "healthy      female     98\n",
       "             male       87\n",
       "obese        female    227\n",
       "             male      213\n",
       "overweight   female    168\n",
       "             male      194\n",
       "underweight  female      7\n",
       "             male        6\n",
       "dtype: int64"
      ]
     },
     "execution_count": 5,
     "metadata": {},
     "output_type": "execute_result"
    }
   ],
   "source": [
    "# Show the resulting gender distribution by category.\n",
    "df.groupby(['category', 'gender']).size()"
   ]
  },
  {
   "cell_type": "markdown",
   "metadata": {},
   "source": [
    "The following visualizations present the breakdowns and correlations of the data."
   ]
  },
  {
   "cell_type": "code",
   "execution_count": 6,
   "metadata": {
    "collapsed": false
   },
   "outputs": [
    {
     "data": {
      "image/png": "[encoded data removed]",
      "text/plain": [
       "<matplotlib.figure.Figure at 0x2492152be48>"
      ]
     },
     "metadata": {},
     "output_type": "display_data"
    }
   ],
   "source": [
    "# Boxplot showing distribution of BMI by gender and category.\n",
    "sns.boxplot(x='category', y='bmi', hue='gender', palette='muted', data=df);"
   ]
  },
  {
   "cell_type": "code",
   "execution_count": 7,
   "metadata": {
    "collapsed": false
   },
   "outputs": [
    {
     "data": {
      "image/png": "[encoded data removed]",
      "text/plain": [
       "<matplotlib.figure.Figure at 0x24921f0c160>"
      ]
     },
     "metadata": {},
     "output_type": "display_data"
    }
   ],
   "source": [
    "# Error bars for weight and gender/category.\n",
    "sns.factorplot(x='category', y='weight_lbs', hue='gender', palette='muted', data=df, kind='bar');"
   ]
  },
  {
   "cell_type": "code",
   "execution_count": 8,
   "metadata": {
    "collapsed": false
   },
   "outputs": [
    {
     "data": {
      "image/png": "[encoded data removed]",
      "text/plain": [
       "<matplotlib.figure.Figure at 0x24921f73940>"
      ]
     },
     "metadata": {},
     "output_type": "display_data"
    }
   ],
   "source": [
    "# Correlation among variables.\n",
    "corr = df.corr()\n",
    "sns.heatmap(corr,annot=True);\n",
    "# The heatmap shows a strong correlation between weight and BMI."
   ]
  },
  {
   "cell_type": "code",
   "execution_count": 9,
   "metadata": {
    "collapsed": false
   },
   "outputs": [
    {
     "data": {
      "image/png": "[encoded data removed]",
      "text/plain": [
       "<matplotlib.figure.Figure at 0x24921fdc208>"
      ]
     },
     "metadata": {},
     "output_type": "display_data"
    }
   ],
   "source": [
    "# A pairplot showing correlations among three specific variables.\n",
    "df1 = df[['category','waist_circ_in','bmi','active_hours']]\n",
    "sns.pairplot(df1, hue='category');"
   ]
  },
  {
   "cell_type": "markdown",
   "metadata": {},
   "source": [
    "### 1. Sampling Method\n",
    "\n",
    "Two groups of participants will be randomly sampled. The experimental group (B) will have the app installed on their phones, while the other group (A, control) will not. Both groups should have similar characteristics with respect to age, gender and fitnes levels to ensure changes oberved can be attributed to the app rather than to other factors.\n",
    "\n",
    "Ensure appropriate sampling methods to avoid confounding and ceiling effects. For example, if Group B consisted of mostly educated participants who might be better at implementing the desired results (i.e., confounding), thus inflating the app's effectiveness. Or, participants who are at the peak of physical fitness prior to the start of the experiment (i.e., ceiling), since incremental improvements might not be detected. To avoid such effects and to enable more pronounced BMI changes that can be easily tracked and measured, participants will be selected from the obese population to form groups A and B. \n",
    "\n",
    "### 2. Sample Size\n",
    "\n",
    "Groups A and B will have the same size. A larger sample will be needed to detect small changes and if BMIs fluctuate greatly among participants. Python’s statsmodels module will be used to calculate sample size with the following parameters: \n",
    "\n",
    " - The difference between the null and experimental means is assumed to be 1, i.e., a one-point difference in BMI.\n",
    " - The standard deviation of the difference between the means is assumed to be 3, which yields a standardized effect size of 1/3.\n",
    " - The significance level (alpha) is set to 0.05.\n",
    " - Power is set to 0.8.\n",
    " - The ratio between the two groups' sample sizes is 1, i.e., both groups have the same number of participants.\n",
    " - The alternative is \"two-sided,\" i.e., a two-tailed t-test since the experiment will look into not only the positive effect of the app, but a possible negative effect as well. "
   ]
  },
  {
   "cell_type": "code",
   "execution_count": 10,
   "metadata": {
    "collapsed": false
   },
   "outputs": [
    {
     "name": "stdout",
     "output_type": "stream",
     "text": [
      "Sample size per group: 142.24625223287106\n"
     ]
    }
   ],
   "source": [
    "from statsmodels.stats.power import tt_ind_solve_power\n",
    "\n",
    "mean_diff, sd_diff = 1, 3\n",
    "std_effect_size = mean_diff / sd_diff\n",
    "\n",
    "n = tt_ind_solve_power(effect_size=std_effect_size, alpha=0.05, power=0.8, ratio=1, alternative='two-sided')\n",
    "print('Sample size per group: {}'.format(n))"
   ]
  },
  {
   "cell_type": "code",
   "execution_count": 11,
   "metadata": {
    "collapsed": false
   },
   "outputs": [
    {
     "name": "stdout",
     "output_type": "stream",
     "text": [
      "Sample size per ethnicity: 15\n"
     ]
    }
   ],
   "source": [
    "# Find the total sample size, i.e., first integer greater than n and a multiple of the number of genders (2) and ethnicities (5).\n",
    "sample_size = next(i for i in range(1000) if i > int(np.ceil(n)) and i % 2 == 0 and i % 5 == 0)\n",
    "\n",
    "# The total sample size will be evenly divided among the five ethnicites for each gender.\n",
    "sample_eth = int(sample_size / (2*5))\n",
    "print ('Sample size per ethnicity: {}'.format(sample_eth))"
   ]
  },
  {
   "cell_type": "code",
   "execution_count": 12,
   "metadata": {
    "collapsed": false
   },
   "outputs": [],
   "source": [
    "# Group the obese population by gender and ethnicity.\n",
    "df_omai = df[(df['category'] == 'obese') & (df['gender'] == 'male') & (df['ethnicity'] == 'american_indian')]\n",
    "df_oma = df[(df['category'] == 'obese') & (df['gender'] == 'male') & (df['ethnicity'] == 'asian')]\n",
    "df_omb = df[(df['category'] == 'obese') & (df['gender'] == 'male') & (df['ethnicity'] == 'black')]\n",
    "df_omn = df[(df['category'] == 'obese') & (df['gender'] == 'male') & (df['ethnicity'] == 'native_hawaiian')]\n",
    "df_omw = df[(df['category'] == 'obese') & (df['gender'] == 'male') & (df['ethnicity'] == 'white')]\n",
    "df_ofai = df[(df['category'] == 'obese') & (df['gender'] == 'female') & (df['ethnicity'] == 'american_indian')]\n",
    "df_ofa = df[(df['category'] == 'obese') & (df['gender'] == 'female') & (df['ethnicity'] == 'asian')]\n",
    "df_ofb = df[(df['category'] == 'obese') & (df['gender'] == 'female') & (df['ethnicity'] == 'black')]\n",
    "df_ofn = df[(df['category'] == 'obese') & (df['gender'] == 'female') & (df['ethnicity'] == 'native_hawaiian')]\n",
    "df_ofw = df[(df['category'] == 'obese') & (df['gender'] == 'female') & (df['ethnicity'] == 'white')]\n",
    "\n",
    "# Randomly select 15 participants from each ethicity.\n",
    "df_A_omai = df_omai.take(np.random.permutation(len(df_omai))[:sample_eth])\n",
    "df_A_oma = df_oma.take(np.random.permutation(len(df_oma))[:sample_eth])\n",
    "df_A_omb = df_omb.take(np.random.permutation(len(df_omb))[:sample_eth])\n",
    "df_A_omn = df_omn.take(np.random.permutation(len(df_omn))[:sample_eth])\n",
    "df_A_omw = df_omw.take(np.random.permutation(len(df_omw))[:sample_eth])\n",
    "df_A_ofai = df_ofai.take(np.random.permutation(len(df_ofai))[:sample_eth])\n",
    "df_A_ofa = df_ofa.take(np.random.permutation(len(df_ofa))[:sample_eth])\n",
    "df_A_ofb = df_ofb.take(np.random.permutation(len(df_ofb))[:sample_eth])\n",
    "df_A_ofn = df_ofn.take(np.random.permutation(len(df_ofn))[:sample_eth])\n",
    "df_A_ofw = df_ofw.take(np.random.permutation(len(df_ofw))[:sample_eth])\n",
    "\n",
    "df_B_omai = df_omai.take(np.random.permutation(len(df_omai))[:sample_eth])\n",
    "df_B_oma = df_oma.take(np.random.permutation(len(df_oma))[:sample_eth])\n",
    "df_B_omb = df_omb.take(np.random.permutation(len(df_omb))[:sample_eth])\n",
    "df_B_omn = df_omn.take(np.random.permutation(len(df_omn))[:sample_eth])\n",
    "df_B_omw = df_omw.take(np.random.permutation(len(df_omw))[:sample_eth])\n",
    "df_B_ofai = df_ofai.take(np.random.permutation(len(df_ofai))[:sample_eth])\n",
    "df_B_ofa = df_ofa.take(np.random.permutation(len(df_ofa))[:sample_eth])\n",
    "df_B_ofb = df_ofb.take(np.random.permutation(len(df_ofb))[:sample_eth])\n",
    "df_B_ofn = df_ofn.take(np.random.permutation(len(df_ofn))[:sample_eth])\n",
    "df_B_ofw = df_ofw.take(np.random.permutation(len(df_ofw))[:sample_eth])\n",
    "\n",
    "# Combine corresponding participants and assign to groups A and B.\n",
    "df_A = pd.concat([df_A_omai, df_A_oma, df_A_omb, df_A_omn, df_A_omw, df_A_ofai, df_A_ofa, df_A_ofb, df_A_ofn, df_A_ofw])\n",
    "df_B = pd.concat([df_B_omai, df_B_oma, df_B_omb, df_B_omn, df_B_omw, df_B_ofai, df_B_ofa, df_B_ofb, df_B_ofn, df_B_ofw])"
   ]
  },
  {
   "cell_type": "code",
   "execution_count": 13,
   "metadata": {
    "collapsed": false
   },
   "outputs": [
    {
     "data": {
      "text/plain": [
       "category  gender  ethnicity      \n",
       "obese     female  american_indian    15\n",
       "                  asian              15\n",
       "                  black              15\n",
       "                  native_hawaiian    15\n",
       "                  white              15\n",
       "          male    american_indian    15\n",
       "                  asian              15\n",
       "                  black              15\n",
       "                  native_hawaiian    15\n",
       "                  white              15\n",
       "dtype: int64"
      ]
     },
     "execution_count": 13,
     "metadata": {},
     "output_type": "execute_result"
    }
   ],
   "source": [
    "# Show characteristics of Group A.\n",
    "df_A.groupby(['category', 'gender', 'ethnicity']).size()"
   ]
  },
  {
   "cell_type": "code",
   "execution_count": 14,
   "metadata": {
    "collapsed": false
   },
   "outputs": [
    {
     "data": {
      "text/html": [
       "<div>\n",
       "<table border=\"1\" class=\"dataframe\">\n",
       "  <thead>\n",
       "    <tr style=\"text-align: right;\">\n",
       "      <th></th>\n",
       "      <th>active_hours</th>\n",
       "      <th>age</th>\n",
       "      <th>height_in</th>\n",
       "      <th>waist_circ_in</th>\n",
       "      <th>weight_lbs</th>\n",
       "      <th>bmi</th>\n",
       "    </tr>\n",
       "  </thead>\n",
       "  <tbody>\n",
       "    <tr>\n",
       "      <th>count</th>\n",
       "      <td>150.000000</td>\n",
       "      <td>150.000000</td>\n",
       "      <td>150.000000</td>\n",
       "      <td>150.000000</td>\n",
       "      <td>150.000000</td>\n",
       "      <td>150.000000</td>\n",
       "    </tr>\n",
       "    <tr>\n",
       "      <th>mean</th>\n",
       "      <td>2.047438</td>\n",
       "      <td>30.080700</td>\n",
       "      <td>65.082936</td>\n",
       "      <td>39.239060</td>\n",
       "      <td>203.368602</td>\n",
       "      <td>33.744615</td>\n",
       "    </tr>\n",
       "    <tr>\n",
       "      <th>std</th>\n",
       "      <td>0.512812</td>\n",
       "      <td>12.453276</td>\n",
       "      <td>3.576725</td>\n",
       "      <td>1.852888</td>\n",
       "      <td>25.137802</td>\n",
       "      <td>3.155090</td>\n",
       "    </tr>\n",
       "    <tr>\n",
       "      <th>min</th>\n",
       "      <td>0.600970</td>\n",
       "      <td>18.095195</td>\n",
       "      <td>56.077716</td>\n",
       "      <td>35.212393</td>\n",
       "      <td>148.504341</td>\n",
       "      <td>24.953198</td>\n",
       "    </tr>\n",
       "    <tr>\n",
       "      <th>25%</th>\n",
       "      <td>1.743626</td>\n",
       "      <td>21.051254</td>\n",
       "      <td>62.941845</td>\n",
       "      <td>37.822740</td>\n",
       "      <td>185.380214</td>\n",
       "      <td>31.457955</td>\n",
       "    </tr>\n",
       "    <tr>\n",
       "      <th>50%</th>\n",
       "      <td>2.030549</td>\n",
       "      <td>23.340943</td>\n",
       "      <td>64.976676</td>\n",
       "      <td>39.179792</td>\n",
       "      <td>199.760795</td>\n",
       "      <td>32.924719</td>\n",
       "    </tr>\n",
       "    <tr>\n",
       "      <th>75%</th>\n",
       "      <td>2.380700</td>\n",
       "      <td>38.349601</td>\n",
       "      <td>67.353644</td>\n",
       "      <td>40.497456</td>\n",
       "      <td>218.539916</td>\n",
       "      <td>35.472104</td>\n",
       "    </tr>\n",
       "    <tr>\n",
       "      <th>max</th>\n",
       "      <td>3.214817</td>\n",
       "      <td>62.725645</td>\n",
       "      <td>74.251905</td>\n",
       "      <td>43.907647</td>\n",
       "      <td>291.342587</td>\n",
       "      <td>44.684133</td>\n",
       "    </tr>\n",
       "  </tbody>\n",
       "</table>\n",
       "</div>"
      ],
      "text/plain": [
       "       active_hours         age   height_in  waist_circ_in  weight_lbs  \\\n",
       "count    150.000000  150.000000  150.000000     150.000000  150.000000   \n",
       "mean       2.047438   30.080700   65.082936      39.239060  203.368602   \n",
       "std        0.512812   12.453276    3.576725       1.852888   25.137802   \n",
       "min        0.600970   18.095195   56.077716      35.212393  148.504341   \n",
       "25%        1.743626   21.051254   62.941845      37.822740  185.380214   \n",
       "50%        2.030549   23.340943   64.976676      39.179792  199.760795   \n",
       "75%        2.380700   38.349601   67.353644      40.497456  218.539916   \n",
       "max        3.214817   62.725645   74.251905      43.907647  291.342587   \n",
       "\n",
       "              bmi  \n",
       "count  150.000000  \n",
       "mean    33.744615  \n",
       "std      3.155090  \n",
       "min     24.953198  \n",
       "25%     31.457955  \n",
       "50%     32.924719  \n",
       "75%     35.472104  \n",
       "max     44.684133  "
      ]
     },
     "execution_count": 14,
     "metadata": {},
     "output_type": "execute_result"
    }
   ],
   "source": [
    "df_A.describe()"
   ]
  },
  {
   "cell_type": "code",
   "execution_count": 15,
   "metadata": {
    "collapsed": false
   },
   "outputs": [
    {
     "data": {
      "text/plain": [
       "category  gender  ethnicity      \n",
       "obese     female  american_indian    15\n",
       "                  asian              15\n",
       "                  black              15\n",
       "                  native_hawaiian    15\n",
       "                  white              15\n",
       "          male    american_indian    15\n",
       "                  asian              15\n",
       "                  black              15\n",
       "                  native_hawaiian    15\n",
       "                  white              15\n",
       "dtype: int64"
      ]
     },
     "execution_count": 15,
     "metadata": {},
     "output_type": "execute_result"
    }
   ],
   "source": [
    "# Show characteristics of Group B.\n",
    "df_B.groupby(['category', 'gender', 'ethnicity']).size()"
   ]
  },
  {
   "cell_type": "code",
   "execution_count": 16,
   "metadata": {
    "collapsed": false
   },
   "outputs": [
    {
     "data": {
      "text/html": [
       "<div>\n",
       "<table border=\"1\" class=\"dataframe\">\n",
       "  <thead>\n",
       "    <tr style=\"text-align: right;\">\n",
       "      <th></th>\n",
       "      <th>active_hours</th>\n",
       "      <th>age</th>\n",
       "      <th>height_in</th>\n",
       "      <th>waist_circ_in</th>\n",
       "      <th>weight_lbs</th>\n",
       "      <th>bmi</th>\n",
       "    </tr>\n",
       "  </thead>\n",
       "  <tbody>\n",
       "    <tr>\n",
       "      <th>count</th>\n",
       "      <td>150.000000</td>\n",
       "      <td>150.000000</td>\n",
       "      <td>150.000000</td>\n",
       "      <td>150.000000</td>\n",
       "      <td>150.000000</td>\n",
       "      <td>150.000000</td>\n",
       "    </tr>\n",
       "    <tr>\n",
       "      <th>mean</th>\n",
       "      <td>2.085562</td>\n",
       "      <td>31.798645</td>\n",
       "      <td>65.343004</td>\n",
       "      <td>39.074146</td>\n",
       "      <td>203.195660</td>\n",
       "      <td>33.437767</td>\n",
       "    </tr>\n",
       "    <tr>\n",
       "      <th>std</th>\n",
       "      <td>0.503611</td>\n",
       "      <td>14.393010</td>\n",
       "      <td>3.545905</td>\n",
       "      <td>1.745193</td>\n",
       "      <td>25.632760</td>\n",
       "      <td>3.223508</td>\n",
       "    </tr>\n",
       "    <tr>\n",
       "      <th>min</th>\n",
       "      <td>0.774878</td>\n",
       "      <td>18.095195</td>\n",
       "      <td>56.890728</td>\n",
       "      <td>35.659659</td>\n",
       "      <td>127.137189</td>\n",
       "      <td>24.906517</td>\n",
       "    </tr>\n",
       "    <tr>\n",
       "      <th>25%</th>\n",
       "      <td>1.733187</td>\n",
       "      <td>20.649255</td>\n",
       "      <td>62.883028</td>\n",
       "      <td>37.810399</td>\n",
       "      <td>185.327990</td>\n",
       "      <td>31.195089</td>\n",
       "    </tr>\n",
       "    <tr>\n",
       "      <th>50%</th>\n",
       "      <td>2.122829</td>\n",
       "      <td>23.427248</td>\n",
       "      <td>65.372073</td>\n",
       "      <td>38.846160</td>\n",
       "      <td>200.502720</td>\n",
       "      <td>32.827938</td>\n",
       "    </tr>\n",
       "    <tr>\n",
       "      <th>75%</th>\n",
       "      <td>2.431249</td>\n",
       "      <td>43.069666</td>\n",
       "      <td>67.828574</td>\n",
       "      <td>40.153131</td>\n",
       "      <td>215.648404</td>\n",
       "      <td>34.451948</td>\n",
       "    </tr>\n",
       "    <tr>\n",
       "      <th>max</th>\n",
       "      <td>3.214817</td>\n",
       "      <td>63.787240</td>\n",
       "      <td>74.251905</td>\n",
       "      <td>43.907647</td>\n",
       "      <td>291.342587</td>\n",
       "      <td>44.749843</td>\n",
       "    </tr>\n",
       "  </tbody>\n",
       "</table>\n",
       "</div>"
      ],
      "text/plain": [
       "       active_hours         age   height_in  waist_circ_in  weight_lbs  \\\n",
       "count    150.000000  150.000000  150.000000     150.000000  150.000000   \n",
       "mean       2.085562   31.798645   65.343004      39.074146  203.195660   \n",
       "std        0.503611   14.393010    3.545905       1.745193   25.632760   \n",
       "min        0.774878   18.095195   56.890728      35.659659  127.137189   \n",
       "25%        1.733187   20.649255   62.883028      37.810399  185.327990   \n",
       "50%        2.122829   23.427248   65.372073      38.846160  200.502720   \n",
       "75%        2.431249   43.069666   67.828574      40.153131  215.648404   \n",
       "max        3.214817   63.787240   74.251905      43.907647  291.342587   \n",
       "\n",
       "              bmi  \n",
       "count  150.000000  \n",
       "mean    33.437767  \n",
       "std      3.223508  \n",
       "min     24.906517  \n",
       "25%     31.195089  \n",
       "50%     32.827938  \n",
       "75%     34.451948  \n",
       "max     44.749843  "
      ]
     },
     "execution_count": 16,
     "metadata": {},
     "output_type": "execute_result"
    }
   ],
   "source": [
    "df_B.describe()"
   ]
  },
  {
   "cell_type": "markdown",
   "metadata": {},
   "source": [
    "### 3. Control Bias\n",
    "\n",
    "One potential bias in this particular experiment is to disregard a control group and put all participants in the experimental group, using the before and after BMI changes as evidence of effectiveness. This must be avoided as the absence of a control group could indicate that improvements were not due to the app but a result of external circumstances. Hence, a control group is necessary to isolate the effectiveness of the app."
   ]
  },
  {
   "cell_type": "markdown",
   "metadata": {},
   "source": [
    "## C. Data Collection\n",
    "\n",
    "Participants need to be assessed  - i.e., body measurements taken, physical activity surveyed, and nutrition knowledge tested - before and multiple times after the app install to determine the effectiveness of the app and the length of time for changes to take effect. After-app install assessments will be conducted monthly for three months. Participants will follow the same set of instructions each time they are assessed, for example, how much to eat and drink before body measurements are taken. Lastly, to avoid confounding effects, Group B participants will not share information or have access to Group A participants. \n",
    "\n",
    "One consideration to keep in mind is the timing of the experiment; for example, running the experiment and collecting data at the beginning of the year may impact results since, historically, people are more apt to go through a weight loss program. \n",
    "\n",
    "For reference, the before-app install data for Groups A and B are as follows:"
   ]
  },
  {
   "cell_type": "code",
   "execution_count": 17,
   "metadata": {
    "collapsed": false
   },
   "outputs": [
    {
     "data": {
      "text/html": [
       "<div>\n",
       "<table border=\"1\" class=\"dataframe\">\n",
       "  <thead>\n",
       "    <tr style=\"text-align: right;\">\n",
       "      <th></th>\n",
       "      <th>active_hours</th>\n",
       "      <th>age</th>\n",
       "      <th>ethnicity</th>\n",
       "      <th>gender</th>\n",
       "      <th>height_in</th>\n",
       "      <th>waist_circ_in</th>\n",
       "      <th>weight_lbs</th>\n",
       "      <th>bmi</th>\n",
       "      <th>category</th>\n",
       "    </tr>\n",
       "  </thead>\n",
       "  <tbody>\n",
       "    <tr>\n",
       "      <th>912</th>\n",
       "      <td>2.498024</td>\n",
       "      <td>38.516389</td>\n",
       "      <td>american_indian</td>\n",
       "      <td>male</td>\n",
       "      <td>69.862198</td>\n",
       "      <td>40.208249</td>\n",
       "      <td>208.844308</td>\n",
       "      <td>30.081083</td>\n",
       "      <td>obese</td>\n",
       "    </tr>\n",
       "    <tr>\n",
       "      <th>749</th>\n",
       "      <td>1.718750</td>\n",
       "      <td>35.831134</td>\n",
       "      <td>american_indian</td>\n",
       "      <td>male</td>\n",
       "      <td>68.147928</td>\n",
       "      <td>40.072791</td>\n",
       "      <td>212.227569</td>\n",
       "      <td>32.125642</td>\n",
       "      <td>obese</td>\n",
       "    </tr>\n",
       "    <tr>\n",
       "      <th>338</th>\n",
       "      <td>2.927817</td>\n",
       "      <td>18.339628</td>\n",
       "      <td>american_indian</td>\n",
       "      <td>male</td>\n",
       "      <td>66.094984</td>\n",
       "      <td>41.585901</td>\n",
       "      <td>245.616189</td>\n",
       "      <td>39.525313</td>\n",
       "      <td>obese</td>\n",
       "    </tr>\n",
       "    <tr>\n",
       "      <th>656</th>\n",
       "      <td>1.996380</td>\n",
       "      <td>26.711689</td>\n",
       "      <td>american_indian</td>\n",
       "      <td>male</td>\n",
       "      <td>66.702310</td>\n",
       "      <td>40.046882</td>\n",
       "      <td>198.432193</td>\n",
       "      <td>31.353477</td>\n",
       "      <td>obese</td>\n",
       "    </tr>\n",
       "    <tr>\n",
       "      <th>827</th>\n",
       "      <td>1.877262</td>\n",
       "      <td>38.358871</td>\n",
       "      <td>american_indian</td>\n",
       "      <td>male</td>\n",
       "      <td>69.544528</td>\n",
       "      <td>40.753317</td>\n",
       "      <td>236.106728</td>\n",
       "      <td>34.319247</td>\n",
       "      <td>obese</td>\n",
       "    </tr>\n",
       "  </tbody>\n",
       "</table>\n",
       "</div>"
      ],
      "text/plain": [
       "     active_hours        age        ethnicity gender  height_in  \\\n",
       "912      2.498024  38.516389  american_indian   male  69.862198   \n",
       "749      1.718750  35.831134  american_indian   male  68.147928   \n",
       "338      2.927817  18.339628  american_indian   male  66.094984   \n",
       "656      1.996380  26.711689  american_indian   male  66.702310   \n",
       "827      1.877262  38.358871  american_indian   male  69.544528   \n",
       "\n",
       "     waist_circ_in  weight_lbs        bmi category  \n",
       "912      40.208249  208.844308  30.081083    obese  \n",
       "749      40.072791  212.227569  32.125642    obese  \n",
       "338      41.585901  245.616189  39.525313    obese  \n",
       "656      40.046882  198.432193  31.353477    obese  \n",
       "827      40.753317  236.106728  34.319247    obese  "
      ]
     },
     "execution_count": 17,
     "metadata": {},
     "output_type": "execute_result"
    }
   ],
   "source": [
    "df_A.head()"
   ]
  },
  {
   "cell_type": "code",
   "execution_count": 18,
   "metadata": {
    "collapsed": false
   },
   "outputs": [
    {
     "data": {
      "text/html": [
       "<div>\n",
       "<table border=\"1\" class=\"dataframe\">\n",
       "  <thead>\n",
       "    <tr style=\"text-align: right;\">\n",
       "      <th></th>\n",
       "      <th>active_hours</th>\n",
       "      <th>age</th>\n",
       "      <th>ethnicity</th>\n",
       "      <th>gender</th>\n",
       "      <th>height_in</th>\n",
       "      <th>waist_circ_in</th>\n",
       "      <th>weight_lbs</th>\n",
       "      <th>bmi</th>\n",
       "      <th>category</th>\n",
       "    </tr>\n",
       "  </thead>\n",
       "  <tbody>\n",
       "    <tr>\n",
       "      <th>687</th>\n",
       "      <td>2.060878</td>\n",
       "      <td>37.889147</td>\n",
       "      <td>american_indian</td>\n",
       "      <td>male</td>\n",
       "      <td>63.834363</td>\n",
       "      <td>38.663705</td>\n",
       "      <td>214.445324</td>\n",
       "      <td>36.996688</td>\n",
       "      <td>obese</td>\n",
       "    </tr>\n",
       "    <tr>\n",
       "      <th>391</th>\n",
       "      <td>2.362875</td>\n",
       "      <td>62.725645</td>\n",
       "      <td>american_indian</td>\n",
       "      <td>male</td>\n",
       "      <td>67.102646</td>\n",
       "      <td>40.498373</td>\n",
       "      <td>216.009395</td>\n",
       "      <td>33.724745</td>\n",
       "      <td>obese</td>\n",
       "    </tr>\n",
       "    <tr>\n",
       "      <th>749</th>\n",
       "      <td>1.718750</td>\n",
       "      <td>35.831134</td>\n",
       "      <td>american_indian</td>\n",
       "      <td>male</td>\n",
       "      <td>68.147928</td>\n",
       "      <td>40.072791</td>\n",
       "      <td>212.227569</td>\n",
       "      <td>32.125642</td>\n",
       "      <td>obese</td>\n",
       "    </tr>\n",
       "    <tr>\n",
       "      <th>937</th>\n",
       "      <td>1.909282</td>\n",
       "      <td>39.194974</td>\n",
       "      <td>american_indian</td>\n",
       "      <td>male</td>\n",
       "      <td>67.188154</td>\n",
       "      <td>39.644027</td>\n",
       "      <td>199.477416</td>\n",
       "      <td>31.064448</td>\n",
       "      <td>obese</td>\n",
       "    </tr>\n",
       "    <tr>\n",
       "      <th>591</th>\n",
       "      <td>2.201553</td>\n",
       "      <td>24.006262</td>\n",
       "      <td>american_indian</td>\n",
       "      <td>male</td>\n",
       "      <td>67.263103</td>\n",
       "      <td>42.471987</td>\n",
       "      <td>249.341073</td>\n",
       "      <td>38.743188</td>\n",
       "      <td>obese</td>\n",
       "    </tr>\n",
       "  </tbody>\n",
       "</table>\n",
       "</div>"
      ],
      "text/plain": [
       "     active_hours        age        ethnicity gender  height_in  \\\n",
       "687      2.060878  37.889147  american_indian   male  63.834363   \n",
       "391      2.362875  62.725645  american_indian   male  67.102646   \n",
       "749      1.718750  35.831134  american_indian   male  68.147928   \n",
       "937      1.909282  39.194974  american_indian   male  67.188154   \n",
       "591      2.201553  24.006262  american_indian   male  67.263103   \n",
       "\n",
       "     waist_circ_in  weight_lbs        bmi category  \n",
       "687      38.663705  214.445324  36.996688    obese  \n",
       "391      40.498373  216.009395  33.724745    obese  \n",
       "749      40.072791  212.227569  32.125642    obese  \n",
       "937      39.644027  199.477416  31.064448    obese  \n",
       "591      42.471987  249.341073  38.743188    obese  "
      ]
     },
     "execution_count": 18,
     "metadata": {},
     "output_type": "execute_result"
    }
   ],
   "source": [
    "df_B.head()"
   ]
  },
  {
   "cell_type": "markdown",
   "metadata": {},
   "source": [
    "## D. Data Analysis\n",
    "\n",
    "To conduct the t-test and assess the app's effect, create a hypothetical data set. For the first month, assume Group A's data is only slightly changed, while Group B has an average weight loss of four pounds, i.e., one pound per week brought about by an increase in physical activity."
   ]
  },
  {
   "cell_type": "code",
   "execution_count": 42,
   "metadata": {
    "collapsed": false
   },
   "outputs": [
    {
     "data": {
      "text/html": [
       "<div>\n",
       "<table border=\"1\" class=\"dataframe\">\n",
       "  <thead>\n",
       "    <tr style=\"text-align: right;\">\n",
       "      <th></th>\n",
       "      <th>height_in</th>\n",
       "      <th>weight_lbs</th>\n",
       "      <th>bmi</th>\n",
       "      <th>weight_one</th>\n",
       "      <th>bmi_one</th>\n",
       "      <th>category_one</th>\n",
       "    </tr>\n",
       "  </thead>\n",
       "  <tbody>\n",
       "    <tr>\n",
       "      <th>912</th>\n",
       "      <td>69.862198</td>\n",
       "      <td>208.844308</td>\n",
       "      <td>30.081083</td>\n",
       "      <td>209.138703</td>\n",
       "      <td>30.123487</td>\n",
       "      <td>obese</td>\n",
       "    </tr>\n",
       "    <tr>\n",
       "      <th>749</th>\n",
       "      <td>68.147928</td>\n",
       "      <td>212.227569</td>\n",
       "      <td>32.125642</td>\n",
       "      <td>212.742910</td>\n",
       "      <td>32.203651</td>\n",
       "      <td>obese</td>\n",
       "    </tr>\n",
       "    <tr>\n",
       "      <th>338</th>\n",
       "      <td>66.094984</td>\n",
       "      <td>245.616189</td>\n",
       "      <td>39.525313</td>\n",
       "      <td>243.517385</td>\n",
       "      <td>39.187567</td>\n",
       "      <td>obese</td>\n",
       "    </tr>\n",
       "    <tr>\n",
       "      <th>656</th>\n",
       "      <td>66.702310</td>\n",
       "      <td>198.432193</td>\n",
       "      <td>31.353477</td>\n",
       "      <td>196.644133</td>\n",
       "      <td>31.070953</td>\n",
       "      <td>obese</td>\n",
       "    </tr>\n",
       "    <tr>\n",
       "      <th>827</th>\n",
       "      <td>69.544528</td>\n",
       "      <td>236.106728</td>\n",
       "      <td>34.319247</td>\n",
       "      <td>236.175694</td>\n",
       "      <td>34.329272</td>\n",
       "      <td>obese</td>\n",
       "    </tr>\n",
       "  </tbody>\n",
       "</table>\n",
       "</div>"
      ],
      "text/plain": [
       "     height_in  weight_lbs        bmi  weight_one    bmi_one category_one\n",
       "912  69.862198  208.844308  30.081083  209.138703  30.123487        obese\n",
       "749  68.147928  212.227569  32.125642  212.742910  32.203651        obese\n",
       "338  66.094984  245.616189  39.525313  243.517385  39.187567        obese\n",
       "656  66.702310  198.432193  31.353477  196.644133  31.070953        obese\n",
       "827  69.544528  236.106728  34.319247  236.175694  34.329272        obese"
      ]
     },
     "execution_count": 42,
     "metadata": {},
     "output_type": "execute_result"
    }
   ],
   "source": [
    "# Generate random weight delta for Group A that's added to the intial weight.\n",
    "df_A_one = df_A.loc[:, ['height_in', 'weight_lbs', 'bmi']]\n",
    "df_A_one['weight_one'] = df_A_one['weight_lbs'] + np.random.randn(df_A_one.shape[0])\n",
    "df_A_one['bmi_one'] = (df_A_one['weight_one']/df_A_one['height_in']**2)*703\n",
    "df_A_one['category_one'] = df_A_one['bmi_one'].apply(category)\n",
    "df_A_one.head()"
   ]
  },
  {
   "cell_type": "code",
   "execution_count": 43,
   "metadata": {
    "collapsed": false
   },
   "outputs": [
    {
     "data": {
      "text/html": [
       "<div>\n",
       "<table border=\"1\" class=\"dataframe\">\n",
       "  <thead>\n",
       "    <tr style=\"text-align: right;\">\n",
       "      <th></th>\n",
       "      <th>height_in</th>\n",
       "      <th>weight_lbs</th>\n",
       "      <th>bmi</th>\n",
       "      <th>weight_one</th>\n",
       "      <th>bmi_one</th>\n",
       "      <th>category_one</th>\n",
       "    </tr>\n",
       "  </thead>\n",
       "  <tbody>\n",
       "    <tr>\n",
       "      <th>687</th>\n",
       "      <td>63.834363</td>\n",
       "      <td>214.445324</td>\n",
       "      <td>36.996688</td>\n",
       "      <td>211.609885</td>\n",
       "      <td>36.507511</td>\n",
       "      <td>obese</td>\n",
       "    </tr>\n",
       "    <tr>\n",
       "      <th>391</th>\n",
       "      <td>67.102646</td>\n",
       "      <td>216.009395</td>\n",
       "      <td>33.724745</td>\n",
       "      <td>216.322814</td>\n",
       "      <td>33.773678</td>\n",
       "      <td>obese</td>\n",
       "    </tr>\n",
       "    <tr>\n",
       "      <th>749</th>\n",
       "      <td>68.147928</td>\n",
       "      <td>212.227569</td>\n",
       "      <td>32.125642</td>\n",
       "      <td>204.831686</td>\n",
       "      <td>31.006101</td>\n",
       "      <td>obese</td>\n",
       "    </tr>\n",
       "    <tr>\n",
       "      <th>937</th>\n",
       "      <td>67.188154</td>\n",
       "      <td>199.477416</td>\n",
       "      <td>31.064448</td>\n",
       "      <td>191.879550</td>\n",
       "      <td>29.881239</td>\n",
       "      <td>overweight</td>\n",
       "    </tr>\n",
       "    <tr>\n",
       "      <th>591</th>\n",
       "      <td>67.263103</td>\n",
       "      <td>249.341073</td>\n",
       "      <td>38.743188</td>\n",
       "      <td>243.732414</td>\n",
       "      <td>37.871702</td>\n",
       "      <td>obese</td>\n",
       "    </tr>\n",
       "  </tbody>\n",
       "</table>\n",
       "</div>"
      ],
      "text/plain": [
       "     height_in  weight_lbs        bmi  weight_one    bmi_one category_one\n",
       "687  63.834363  214.445324  36.996688  211.609885  36.507511        obese\n",
       "391  67.102646  216.009395  33.724745  216.322814  33.773678        obese\n",
       "749  68.147928  212.227569  32.125642  204.831686  31.006101        obese\n",
       "937  67.188154  199.477416  31.064448  191.879550  29.881239   overweight\n",
       "591  67.263103  249.341073  38.743188  243.732414  37.871702        obese"
      ]
     },
     "execution_count": 43,
     "metadata": {},
     "output_type": "execute_result"
    }
   ],
   "source": [
    "# Generate random weight loss (four pounds average) for Group B that's added to the intial weight.\n",
    "df_B_one = df_B.loc[:, ['height_in', 'weight_lbs', 'bmi']]\n",
    "df_B_one['weight_one'] = df_B_one['weight_lbs'] + 4*np.random.randn(df_B_one.shape[0])-4\n",
    "df_B_one['bmi_one'] = (df_B_one['weight_one']/df_B_one['height_in']**2)*703\n",
    "df_B_one['category_one'] = df_B_one['bmi_one'].apply(category)\n",
    "df_B_one.head()"
   ]
  },
  {
   "cell_type": "code",
   "execution_count": 44,
   "metadata": {
    "collapsed": false
   },
   "outputs": [
    {
     "data": {
      "text/plain": [
       "Ttest_indResult(statistic=2.2811358958999111, pvalue=0.023245895763410115)"
      ]
     },
     "execution_count": 44,
     "metadata": {},
     "output_type": "execute_result"
    }
   ],
   "source": [
    "from scipy import stats\n",
    "stats.ttest_ind(df_A_one['bmi_one'], df_B_one['bmi_one'])"
   ]
  },
  {
   "cell_type": "markdown",
   "metadata": {},
   "source": [
    "The t-test between Group A's and B's BMIs after one month shows they are not significantly different. One consideration to look into at this point is the Simpson's paradox - a trend could be developing in the different ethnicities but disappears or reverses when these categories are combined. The reasons for Simpson’s paradox happening could be an incorrect experiment setup, or change affects that are not similar across the different categories of participants; for example, same hours spent in physical activity may not result in the same weight change across ethnicities. Continue with monitoring into the second month, and assume rates similar to the first month:"
   ]
  },
  {
   "cell_type": "code",
   "execution_count": 45,
   "metadata": {
    "collapsed": false
   },
   "outputs": [
    {
     "data": {
      "text/html": [
       "<div>\n",
       "<table border=\"1\" class=\"dataframe\">\n",
       "  <thead>\n",
       "    <tr style=\"text-align: right;\">\n",
       "      <th></th>\n",
       "      <th>height_in</th>\n",
       "      <th>weight_one</th>\n",
       "      <th>bmi_one</th>\n",
       "      <th>weight_two</th>\n",
       "      <th>bmi_two</th>\n",
       "      <th>category_two</th>\n",
       "    </tr>\n",
       "  </thead>\n",
       "  <tbody>\n",
       "    <tr>\n",
       "      <th>912</th>\n",
       "      <td>69.862198</td>\n",
       "      <td>209.138703</td>\n",
       "      <td>30.123487</td>\n",
       "      <td>209.310294</td>\n",
       "      <td>30.148202</td>\n",
       "      <td>obese</td>\n",
       "    </tr>\n",
       "    <tr>\n",
       "      <th>749</th>\n",
       "      <td>68.147928</td>\n",
       "      <td>212.742910</td>\n",
       "      <td>32.203651</td>\n",
       "      <td>212.521399</td>\n",
       "      <td>32.170120</td>\n",
       "      <td>obese</td>\n",
       "    </tr>\n",
       "    <tr>\n",
       "      <th>338</th>\n",
       "      <td>66.094984</td>\n",
       "      <td>243.517385</td>\n",
       "      <td>39.187567</td>\n",
       "      <td>242.535567</td>\n",
       "      <td>39.029570</td>\n",
       "      <td>obese</td>\n",
       "    </tr>\n",
       "    <tr>\n",
       "      <th>656</th>\n",
       "      <td>66.702310</td>\n",
       "      <td>196.644133</td>\n",
       "      <td>31.070953</td>\n",
       "      <td>196.122283</td>\n",
       "      <td>30.988497</td>\n",
       "      <td>obese</td>\n",
       "    </tr>\n",
       "    <tr>\n",
       "      <th>827</th>\n",
       "      <td>69.544528</td>\n",
       "      <td>236.175694</td>\n",
       "      <td>34.329272</td>\n",
       "      <td>236.022046</td>\n",
       "      <td>34.306938</td>\n",
       "      <td>obese</td>\n",
       "    </tr>\n",
       "  </tbody>\n",
       "</table>\n",
       "</div>"
      ],
      "text/plain": [
       "     height_in  weight_one    bmi_one  weight_two    bmi_two category_two\n",
       "912  69.862198  209.138703  30.123487  209.310294  30.148202        obese\n",
       "749  68.147928  212.742910  32.203651  212.521399  32.170120        obese\n",
       "338  66.094984  243.517385  39.187567  242.535567  39.029570        obese\n",
       "656  66.702310  196.644133  31.070953  196.122283  30.988497        obese\n",
       "827  69.544528  236.175694  34.329272  236.022046  34.306938        obese"
      ]
     },
     "execution_count": 45,
     "metadata": {},
     "output_type": "execute_result"
    }
   ],
   "source": [
    "df_A_two = df_A_one.loc[:, ['height_in', 'weight_one', 'bmi_one']]\n",
    "df_A_two['weight_two'] = df_A_two['weight_one'] + np.random.randn(df_A_one.shape[0]) \n",
    "df_A_two['bmi_two'] = (df_A_two['weight_two']/df_A_two['height_in']**2)*703\n",
    "df_A_two['category_two'] = df_A_two['bmi_two'].apply(category)\n",
    "df_A_two.head()"
   ]
  },
  {
   "cell_type": "code",
   "execution_count": 46,
   "metadata": {
    "collapsed": false
   },
   "outputs": [
    {
     "data": {
      "text/html": [
       "<div>\n",
       "<table border=\"1\" class=\"dataframe\">\n",
       "  <thead>\n",
       "    <tr style=\"text-align: right;\">\n",
       "      <th></th>\n",
       "      <th>height_in</th>\n",
       "      <th>weight_one</th>\n",
       "      <th>bmi_one</th>\n",
       "      <th>weight_two</th>\n",
       "      <th>bmi_two</th>\n",
       "      <th>category_two</th>\n",
       "    </tr>\n",
       "  </thead>\n",
       "  <tbody>\n",
       "    <tr>\n",
       "      <th>687</th>\n",
       "      <td>63.834363</td>\n",
       "      <td>211.609885</td>\n",
       "      <td>36.507511</td>\n",
       "      <td>203.989991</td>\n",
       "      <td>35.192906</td>\n",
       "      <td>obese</td>\n",
       "    </tr>\n",
       "    <tr>\n",
       "      <th>391</th>\n",
       "      <td>67.102646</td>\n",
       "      <td>216.322814</td>\n",
       "      <td>33.773678</td>\n",
       "      <td>215.605964</td>\n",
       "      <td>33.661759</td>\n",
       "      <td>obese</td>\n",
       "    </tr>\n",
       "    <tr>\n",
       "      <th>749</th>\n",
       "      <td>68.147928</td>\n",
       "      <td>204.831686</td>\n",
       "      <td>31.006101</td>\n",
       "      <td>203.539846</td>\n",
       "      <td>30.810550</td>\n",
       "      <td>obese</td>\n",
       "    </tr>\n",
       "    <tr>\n",
       "      <th>937</th>\n",
       "      <td>67.188154</td>\n",
       "      <td>191.879550</td>\n",
       "      <td>29.881239</td>\n",
       "      <td>186.439939</td>\n",
       "      <td>29.034133</td>\n",
       "      <td>overweight</td>\n",
       "    </tr>\n",
       "    <tr>\n",
       "      <th>591</th>\n",
       "      <td>67.263103</td>\n",
       "      <td>243.732414</td>\n",
       "      <td>37.871702</td>\n",
       "      <td>242.172755</td>\n",
       "      <td>37.629359</td>\n",
       "      <td>obese</td>\n",
       "    </tr>\n",
       "  </tbody>\n",
       "</table>\n",
       "</div>"
      ],
      "text/plain": [
       "     height_in  weight_one    bmi_one  weight_two    bmi_two category_two\n",
       "687  63.834363  211.609885  36.507511  203.989991  35.192906        obese\n",
       "391  67.102646  216.322814  33.773678  215.605964  33.661759        obese\n",
       "749  68.147928  204.831686  31.006101  203.539846  30.810550        obese\n",
       "937  67.188154  191.879550  29.881239  186.439939  29.034133   overweight\n",
       "591  67.263103  243.732414  37.871702  242.172755  37.629359        obese"
      ]
     },
     "execution_count": 46,
     "metadata": {},
     "output_type": "execute_result"
    }
   ],
   "source": [
    "df_B_two = df_B_one.loc[:, ['height_in', 'weight_one', 'bmi_one']]\n",
    "df_B_two['weight_two'] = df_B_two['weight_one'] + 4*np.random.randn(df_B_one.shape[0])-4\n",
    "df_B_two['bmi_two'] = (df_B_two['weight_two']/df_B_two['height_in']**2)*703\n",
    "df_B_two['category_two'] = df_B_two['bmi_two'].apply(category)\n",
    "df_B_two.head()"
   ]
  },
  {
   "cell_type": "code",
   "execution_count": 47,
   "metadata": {
    "collapsed": false
   },
   "outputs": [
    {
     "data": {
      "text/plain": [
       "Ttest_indResult(statistic=4.1330611839206934, pvalue=4.6571013600869134e-05)"
      ]
     },
     "execution_count": 47,
     "metadata": {},
     "output_type": "execute_result"
    }
   ],
   "source": [
    "stats.ttest_ind(df_A_two['bmi_two'], df_B_two['bmi_two'])"
   ]
  },
  {
   "cell_type": "markdown",
   "metadata": {},
   "source": [
    "The experimental and control BMI means are significant on the second month; however, just because significance is achieved doesn't mean the experiment can be concluded. At this point the null hypothesis - the app doesn't have an effect - can be rejected, but it doesn't necessarily mean that the app was effective in leading to Group B participants' weight loss. The experiment continues on to the third month."
   ]
  },
  {
   "cell_type": "code",
   "execution_count": 48,
   "metadata": {
    "collapsed": false
   },
   "outputs": [
    {
     "data": {
      "text/html": [
       "<div>\n",
       "<table border=\"1\" class=\"dataframe\">\n",
       "  <thead>\n",
       "    <tr style=\"text-align: right;\">\n",
       "      <th></th>\n",
       "      <th>height_in</th>\n",
       "      <th>weight_two</th>\n",
       "      <th>bmi_two</th>\n",
       "      <th>weight_three</th>\n",
       "      <th>bmi_three</th>\n",
       "      <th>category_three</th>\n",
       "    </tr>\n",
       "  </thead>\n",
       "  <tbody>\n",
       "    <tr>\n",
       "      <th>912</th>\n",
       "      <td>69.862198</td>\n",
       "      <td>209.310294</td>\n",
       "      <td>30.148202</td>\n",
       "      <td>208.560366</td>\n",
       "      <td>30.040186</td>\n",
       "      <td>obese</td>\n",
       "    </tr>\n",
       "    <tr>\n",
       "      <th>749</th>\n",
       "      <td>68.147928</td>\n",
       "      <td>212.521399</td>\n",
       "      <td>32.170120</td>\n",
       "      <td>212.916792</td>\n",
       "      <td>32.229972</td>\n",
       "      <td>obese</td>\n",
       "    </tr>\n",
       "    <tr>\n",
       "      <th>338</th>\n",
       "      <td>66.094984</td>\n",
       "      <td>242.535567</td>\n",
       "      <td>39.029570</td>\n",
       "      <td>243.840971</td>\n",
       "      <td>39.239639</td>\n",
       "      <td>obese</td>\n",
       "    </tr>\n",
       "    <tr>\n",
       "      <th>656</th>\n",
       "      <td>66.702310</td>\n",
       "      <td>196.122283</td>\n",
       "      <td>30.988497</td>\n",
       "      <td>196.192715</td>\n",
       "      <td>30.999626</td>\n",
       "      <td>obese</td>\n",
       "    </tr>\n",
       "    <tr>\n",
       "      <th>827</th>\n",
       "      <td>69.544528</td>\n",
       "      <td>236.022046</td>\n",
       "      <td>34.306938</td>\n",
       "      <td>236.466914</td>\n",
       "      <td>34.371602</td>\n",
       "      <td>obese</td>\n",
       "    </tr>\n",
       "  </tbody>\n",
       "</table>\n",
       "</div>"
      ],
      "text/plain": [
       "     height_in  weight_two    bmi_two  weight_three  bmi_three category_three\n",
       "912  69.862198  209.310294  30.148202    208.560366  30.040186          obese\n",
       "749  68.147928  212.521399  32.170120    212.916792  32.229972          obese\n",
       "338  66.094984  242.535567  39.029570    243.840971  39.239639          obese\n",
       "656  66.702310  196.122283  30.988497    196.192715  30.999626          obese\n",
       "827  69.544528  236.022046  34.306938    236.466914  34.371602          obese"
      ]
     },
     "execution_count": 48,
     "metadata": {},
     "output_type": "execute_result"
    }
   ],
   "source": [
    "df_A_three = df_A_two.loc[:, ['height_in', 'weight_two', 'bmi_two']]\n",
    "df_A_three['weight_three'] = df_A_three['weight_two'] + np.random.randn(df_A_two.shape[0]) \n",
    "df_A_three['bmi_three'] = (df_A_three['weight_three']/df_A_three['height_in']**2)*703\n",
    "df_A_three['category_three'] = df_A_three['bmi_three'].apply(category)\n",
    "df_A_three.head()"
   ]
  },
  {
   "cell_type": "code",
   "execution_count": 49,
   "metadata": {
    "collapsed": false
   },
   "outputs": [
    {
     "data": {
      "text/html": [
       "<div>\n",
       "<table border=\"1\" class=\"dataframe\">\n",
       "  <thead>\n",
       "    <tr style=\"text-align: right;\">\n",
       "      <th></th>\n",
       "      <th>height_in</th>\n",
       "      <th>weight_two</th>\n",
       "      <th>bmi_two</th>\n",
       "      <th>weight_three</th>\n",
       "      <th>bmi_three</th>\n",
       "      <th>category_three</th>\n",
       "    </tr>\n",
       "  </thead>\n",
       "  <tbody>\n",
       "    <tr>\n",
       "      <th>687</th>\n",
       "      <td>63.834363</td>\n",
       "      <td>203.989991</td>\n",
       "      <td>35.192906</td>\n",
       "      <td>201.522136</td>\n",
       "      <td>34.767145</td>\n",
       "      <td>obese</td>\n",
       "    </tr>\n",
       "    <tr>\n",
       "      <th>391</th>\n",
       "      <td>67.102646</td>\n",
       "      <td>215.605964</td>\n",
       "      <td>33.661759</td>\n",
       "      <td>214.103635</td>\n",
       "      <td>33.427206</td>\n",
       "      <td>obese</td>\n",
       "    </tr>\n",
       "    <tr>\n",
       "      <th>749</th>\n",
       "      <td>68.147928</td>\n",
       "      <td>203.539846</td>\n",
       "      <td>30.810550</td>\n",
       "      <td>210.368987</td>\n",
       "      <td>31.844302</td>\n",
       "      <td>obese</td>\n",
       "    </tr>\n",
       "    <tr>\n",
       "      <th>937</th>\n",
       "      <td>67.188154</td>\n",
       "      <td>186.439939</td>\n",
       "      <td>29.034133</td>\n",
       "      <td>183.474756</td>\n",
       "      <td>28.572367</td>\n",
       "      <td>overweight</td>\n",
       "    </tr>\n",
       "    <tr>\n",
       "      <th>591</th>\n",
       "      <td>67.263103</td>\n",
       "      <td>242.172755</td>\n",
       "      <td>37.629359</td>\n",
       "      <td>235.869325</td>\n",
       "      <td>36.649917</td>\n",
       "      <td>obese</td>\n",
       "    </tr>\n",
       "  </tbody>\n",
       "</table>\n",
       "</div>"
      ],
      "text/plain": [
       "     height_in  weight_two    bmi_two  weight_three  bmi_three category_three\n",
       "687  63.834363  203.989991  35.192906    201.522136  34.767145          obese\n",
       "391  67.102646  215.605964  33.661759    214.103635  33.427206          obese\n",
       "749  68.147928  203.539846  30.810550    210.368987  31.844302          obese\n",
       "937  67.188154  186.439939  29.034133    183.474756  28.572367     overweight\n",
       "591  67.263103  242.172755  37.629359    235.869325  36.649917          obese"
      ]
     },
     "execution_count": 49,
     "metadata": {},
     "output_type": "execute_result"
    }
   ],
   "source": [
    "df_B_three = df_B_two.loc[:, ['height_in', 'weight_two', 'bmi_two']]\n",
    "df_B_three['weight_three'] = df_B_three['weight_two'] + 4*np.random.randn(df_B_two.shape[0])-4 \n",
    "df_B_three['bmi_three'] = (df_B_three['weight_three']/df_B_three['height_in']**2)*703\n",
    "df_B_three['category_three'] = df_B_three['bmi_three'].apply(category)\n",
    "df_B_three.head()"
   ]
  },
  {
   "cell_type": "code",
   "execution_count": 50,
   "metadata": {
    "collapsed": false
   },
   "outputs": [
    {
     "data": {
      "text/plain": [
       "Ttest_indResult(statistic=5.9029777741841087, pvalue=9.7060341772802275e-09)"
      ]
     },
     "execution_count": 50,
     "metadata": {},
     "output_type": "execute_result"
    }
   ],
   "source": [
    "stats.ttest_ind(df_A_three['bmi_three'], df_B_three['bmi_three'])"
   ]
  },
  {
   "cell_type": "markdown",
   "metadata": {},
   "source": [
    "The two groups remain statistically significant. After running different weight change combinations, significance is achieved when the weight difference between groups A and B is five pounds or more. One implication of this observation is the length of time significance can be achieved, which will be relative to the rate at which weight changes occur. For example, if Group A's weight remains consistent and Group B's moves one pound in either direction, it will take five months for the two groups to be significant; if B moves two pounds, it will take two and a half months; and so on.\n",
    "\n",
    "Pointplots showing comparisons between groups A and B for the three months given the initial weight loss assumptions are shown below."
   ]
  },
  {
   "cell_type": "code",
   "execution_count": 51,
   "metadata": {
    "collapsed": false
   },
   "outputs": [],
   "source": [
    "# Combine weight and BMI columns from multiple Group A dataframes.\n",
    "df_A_total = pd.concat([df_A[['gender','weight_lbs','bmi']], df_A_one[['weight_one','bmi_one']], df_A_two[['weight_two','bmi_two']], df_A_three[['weight_three','bmi_three']]], axis=1)\n",
    "df_A_total['group'] = 'A'\n",
    "\n",
    "# Combine weight and BMI columns from multiple Group B dataframes.\n",
    "df_B_total = pd.concat([df_B[['gender','weight_lbs','bmi']], df_B_one[['weight_one','bmi_one']], df_B_two[['weight_two','bmi_two']], df_B_three[['weight_three','bmi_three']]], axis=1)\n",
    "df_B_total['group'] = 'B'\n",
    "\n",
    "# Combine groups A and B dataframes.\n",
    "df_weight = pd.melt(pd.concat([df_A_total, df_B_total]), id_vars=['group','gender'], value_vars=['weight_lbs', 'weight_one', 'weight_two','weight_three'], var_name='month', value_name='weight_pounds')\n",
    "df_bmi = pd.melt(pd.concat([df_A_total, df_B_total]), id_vars=['group','gender'], value_vars=['bmi', 'bmi_one', 'bmi_two','bmi_three'], var_name='month', value_name='bmi')"
   ]
  },
  {
   "cell_type": "code",
   "execution_count": 52,
   "metadata": {
    "collapsed": false
   },
   "outputs": [
    {
     "data": {
      "image/png": "[encoded data removed]",
      "text/plain": [
       "<matplotlib.figure.Figure at 0x24922530860>"
      ]
     },
     "metadata": {},
     "output_type": "display_data"
    }
   ],
   "source": [
    "fig = plt.figure(figsize=(15, 5))\n",
    "ax1 = fig.add_subplot(121)\n",
    "ax2 = fig.add_subplot(122)\n",
    "\n",
    "weight_plot = sns.pointplot(x='month', y='weight_pounds', palette='muted', hue='group', data=df_weight, dodge=True, ax=ax1)\n",
    "weight_plot.set(xticklabels=[0, 1, 2, 3])\n",
    "ax1.set_title('Monthly weight change')\n",
    "bmi_plot = sns.pointplot(x='month', y='bmi', palette='muted', hue='group', data=df_bmi, dodge=True, ax=ax2)\n",
    "bmi_plot.set(xticklabels=[0, 1, 2, 3])\n",
    "ax2.set_title('Monthly bmi change')\n",
    "plt.show()"
   ]
  },
  {
   "cell_type": "markdown",
   "metadata": {
    "collapsed": true
   },
   "source": [
    "# IV. Conclusion\n",
    "\n",
    "Although significance was achieved on the second month, the experiment must be conducted its entire duration, else run the risk of Type I errors (false positive). In this case the pre-determined timeframe was three months, which was derived from practical and theoretical standpoints. Practical considerations include resources available to run the tests and participants' availability, among others. Theoretical considerations include the length of time significant results can be observed in a weight loss program as recorded in scientific literature. However, as stated earlier significance in this experiment points to the app not necessarily being the cause of the weight loss, but rather there is probably not a no-app effect. Further tests can be conducted to isolate the app's effect or to determine the true cause of the weight loss.\n",
    "\n",
    "If the experiment went the other way and results were insignificant, the first point to consider is the sample categories or segments. As pointed out on the first month's results, the Simpson's paradox could explain how the segmented effect is being canceled out by the overall effect, i.e., the results within ethnicities may be different from the overall trend. Depending on resource availability and other factors, the experiment can be conducted for another three months, after which a decision can be made, if the results remain insignificant, to end the experiment and conclude the app to be ineffective.\n",
    "\n",
    "Lastly, in place of the t-test, a z-test could have been conducted in this case since it passes the criteria to do so, namely: known standard deviations (from the randomly generated population) and a large sample size (greater than 30)."
   ]
  },
  {
   "cell_type": "code",
   "execution_count": null,
   "metadata": {
    "collapsed": true
   },
   "outputs": [],
   "source": []
  }
 ],
 "metadata": {
  "anaconda-cloud": {},
  "kernelspec": {
   "display_name": "Python [default]",
   "language": "python",
   "name": "python3"
  },
  "language_info": {
   "codemirror_mode": {
    "name": "ipython",
    "version": 3
   },
   "file_extension": ".py",
   "mimetype": "text/x-python",
   "name": "python",
   "nbconvert_exporter": "python",
   "pygments_lexer": "ipython3",
   "version": "3.5.2"
  }
 },
 "nbformat": 4,
 "nbformat_minor": 1
}
