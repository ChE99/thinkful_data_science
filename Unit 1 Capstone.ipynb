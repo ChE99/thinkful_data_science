{
 "cells": [
  {
   "cell_type": "markdown",
   "metadata": {
    "collapsed": true
   },
   "source": [
    "# I. The Problem\n",
    "\n",
    "How to improve Americans' physical fitness? According to researchers at Penn State and the University of Maryland, who analyzed data from the US Census Bureau, Americans, on average, spend only two hours per week being physically active. This is just half of the four hours a week of physical activity recommended by the Centers for Disease Control (CDC) and Prevention. Strong evidence shows that physical inactivity increases the risk of many adverse health conditions, including major non-communicable diseases such as coronary heart disease, type 2 diabetes, and breast and colon cancers, and shortens life expectancy. Because much of the world's population is inactive, this link presents a major public health issue. "
   ]
  },
  {
   "cell_type": "markdown",
   "metadata": {},
   "source": [
    "# II. The Potential Solution\n",
    "\n",
    "A fitness app that educates users to adopt healthy living habits, motivates them to improve their physical fitness, and tracks their progress."
   ]
  },
  {
   "cell_type": "markdown",
   "metadata": {},
   "source": [
    "# III. The Method of Testing the Solution\n",
    "\n",
    "## A. Metrics Selection\n",
    "\n",
    "The primary success metric will be defined as a reduction in participants' body mass indices (BMI) towards the healthy range (18.5 - 24.9). However, since BMI changes may not necessarily represent participants' health habits, secondary metrics such as physical activity (i.e., active hours per week), muscle mass, and food nutrition knowledge will also be tracked and measured. Possible contradictions between metrics will be monitored - for example: BMI and muscle mass are both health metrics, but weight loss to achieve a healthy BMI range could result in lower muscle mass."
   ]
  },
  {
   "cell_type": "markdown",
   "metadata": {},
   "source": [
    "## B. Sample Identification\n",
    "\n",
    "In the absence of publicly available data on weight across different ethnicities in the U.S., data will be randomly generated to represent the population from which samples will be taken. Data generation will be based on metrics available from federal agencies such as the Centers for Disease Control (CDC) and Prevention, and National Institutes of Health, among others; for example, average height, weight, and waist circumference on U.S. males and females published on the CDC website."
   ]
  },
  {
   "cell_type": "code",
   "execution_count": 1,
   "metadata": {
    "collapsed": true
   },
   "outputs": [],
   "source": [
    "import numpy as np\n",
    "import pandas as pd\n",
    "import matplotlib.pyplot as plt\n",
    "import seaborn as sns\n",
    "%matplotlib inline"
   ]
  },
  {
   "cell_type": "code",
   "execution_count": 2,
   "metadata": {
    "collapsed": false
   },
   "outputs": [
    {
     "data": {
      "text/html": [
       "<div>\n",
       "<table border=\"1\" class=\"dataframe\">\n",
       "  <thead>\n",
       "    <tr style=\"text-align: right;\">\n",
       "      <th></th>\n",
       "      <th>active_hours</th>\n",
       "      <th>age</th>\n",
       "      <th>ethnicity</th>\n",
       "      <th>gender</th>\n",
       "      <th>height_in</th>\n",
       "      <th>waist_circ_in</th>\n",
       "      <th>weight_lbs</th>\n",
       "    </tr>\n",
       "  </thead>\n",
       "  <tbody>\n",
       "    <tr>\n",
       "      <th>0</th>\n",
       "      <td>2.034456</td>\n",
       "      <td>56.215100</td>\n",
       "      <td>asian</td>\n",
       "      <td>male</td>\n",
       "      <td>67.418172</td>\n",
       "      <td>39.400325</td>\n",
       "      <td>243.248681</td>\n",
       "    </tr>\n",
       "    <tr>\n",
       "      <th>1</th>\n",
       "      <td>2.299914</td>\n",
       "      <td>61.191163</td>\n",
       "      <td>native_hawaiian</td>\n",
       "      <td>male</td>\n",
       "      <td>69.457883</td>\n",
       "      <td>40.285621</td>\n",
       "      <td>197.122717</td>\n",
       "    </tr>\n",
       "    <tr>\n",
       "      <th>2</th>\n",
       "      <td>1.876303</td>\n",
       "      <td>52.763637</td>\n",
       "      <td>black</td>\n",
       "      <td>male</td>\n",
       "      <td>65.614105</td>\n",
       "      <td>38.873148</td>\n",
       "      <td>184.175215</td>\n",
       "    </tr>\n",
       "    <tr>\n",
       "      <th>3</th>\n",
       "      <td>1.810099</td>\n",
       "      <td>51.892246</td>\n",
       "      <td>asian</td>\n",
       "      <td>male</td>\n",
       "      <td>65.492886</td>\n",
       "      <td>38.646407</td>\n",
       "      <td>206.647124</td>\n",
       "    </tr>\n",
       "    <tr>\n",
       "      <th>4</th>\n",
       "      <td>2.506292</td>\n",
       "      <td>18.460413</td>\n",
       "      <td>american_indian</td>\n",
       "      <td>male</td>\n",
       "      <td>69.966709</td>\n",
       "      <td>39.878703</td>\n",
       "      <td>192.983147</td>\n",
       "    </tr>\n",
       "  </tbody>\n",
       "</table>\n",
       "</div>"
      ],
      "text/plain": [
       "   active_hours        age        ethnicity gender  height_in  waist_circ_in  \\\n",
       "0      2.034456  56.215100            asian   male  67.418172      39.400325   \n",
       "1      2.299914  61.191163  native_hawaiian   male  69.457883      40.285621   \n",
       "2      1.876303  52.763637            black   male  65.614105      38.873148   \n",
       "3      1.810099  51.892246            asian   male  65.492886      38.646407   \n",
       "4      2.506292  18.460413  american_indian   male  69.966709      39.878703   \n",
       "\n",
       "   weight_lbs  \n",
       "0  243.248681  \n",
       "1  197.122717  \n",
       "2  184.175215  \n",
       "3  206.647124  \n",
       "4  192.983147  "
      ]
     },
     "execution_count": 2,
     "metadata": {},
     "output_type": "execute_result"
    }
   ],
   "source": [
    "# Create two dataframes - male and female - based on U.S. data from the CDC on average height, weight, waist circumference, and active hours per week.\n",
    "np.random.seed(123)\n",
    "a = ['american_indian', 'asian', 'black', 'native_hawaiian', 'white']\n",
    "ethnicity = []\n",
    "for item in range(1,501):\n",
    "    gender = 'male'\n",
    "    height = 2.9*np.random.randn(500)+69.2\n",
    "    weight = 30.7*np.random.randn(500)+195.7\n",
    "    waist_circ = 1.5*np.random.randn(500)+40\n",
    "    active_hours = .5*np.random.randn(500)+2\n",
    "    ethnicity.append(np.random.choice(a))\n",
    "    age = np.random.uniform(18,64,500)    \n",
    "df_male = pd.DataFrame({'gender':gender, 'ethnicity':ethnicity, 'height_in':height, 'weight_lbs':weight, 'age': age, 'waist_circ_in':waist_circ, 'active_hours':active_hours})\n",
    "df_male.head()"
   ]
  },
  {
   "cell_type": "code",
   "execution_count": 3,
   "metadata": {
    "collapsed": false
   },
   "outputs": [
    {
     "data": {
      "text/html": [
       "<div>\n",
       "<table border=\"1\" class=\"dataframe\">\n",
       "  <thead>\n",
       "    <tr style=\"text-align: right;\">\n",
       "      <th></th>\n",
       "      <th>active_hours</th>\n",
       "      <th>age</th>\n",
       "      <th>ethnicity</th>\n",
       "      <th>gender</th>\n",
       "      <th>height_in</th>\n",
       "      <th>waist_circ_in</th>\n",
       "      <th>weight_lbs</th>\n",
       "    </tr>\n",
       "  </thead>\n",
       "  <tbody>\n",
       "    <tr>\n",
       "      <th>0</th>\n",
       "      <td>2.479531</td>\n",
       "      <td>23.711067</td>\n",
       "      <td>american_indian</td>\n",
       "      <td>female</td>\n",
       "      <td>61.624100</td>\n",
       "      <td>37.541360</td>\n",
       "      <td>193.064739</td>\n",
       "    </tr>\n",
       "    <tr>\n",
       "      <th>1</th>\n",
       "      <td>2.146087</td>\n",
       "      <td>18.272936</td>\n",
       "      <td>white</td>\n",
       "      <td>female</td>\n",
       "      <td>59.951749</td>\n",
       "      <td>38.700928</td>\n",
       "      <td>159.387652</td>\n",
       "    </tr>\n",
       "    <tr>\n",
       "      <th>2</th>\n",
       "      <td>1.873809</td>\n",
       "      <td>22.441478</td>\n",
       "      <td>black</td>\n",
       "      <td>female</td>\n",
       "      <td>63.473118</td>\n",
       "      <td>39.777741</td>\n",
       "      <td>138.756409</td>\n",
       "    </tr>\n",
       "    <tr>\n",
       "      <th>3</th>\n",
       "      <td>1.747645</td>\n",
       "      <td>20.359513</td>\n",
       "      <td>white</td>\n",
       "      <td>female</td>\n",
       "      <td>66.656148</td>\n",
       "      <td>37.707290</td>\n",
       "      <td>216.209771</td>\n",
       "    </tr>\n",
       "    <tr>\n",
       "      <th>4</th>\n",
       "      <td>2.460772</td>\n",
       "      <td>23.119882</td>\n",
       "      <td>white</td>\n",
       "      <td>female</td>\n",
       "      <td>64.129918</td>\n",
       "      <td>38.776771</td>\n",
       "      <td>166.589825</td>\n",
       "    </tr>\n",
       "  </tbody>\n",
       "</table>\n",
       "</div>"
      ],
      "text/plain": [
       "   active_hours        age        ethnicity  gender  height_in  waist_circ_in  \\\n",
       "0      2.479531  23.711067  american_indian  female  61.624100      37.541360   \n",
       "1      2.146087  18.272936            white  female  59.951749      38.700928   \n",
       "2      1.873809  22.441478            black  female  63.473118      39.777741   \n",
       "3      1.747645  20.359513            white  female  66.656148      37.707290   \n",
       "4      2.460772  23.119882            white  female  64.129918      38.776771   \n",
       "\n",
       "   weight_lbs  \n",
       "0  193.064739  \n",
       "1  159.387652  \n",
       "2  138.756409  \n",
       "3  216.209771  \n",
       "4  166.589825  "
      ]
     },
     "execution_count": 3,
     "metadata": {},
     "output_type": "execute_result"
    }
   ],
   "source": [
    "a = ['american_indian', 'asian', 'black', 'native_hawaiian', 'white']\n",
    "ethnicity = []\n",
    "for item in range(1,501):\n",
    "    gender = 'female'\n",
    "    height = 2.7*np.random.randn(500)+63.7\n",
    "    weight = 26.4*np.random.randn(500)+168.5\n",
    "    waist_circ = 1.2*np.random.randn(500)+38.1\n",
    "    active_hours = .5*np.random.randn(500)+2\n",
    "    ethnicity.append(np.random.choice(a))\n",
    "    age = np.random.uniform(18,24,500)\n",
    "df_female = pd.DataFrame({'gender':gender, 'ethnicity':ethnicity, 'height_in':height, 'weight_lbs':weight, 'age': age, 'waist_circ_in':waist_circ, 'active_hours':active_hours})\n",
    "df_female.head()"
   ]
  },
  {
   "cell_type": "code",
   "execution_count": 4,
   "metadata": {
    "collapsed": false
   },
   "outputs": [
    {
     "data": {
      "text/html": [
       "<div>\n",
       "<table border=\"1\" class=\"dataframe\">\n",
       "  <thead>\n",
       "    <tr style=\"text-align: right;\">\n",
       "      <th></th>\n",
       "      <th>active_hours</th>\n",
       "      <th>age</th>\n",
       "      <th>ethnicity</th>\n",
       "      <th>gender</th>\n",
       "      <th>height_in</th>\n",
       "      <th>waist_circ_in</th>\n",
       "      <th>weight_lbs</th>\n",
       "      <th>bmi</th>\n",
       "      <th>category</th>\n",
       "    </tr>\n",
       "  </thead>\n",
       "  <tbody>\n",
       "    <tr>\n",
       "      <th>0</th>\n",
       "      <td>2.093131</td>\n",
       "      <td>21.513834</td>\n",
       "      <td>native_hawaiian</td>\n",
       "      <td>female</td>\n",
       "      <td>64.497217</td>\n",
       "      <td>40.732549</td>\n",
       "      <td>190.023922</td>\n",
       "      <td>32.113057</td>\n",
       "      <td>obese</td>\n",
       "    </tr>\n",
       "    <tr>\n",
       "      <th>1</th>\n",
       "      <td>1.782316</td>\n",
       "      <td>36.733658</td>\n",
       "      <td>native_hawaiian</td>\n",
       "      <td>male</td>\n",
       "      <td>71.433011</td>\n",
       "      <td>41.114545</td>\n",
       "      <td>168.381472</td>\n",
       "      <td>23.198063</td>\n",
       "      <td>healthy</td>\n",
       "    </tr>\n",
       "    <tr>\n",
       "      <th>2</th>\n",
       "      <td>0.497552</td>\n",
       "      <td>18.479494</td>\n",
       "      <td>native_hawaiian</td>\n",
       "      <td>female</td>\n",
       "      <td>61.990616</td>\n",
       "      <td>38.220116</td>\n",
       "      <td>162.308289</td>\n",
       "      <td>29.692319</td>\n",
       "      <td>overweight</td>\n",
       "    </tr>\n",
       "    <tr>\n",
       "      <th>3</th>\n",
       "      <td>2.475804</td>\n",
       "      <td>19.166582</td>\n",
       "      <td>asian</td>\n",
       "      <td>female</td>\n",
       "      <td>62.990058</td>\n",
       "      <td>35.744454</td>\n",
       "      <td>132.765283</td>\n",
       "      <td>23.523169</td>\n",
       "      <td>healthy</td>\n",
       "    </tr>\n",
       "    <tr>\n",
       "      <th>4</th>\n",
       "      <td>1.522976</td>\n",
       "      <td>21.204841</td>\n",
       "      <td>native_hawaiian</td>\n",
       "      <td>female</td>\n",
       "      <td>62.266856</td>\n",
       "      <td>37.621163</td>\n",
       "      <td>141.002138</td>\n",
       "      <td>25.566257</td>\n",
       "      <td>overweight</td>\n",
       "    </tr>\n",
       "  </tbody>\n",
       "</table>\n",
       "</div>"
      ],
      "text/plain": [
       "   active_hours        age        ethnicity  gender  height_in  waist_circ_in  \\\n",
       "0      2.093131  21.513834  native_hawaiian  female  64.497217      40.732549   \n",
       "1      1.782316  36.733658  native_hawaiian    male  71.433011      41.114545   \n",
       "2      0.497552  18.479494  native_hawaiian  female  61.990616      38.220116   \n",
       "3      2.475804  19.166582            asian  female  62.990058      35.744454   \n",
       "4      1.522976  21.204841  native_hawaiian  female  62.266856      37.621163   \n",
       "\n",
       "   weight_lbs        bmi    category  \n",
       "0  190.023922  32.113057       obese  \n",
       "1  168.381472  23.198063     healthy  \n",
       "2  162.308289  29.692319  overweight  \n",
       "3  132.765283  23.523169     healthy  \n",
       "4  141.002138  25.566257  overweight  "
      ]
     },
     "execution_count": 4,
     "metadata": {},
     "output_type": "execute_result"
    }
   ],
   "source": [
    "# Combine the male and female dataframes.\n",
    "df = pd.concat([df_male, df_female]).sample(frac=1).reset_index(drop=True)\n",
    "\n",
    "# Calculate and create a BMI column.\n",
    "df['bmi'] = (df['weight_lbs']/df['height_in']**2)*703\n",
    "\n",
    "# Create a category column based on BMI.\n",
    "def category(x):\n",
    "    if x < 18.5:\n",
    "        return 'underweight'\n",
    "    elif 18.5 <= x <= 24.9:\n",
    "        return 'healthy'\n",
    "    elif 25 <= x <= 29.9:\n",
    "        return 'overweight'\n",
    "    else: \n",
    "        return 'obese'\n",
    "df['category'] = df['bmi'].apply(category)\n",
    "df.head()"
   ]
  },
  {
   "cell_type": "code",
   "execution_count": 5,
   "metadata": {
    "collapsed": false
   },
   "outputs": [
    {
     "data": {
      "text/plain": [
       "category     gender\n",
       "healthy      female     98\n",
       "             male       87\n",
       "obese        female    227\n",
       "             male      213\n",
       "overweight   female    168\n",
       "             male      194\n",
       "underweight  female      7\n",
       "             male        6\n",
       "dtype: int64"
      ]
     },
     "execution_count": 5,
     "metadata": {},
     "output_type": "execute_result"
    }
   ],
   "source": [
    "# Show the resulting gender distribution by category.\n",
    "df.groupby(['category', 'gender']).size()"
   ]
  },
  {
   "cell_type": "markdown",
   "metadata": {},
   "source": [
    "The following visualizations present the breakdowns and correlations of the data."
   ]
  },
  {
   "cell_type": "code",
   "execution_count": 6,
   "metadata": {
    "collapsed": false
   },
   "outputs": [
    {
     "data": {
      "image/png": "[encoded data removed]",
      "text/plain": [
       "<matplotlib.figure.Figure at 0x1ffa4fb8160>"
      ]
     },
     "metadata": {},
     "output_type": "display_data"
    }
   ],
   "source": [
    "# Boxplot showing distribution of BMI by gender and category.\n",
    "sns.boxplot(x='category', y='bmi', hue='gender', palette='muted', data=df);"
   ]
  },
  {
   "cell_type": "code",
   "execution_count": 7,
   "metadata": {
    "collapsed": false
   },
   "outputs": [
    {
     "data": {
      "image/png": "[encoded data removed]",
      "text/plain": [
       "<matplotlib.figure.Figure at 0x1ffa5a6e240>"
      ]
     },
     "metadata": {},
     "output_type": "display_data"
    }
   ],
   "source": [
    "# Error bars for weight and gender/category.\n",
    "sns.factorplot(x='category', y='weight_lbs', hue='gender', palette='muted', data=df, kind='bar');"
   ]
  },
  {
   "cell_type": "code",
   "execution_count": 8,
   "metadata": {
    "collapsed": false
   },
   "outputs": [
    {
     "data": {
      "image/png": "[encoded data removed]",
      "text/plain": [
       "<matplotlib.figure.Figure at 0x1ffa5aa2dd8>"
      ]
     },
     "metadata": {},
     "output_type": "display_data"
    }
   ],
   "source": [
    "# Correlation among variables.\n",
    "corr = df.corr()\n",
    "sns.heatmap(corr,annot=True);\n",
    "# The heatmap shows a strong correlation between weight and BMI."
   ]
  },
  {
   "cell_type": "code",
   "execution_count": 9,
   "metadata": {
    "collapsed": false
   },
   "outputs": [
    {
     "data": {
      "image/png": "[encoded data removed]",
      "text/plain": [
       "<matplotlib.figure.Figure at 0x1ffa5b96278>"
      ]
     },
     "metadata": {},
     "output_type": "display_data"
    }
   ],
   "source": [
    "# A pairplot showing correlations among three specific variables.\n",
    "df1 = df[['category','waist_circ_in','bmi','active_hours']]\n",
    "sns.pairplot(df1, hue='category');"
   ]
  },
  {
   "cell_type": "markdown",
   "metadata": {},
   "source": [
    "### 1. Sampling Method\n",
    "\n",
    "Two groups of participants will be randomly sampled. The experimental group (B) will have the app installed on their phones, while the other group (A, control) will not. Both groups should have similar characteristics with respect to age, gender and fitnes levels to ensure changes oberved can be attributed to the app rather than to other factors.\n",
    "\n",
    "Ensure appropriate sampling methods to avoid confounding and ceiling effects. For example, if Group B consisted of mostly educated participants who might be better at implementing the desired results (i.e., confounding), thus inflating the app's effectiveness. Or, participants who are at the peak of physical fitness prior to the start of the experiment (i.e., ceiling), since incremental improvements might not be detected. To avoid such effects and to enable more pronounced BMI changes that can be easily tracked and measured, participants will be selected from the obese population to form groups A and B. \n",
    "\n",
    "### 2. Sample Size\n",
    "\n",
    "Groups A and B will have the same size. A larger sample will be needed to detect small changes and if BMIs fluctuate greatly among participants. Python’s statsmodels module will be used to calculate sample size with the following parameters: \n",
    "\n",
    " - The difference between the null and experimental means is assumed to be 1, i.e., a one-point difference in BMI.\n",
    " - The standard deviation of the difference between the means is assumed to be 3, which yields a standardized effect size of 1/3.\n",
    " - The significance level (alpha) is set to 0.05.\n",
    " - Power is set to 0.8.\n",
    " - The ratio between the two groups' sample sizes is 1, i.e., both groups have the same number of participants.\n",
    " - The alternative is \"two-sided,\" i.e., a two-tailed t-test since the experiment will look into not only the positive effect of the app, but a possible negative effect as well. "
   ]
  },
  {
   "cell_type": "code",
   "execution_count": 10,
   "metadata": {
    "collapsed": false
   },
   "outputs": [
    {
     "name": "stdout",
     "output_type": "stream",
     "text": [
      "Sample size per group: 142.24625223287106\n"
     ]
    }
   ],
   "source": [
    "from statsmodels.stats.power import tt_ind_solve_power\n",
    "\n",
    "mean_diff, sd_diff = 1, 3\n",
    "std_effect_size = mean_diff / sd_diff\n",
    "\n",
    "n = tt_ind_solve_power(effect_size=std_effect_size, alpha=0.05, power=0.8, ratio=1, alternative='two-sided')\n",
    "print('Sample size per group: {}'.format(n))"
   ]
  },
  {
   "cell_type": "code",
   "execution_count": 11,
   "metadata": {
    "collapsed": false
   },
   "outputs": [
    {
     "name": "stdout",
     "output_type": "stream",
     "text": [
      "Sample size per ethnicity: 15\n"
     ]
    }
   ],
   "source": [
    "# Find the total sample size, i.e., first integer greater than n and a multiple of the number of genders (2) and ethnicities (5).\n",
    "sample_size = next(i for i in range(1000) if i > int(np.ceil(n)) and i % 2 == 0 and i % 5 == 0)\n",
    "\n",
    "# The total sample size will be evenly divided among the five ethnicites for each gender.\n",
    "sample_eth = int(sample_size / (2*5))\n",
    "print ('Sample size per ethnicity: {}'.format(sample_eth))"
   ]
  },
  {
   "cell_type": "code",
   "execution_count": 12,
   "metadata": {
    "collapsed": false
   },
   "outputs": [],
   "source": [
    "# Group the obese population by gender and ethnicity.\n",
    "df_omai = df[(df['category'] == 'obese') & (df['gender'] == 'male') & (df['ethnicity'] == 'american_indian')]\n",
    "df_oma = df[(df['category'] == 'obese') & (df['gender'] == 'male') & (df['ethnicity'] == 'asian')]\n",
    "df_omb = df[(df['category'] == 'obese') & (df['gender'] == 'male') & (df['ethnicity'] == 'black')]\n",
    "df_omn = df[(df['category'] == 'obese') & (df['gender'] == 'male') & (df['ethnicity'] == 'native_hawaiian')]\n",
    "df_omw = df[(df['category'] == 'obese') & (df['gender'] == 'male') & (df['ethnicity'] == 'white')]\n",
    "df_ofai = df[(df['category'] == 'obese') & (df['gender'] == 'female') & (df['ethnicity'] == 'american_indian')]\n",
    "df_ofa = df[(df['category'] == 'obese') & (df['gender'] == 'female') & (df['ethnicity'] == 'asian')]\n",
    "df_ofb = df[(df['category'] == 'obese') & (df['gender'] == 'female') & (df['ethnicity'] == 'black')]\n",
    "df_ofn = df[(df['category'] == 'obese') & (df['gender'] == 'female') & (df['ethnicity'] == 'native_hawaiian')]\n",
    "df_ofw = df[(df['category'] == 'obese') & (df['gender'] == 'female') & (df['ethnicity'] == 'white')]\n",
    "\n",
    "# Randomly select 15 participants from each ethicity.\n",
    "df_A_omai = df_omai.take(np.random.permutation(len(df_omai))[:sample_eth])\n",
    "df_A_oma = df_oma.take(np.random.permutation(len(df_oma))[:sample_eth])\n",
    "df_A_omb = df_omb.take(np.random.permutation(len(df_omb))[:sample_eth])\n",
    "df_A_omn = df_omn.take(np.random.permutation(len(df_omn))[:sample_eth])\n",
    "df_A_omw = df_omw.take(np.random.permutation(len(df_omw))[:sample_eth])\n",
    "df_A_ofai = df_ofai.take(np.random.permutation(len(df_ofai))[:sample_eth])\n",
    "df_A_ofa = df_ofa.take(np.random.permutation(len(df_ofa))[:sample_eth])\n",
    "df_A_ofb = df_ofb.take(np.random.permutation(len(df_ofb))[:sample_eth])\n",
    "df_A_ofn = df_ofn.take(np.random.permutation(len(df_ofn))[:sample_eth])\n",
    "df_A_ofw = df_ofw.take(np.random.permutation(len(df_ofw))[:sample_eth])\n",
    "\n",
    "df_B_omai = df_omai.take(np.random.permutation(len(df_omai))[:sample_eth])\n",
    "df_B_oma = df_oma.take(np.random.permutation(len(df_oma))[:sample_eth])\n",
    "df_B_omb = df_omb.take(np.random.permutation(len(df_omb))[:sample_eth])\n",
    "df_B_omn = df_omn.take(np.random.permutation(len(df_omn))[:sample_eth])\n",
    "df_B_omw = df_omw.take(np.random.permutation(len(df_omw))[:sample_eth])\n",
    "df_B_ofai = df_ofai.take(np.random.permutation(len(df_ofai))[:sample_eth])\n",
    "df_B_ofa = df_ofa.take(np.random.permutation(len(df_ofa))[:sample_eth])\n",
    "df_B_ofb = df_ofb.take(np.random.permutation(len(df_ofb))[:sample_eth])\n",
    "df_B_ofn = df_ofn.take(np.random.permutation(len(df_ofn))[:sample_eth])\n",
    "df_B_ofw = df_ofw.take(np.random.permutation(len(df_ofw))[:sample_eth])\n",
    "\n",
    "# Combine corresponding participants and assign to groups A and B.\n",
    "df_A = pd.concat([df_A_omai, df_A_oma, df_A_omb, df_A_omn, df_A_omw, df_A_ofai, df_A_ofa, df_A_ofb, df_A_ofn, df_A_ofw])\n",
    "df_B = pd.concat([df_B_omai, df_B_oma, df_B_omb, df_B_omn, df_B_omw, df_B_ofai, df_B_ofa, df_B_ofb, df_B_ofn, df_B_ofw])"
   ]
  },
  {
   "cell_type": "code",
   "execution_count": 13,
   "metadata": {
    "collapsed": false
   },
   "outputs": [
    {
     "data": {
      "text/plain": [
       "category  gender  ethnicity      \n",
       "obese     female  american_indian    15\n",
       "                  asian              15\n",
       "                  black              15\n",
       "                  native_hawaiian    15\n",
       "                  white              15\n",
       "          male    american_indian    15\n",
       "                  asian              15\n",
       "                  black              15\n",
       "                  native_hawaiian    15\n",
       "                  white              15\n",
       "dtype: int64"
      ]
     },
     "execution_count": 13,
     "metadata": {},
     "output_type": "execute_result"
    }
   ],
   "source": [
    "# Show characteristics of Group A.\n",
    "df_A.groupby(['category', 'gender', 'ethnicity']).size()"
   ]
  },
  {
   "cell_type": "code",
   "execution_count": 14,
   "metadata": {
    "collapsed": false
   },
   "outputs": [
    {
     "data": {
      "text/html": [
       "<div>\n",
       "<table border=\"1\" class=\"dataframe\">\n",
       "  <thead>\n",
       "    <tr style=\"text-align: right;\">\n",
       "      <th></th>\n",
       "      <th>active_hours</th>\n",
       "      <th>age</th>\n",
       "      <th>height_in</th>\n",
       "      <th>waist_circ_in</th>\n",
       "      <th>weight_lbs</th>\n",
       "      <th>bmi</th>\n",
       "    </tr>\n",
       "  </thead>\n",
       "  <tbody>\n",
       "    <tr>\n",
       "      <th>count</th>\n",
       "      <td>150.000000</td>\n",
       "      <td>150.000000</td>\n",
       "      <td>150.000000</td>\n",
       "      <td>150.000000</td>\n",
       "      <td>150.000000</td>\n",
       "      <td>150.000000</td>\n",
       "    </tr>\n",
       "    <tr>\n",
       "      <th>mean</th>\n",
       "      <td>2.014892</td>\n",
       "      <td>30.539432</td>\n",
       "      <td>65.062604</td>\n",
       "      <td>39.131998</td>\n",
       "      <td>202.910419</td>\n",
       "      <td>33.694611</td>\n",
       "    </tr>\n",
       "    <tr>\n",
       "      <th>std</th>\n",
       "      <td>0.442618</td>\n",
       "      <td>12.972005</td>\n",
       "      <td>3.406578</td>\n",
       "      <td>1.753470</td>\n",
       "      <td>26.153328</td>\n",
       "      <td>3.581264</td>\n",
       "    </tr>\n",
       "    <tr>\n",
       "      <th>min</th>\n",
       "      <td>0.837490</td>\n",
       "      <td>18.022945</td>\n",
       "      <td>57.161785</td>\n",
       "      <td>35.393713</td>\n",
       "      <td>148.454698</td>\n",
       "      <td>24.969313</td>\n",
       "    </tr>\n",
       "    <tr>\n",
       "      <th>25%</th>\n",
       "      <td>1.740914</td>\n",
       "      <td>21.552010</td>\n",
       "      <td>62.670940</td>\n",
       "      <td>37.819868</td>\n",
       "      <td>185.380214</td>\n",
       "      <td>31.056520</td>\n",
       "    </tr>\n",
       "    <tr>\n",
       "      <th>50%</th>\n",
       "      <td>2.060045</td>\n",
       "      <td>23.427248</td>\n",
       "      <td>65.215646</td>\n",
       "      <td>38.935431</td>\n",
       "      <td>200.722076</td>\n",
       "      <td>32.804338</td>\n",
       "    </tr>\n",
       "    <tr>\n",
       "      <th>75%</th>\n",
       "      <td>2.325145</td>\n",
       "      <td>39.139476</td>\n",
       "      <td>67.455144</td>\n",
       "      <td>40.202875</td>\n",
       "      <td>217.285020</td>\n",
       "      <td>34.989165</td>\n",
       "    </tr>\n",
       "    <tr>\n",
       "      <th>max</th>\n",
       "      <td>3.119855</td>\n",
       "      <td>63.787240</td>\n",
       "      <td>74.251905</td>\n",
       "      <td>43.444430</td>\n",
       "      <td>314.906424</td>\n",
       "      <td>51.495413</td>\n",
       "    </tr>\n",
       "  </tbody>\n",
       "</table>\n",
       "</div>"
      ],
      "text/plain": [
       "       active_hours         age   height_in  waist_circ_in  weight_lbs  \\\n",
       "count    150.000000  150.000000  150.000000     150.000000  150.000000   \n",
       "mean       2.014892   30.539432   65.062604      39.131998  202.910419   \n",
       "std        0.442618   12.972005    3.406578       1.753470   26.153328   \n",
       "min        0.837490   18.022945   57.161785      35.393713  148.454698   \n",
       "25%        1.740914   21.552010   62.670940      37.819868  185.380214   \n",
       "50%        2.060045   23.427248   65.215646      38.935431  200.722076   \n",
       "75%        2.325145   39.139476   67.455144      40.202875  217.285020   \n",
       "max        3.119855   63.787240   74.251905      43.444430  314.906424   \n",
       "\n",
       "              bmi  \n",
       "count  150.000000  \n",
       "mean    33.694611  \n",
       "std      3.581264  \n",
       "min     24.969313  \n",
       "25%     31.056520  \n",
       "50%     32.804338  \n",
       "75%     34.989165  \n",
       "max     51.495413  "
      ]
     },
     "execution_count": 14,
     "metadata": {},
     "output_type": "execute_result"
    }
   ],
   "source": [
    "df_A.describe()"
   ]
  },
  {
   "cell_type": "code",
   "execution_count": 15,
   "metadata": {
    "collapsed": false
   },
   "outputs": [
    {
     "data": {
      "text/plain": [
       "category  gender  ethnicity      \n",
       "obese     female  american_indian    15\n",
       "                  asian              15\n",
       "                  black              15\n",
       "                  native_hawaiian    15\n",
       "                  white              15\n",
       "          male    american_indian    15\n",
       "                  asian              15\n",
       "                  black              15\n",
       "                  native_hawaiian    15\n",
       "                  white              15\n",
       "dtype: int64"
      ]
     },
     "execution_count": 15,
     "metadata": {},
     "output_type": "execute_result"
    }
   ],
   "source": [
    "# Show characteristics of Group B.\n",
    "df_B.groupby(['category', 'gender', 'ethnicity']).size()"
   ]
  },
  {
   "cell_type": "code",
   "execution_count": 16,
   "metadata": {
    "collapsed": false
   },
   "outputs": [
    {
     "data": {
      "text/html": [
       "<div>\n",
       "<table border=\"1\" class=\"dataframe\">\n",
       "  <thead>\n",
       "    <tr style=\"text-align: right;\">\n",
       "      <th></th>\n",
       "      <th>active_hours</th>\n",
       "      <th>age</th>\n",
       "      <th>height_in</th>\n",
       "      <th>waist_circ_in</th>\n",
       "      <th>weight_lbs</th>\n",
       "      <th>bmi</th>\n",
       "    </tr>\n",
       "  </thead>\n",
       "  <tbody>\n",
       "    <tr>\n",
       "      <th>count</th>\n",
       "      <td>150.000000</td>\n",
       "      <td>150.000000</td>\n",
       "      <td>150.000000</td>\n",
       "      <td>150.000000</td>\n",
       "      <td>150.000000</td>\n",
       "      <td>150.000000</td>\n",
       "    </tr>\n",
       "    <tr>\n",
       "      <th>mean</th>\n",
       "      <td>2.011562</td>\n",
       "      <td>30.795299</td>\n",
       "      <td>65.634577</td>\n",
       "      <td>39.096555</td>\n",
       "      <td>205.113788</td>\n",
       "      <td>33.452376</td>\n",
       "    </tr>\n",
       "    <tr>\n",
       "      <th>std</th>\n",
       "      <td>0.482119</td>\n",
       "      <td>13.764917</td>\n",
       "      <td>3.452273</td>\n",
       "      <td>1.828730</td>\n",
       "      <td>25.063098</td>\n",
       "      <td>3.069609</td>\n",
       "    </tr>\n",
       "    <tr>\n",
       "      <th>min</th>\n",
       "      <td>0.938175</td>\n",
       "      <td>18.103463</td>\n",
       "      <td>57.268001</td>\n",
       "      <td>35.393713</td>\n",
       "      <td>148.504341</td>\n",
       "      <td>24.906517</td>\n",
       "    </tr>\n",
       "    <tr>\n",
       "      <th>25%</th>\n",
       "      <td>1.619950</td>\n",
       "      <td>20.961608</td>\n",
       "      <td>63.357508</td>\n",
       "      <td>37.658077</td>\n",
       "      <td>186.366500</td>\n",
       "      <td>31.263037</td>\n",
       "    </tr>\n",
       "    <tr>\n",
       "      <th>50%</th>\n",
       "      <td>2.044220</td>\n",
       "      <td>23.337197</td>\n",
       "      <td>65.449244</td>\n",
       "      <td>39.095810</td>\n",
       "      <td>204.436902</td>\n",
       "      <td>32.958816</td>\n",
       "    </tr>\n",
       "    <tr>\n",
       "      <th>75%</th>\n",
       "      <td>2.328089</td>\n",
       "      <td>38.119994</td>\n",
       "      <td>68.050167</td>\n",
       "      <td>40.342570</td>\n",
       "      <td>221.088174</td>\n",
       "      <td>34.764460</td>\n",
       "    </tr>\n",
       "    <tr>\n",
       "      <th>max</th>\n",
       "      <td>3.214817</td>\n",
       "      <td>63.787240</td>\n",
       "      <td>74.954121</td>\n",
       "      <td>43.907647</td>\n",
       "      <td>291.342587</td>\n",
       "      <td>44.749843</td>\n",
       "    </tr>\n",
       "  </tbody>\n",
       "</table>\n",
       "</div>"
      ],
      "text/plain": [
       "       active_hours         age   height_in  waist_circ_in  weight_lbs  \\\n",
       "count    150.000000  150.000000  150.000000     150.000000  150.000000   \n",
       "mean       2.011562   30.795299   65.634577      39.096555  205.113788   \n",
       "std        0.482119   13.764917    3.452273       1.828730   25.063098   \n",
       "min        0.938175   18.103463   57.268001      35.393713  148.504341   \n",
       "25%        1.619950   20.961608   63.357508      37.658077  186.366500   \n",
       "50%        2.044220   23.337197   65.449244      39.095810  204.436902   \n",
       "75%        2.328089   38.119994   68.050167      40.342570  221.088174   \n",
       "max        3.214817   63.787240   74.954121      43.907647  291.342587   \n",
       "\n",
       "              bmi  \n",
       "count  150.000000  \n",
       "mean    33.452376  \n",
       "std      3.069609  \n",
       "min     24.906517  \n",
       "25%     31.263037  \n",
       "50%     32.958816  \n",
       "75%     34.764460  \n",
       "max     44.749843  "
      ]
     },
     "execution_count": 16,
     "metadata": {},
     "output_type": "execute_result"
    }
   ],
   "source": [
    "df_B.describe()"
   ]
  },
  {
   "cell_type": "markdown",
   "metadata": {},
   "source": [
    "### 3. Control Bias\n",
    "\n",
    "One potential bias in this particular experiment is to disregard a control group and put all participants in the experimental group, using the before and after BMI changes as evidence of effectiveness. This must be avoided as the absence of a control group could indicate that improvements were not due to the app but a result of external circumstances. Hence, a control group is necessary to isolate the effectiveness of the app."
   ]
  },
  {
   "cell_type": "markdown",
   "metadata": {},
   "source": [
    "## C. Data Collection\n",
    "\n",
    "Participants need to be assessed  - i.e., body measurements taken, physical activity surveyed, and nutrition knowledge tested - before and multiple times after the app install to determine the effectiveness of the app and the length of time for changes to take effect. After-app install assessments will be conducted monthly for three months. Participants will follow the same set of instructions each time they are assessed, for example, how much to eat and drink before body measurements are taken. Lastly, to avoid confounding effects, Group B participants will not share information or have access to Group A participants. \n",
    "\n",
    "One consideration to keep in mind is the timing of the experiment; for example, running the experiment and collecting data at the beginning of the year may impact results since, historically, people are more apt to go through a weight loss program. \n",
    "\n",
    "For reference, the before-app install data for Groups A and B are as follows:"
   ]
  },
  {
   "cell_type": "code",
   "execution_count": 17,
   "metadata": {
    "collapsed": false
   },
   "outputs": [
    {
     "data": {
      "text/html": [
       "<div>\n",
       "<table border=\"1\" class=\"dataframe\">\n",
       "  <thead>\n",
       "    <tr style=\"text-align: right;\">\n",
       "      <th></th>\n",
       "      <th>active_hours</th>\n",
       "      <th>age</th>\n",
       "      <th>ethnicity</th>\n",
       "      <th>gender</th>\n",
       "      <th>height_in</th>\n",
       "      <th>waist_circ_in</th>\n",
       "      <th>weight_lbs</th>\n",
       "      <th>bmi</th>\n",
       "      <th>category</th>\n",
       "    </tr>\n",
       "  </thead>\n",
       "  <tbody>\n",
       "    <tr>\n",
       "      <th>889</th>\n",
       "      <td>1.275008</td>\n",
       "      <td>53.146010</td>\n",
       "      <td>american_indian</td>\n",
       "      <td>male</td>\n",
       "      <td>70.134641</td>\n",
       "      <td>38.974378</td>\n",
       "      <td>223.876048</td>\n",
       "      <td>31.996156</td>\n",
       "      <td>obese</td>\n",
       "    </tr>\n",
       "    <tr>\n",
       "      <th>677</th>\n",
       "      <td>2.078549</td>\n",
       "      <td>33.276111</td>\n",
       "      <td>american_indian</td>\n",
       "      <td>male</td>\n",
       "      <td>65.824258</td>\n",
       "      <td>40.993422</td>\n",
       "      <td>240.450905</td>\n",
       "      <td>39.013040</td>\n",
       "      <td>obese</td>\n",
       "    </tr>\n",
       "    <tr>\n",
       "      <th>328</th>\n",
       "      <td>2.021453</td>\n",
       "      <td>23.157121</td>\n",
       "      <td>american_indian</td>\n",
       "      <td>male</td>\n",
       "      <td>66.491228</td>\n",
       "      <td>39.673147</td>\n",
       "      <td>208.441419</td>\n",
       "      <td>33.144437</td>\n",
       "      <td>obese</td>\n",
       "    </tr>\n",
       "    <tr>\n",
       "      <th>630</th>\n",
       "      <td>2.495771</td>\n",
       "      <td>36.340319</td>\n",
       "      <td>american_indian</td>\n",
       "      <td>male</td>\n",
       "      <td>68.437252</td>\n",
       "      <td>39.610314</td>\n",
       "      <td>246.648255</td>\n",
       "      <td>37.021009</td>\n",
       "      <td>obese</td>\n",
       "    </tr>\n",
       "    <tr>\n",
       "      <th>749</th>\n",
       "      <td>1.839619</td>\n",
       "      <td>29.228078</td>\n",
       "      <td>american_indian</td>\n",
       "      <td>male</td>\n",
       "      <td>67.223794</td>\n",
       "      <td>43.444430</td>\n",
       "      <td>195.460833</td>\n",
       "      <td>30.406682</td>\n",
       "      <td>obese</td>\n",
       "    </tr>\n",
       "  </tbody>\n",
       "</table>\n",
       "</div>"
      ],
      "text/plain": [
       "     active_hours        age        ethnicity gender  height_in  \\\n",
       "889      1.275008  53.146010  american_indian   male  70.134641   \n",
       "677      2.078549  33.276111  american_indian   male  65.824258   \n",
       "328      2.021453  23.157121  american_indian   male  66.491228   \n",
       "630      2.495771  36.340319  american_indian   male  68.437252   \n",
       "749      1.839619  29.228078  american_indian   male  67.223794   \n",
       "\n",
       "     waist_circ_in  weight_lbs        bmi category  \n",
       "889      38.974378  223.876048  31.996156    obese  \n",
       "677      40.993422  240.450905  39.013040    obese  \n",
       "328      39.673147  208.441419  33.144437    obese  \n",
       "630      39.610314  246.648255  37.021009    obese  \n",
       "749      43.444430  195.460833  30.406682    obese  "
      ]
     },
     "execution_count": 17,
     "metadata": {},
     "output_type": "execute_result"
    }
   ],
   "source": [
    "df_A.head()"
   ]
  },
  {
   "cell_type": "code",
   "execution_count": 18,
   "metadata": {
    "collapsed": false
   },
   "outputs": [
    {
     "data": {
      "text/html": [
       "<div>\n",
       "<table border=\"1\" class=\"dataframe\">\n",
       "  <thead>\n",
       "    <tr style=\"text-align: right;\">\n",
       "      <th></th>\n",
       "      <th>active_hours</th>\n",
       "      <th>age</th>\n",
       "      <th>ethnicity</th>\n",
       "      <th>gender</th>\n",
       "      <th>height_in</th>\n",
       "      <th>waist_circ_in</th>\n",
       "      <th>weight_lbs</th>\n",
       "      <th>bmi</th>\n",
       "      <th>category</th>\n",
       "    </tr>\n",
       "  </thead>\n",
       "  <tbody>\n",
       "    <tr>\n",
       "      <th>656</th>\n",
       "      <td>1.587468</td>\n",
       "      <td>28.922829</td>\n",
       "      <td>american_indian</td>\n",
       "      <td>male</td>\n",
       "      <td>67.726538</td>\n",
       "      <td>43.364611</td>\n",
       "      <td>247.325533</td>\n",
       "      <td>37.905875</td>\n",
       "      <td>obese</td>\n",
       "    </tr>\n",
       "    <tr>\n",
       "      <th>413</th>\n",
       "      <td>2.631725</td>\n",
       "      <td>56.503244</td>\n",
       "      <td>american_indian</td>\n",
       "      <td>male</td>\n",
       "      <td>68.199152</td>\n",
       "      <td>40.869516</td>\n",
       "      <td>223.004535</td>\n",
       "      <td>33.706299</td>\n",
       "      <td>obese</td>\n",
       "    </tr>\n",
       "    <tr>\n",
       "      <th>677</th>\n",
       "      <td>2.078549</td>\n",
       "      <td>33.276111</td>\n",
       "      <td>american_indian</td>\n",
       "      <td>male</td>\n",
       "      <td>65.824258</td>\n",
       "      <td>40.993422</td>\n",
       "      <td>240.450905</td>\n",
       "      <td>39.013040</td>\n",
       "      <td>obese</td>\n",
       "    </tr>\n",
       "    <tr>\n",
       "      <th>901</th>\n",
       "      <td>1.996380</td>\n",
       "      <td>26.711689</td>\n",
       "      <td>american_indian</td>\n",
       "      <td>male</td>\n",
       "      <td>66.702310</td>\n",
       "      <td>40.046882</td>\n",
       "      <td>198.432193</td>\n",
       "      <td>31.353477</td>\n",
       "      <td>obese</td>\n",
       "    </tr>\n",
       "    <tr>\n",
       "      <th>530</th>\n",
       "      <td>1.943245</td>\n",
       "      <td>28.753778</td>\n",
       "      <td>american_indian</td>\n",
       "      <td>male</td>\n",
       "      <td>69.547026</td>\n",
       "      <td>38.230154</td>\n",
       "      <td>213.983309</td>\n",
       "      <td>31.101268</td>\n",
       "      <td>obese</td>\n",
       "    </tr>\n",
       "  </tbody>\n",
       "</table>\n",
       "</div>"
      ],
      "text/plain": [
       "     active_hours        age        ethnicity gender  height_in  \\\n",
       "656      1.587468  28.922829  american_indian   male  67.726538   \n",
       "413      2.631725  56.503244  american_indian   male  68.199152   \n",
       "677      2.078549  33.276111  american_indian   male  65.824258   \n",
       "901      1.996380  26.711689  american_indian   male  66.702310   \n",
       "530      1.943245  28.753778  american_indian   male  69.547026   \n",
       "\n",
       "     waist_circ_in  weight_lbs        bmi category  \n",
       "656      43.364611  247.325533  37.905875    obese  \n",
       "413      40.869516  223.004535  33.706299    obese  \n",
       "677      40.993422  240.450905  39.013040    obese  \n",
       "901      40.046882  198.432193  31.353477    obese  \n",
       "530      38.230154  213.983309  31.101268    obese  "
      ]
     },
     "execution_count": 18,
     "metadata": {},
     "output_type": "execute_result"
    }
   ],
   "source": [
    "df_B.head()"
   ]
  },
  {
   "cell_type": "markdown",
   "metadata": {},
   "source": [
    "## D. Data Analysis\n",
    "\n",
    "To conduct the t-test and assess the app's effect, create a hypothetical data set. For the first month, assume Group A's data is only slightly changed, while Group B has an average weight loss of four pounds, i.e., one pound per week brought about by an increase in physical activity."
   ]
  },
  {
   "cell_type": "code",
   "execution_count": 19,
   "metadata": {
    "collapsed": false
   },
   "outputs": [
    {
     "data": {
      "text/html": [
       "<div>\n",
       "<table border=\"1\" class=\"dataframe\">\n",
       "  <thead>\n",
       "    <tr style=\"text-align: right;\">\n",
       "      <th></th>\n",
       "      <th>height_in</th>\n",
       "      <th>weight_lbs</th>\n",
       "      <th>bmi</th>\n",
       "      <th>weight_one</th>\n",
       "      <th>bmi_one</th>\n",
       "      <th>category_one</th>\n",
       "    </tr>\n",
       "  </thead>\n",
       "  <tbody>\n",
       "    <tr>\n",
       "      <th>889</th>\n",
       "      <td>70.134641</td>\n",
       "      <td>223.876048</td>\n",
       "      <td>31.996156</td>\n",
       "      <td>223.138487</td>\n",
       "      <td>31.890744</td>\n",
       "      <td>obese</td>\n",
       "    </tr>\n",
       "    <tr>\n",
       "      <th>677</th>\n",
       "      <td>65.824258</td>\n",
       "      <td>240.450905</td>\n",
       "      <td>39.013040</td>\n",
       "      <td>242.168527</td>\n",
       "      <td>39.291724</td>\n",
       "      <td>obese</td>\n",
       "    </tr>\n",
       "    <tr>\n",
       "      <th>328</th>\n",
       "      <td>66.491228</td>\n",
       "      <td>208.441419</td>\n",
       "      <td>33.144437</td>\n",
       "      <td>208.552924</td>\n",
       "      <td>33.162167</td>\n",
       "      <td>obese</td>\n",
       "    </tr>\n",
       "    <tr>\n",
       "      <th>630</th>\n",
       "      <td>68.437252</td>\n",
       "      <td>246.648255</td>\n",
       "      <td>37.021009</td>\n",
       "      <td>247.107562</td>\n",
       "      <td>37.089949</td>\n",
       "      <td>obese</td>\n",
       "    </tr>\n",
       "    <tr>\n",
       "      <th>749</th>\n",
       "      <td>67.223794</td>\n",
       "      <td>195.460833</td>\n",
       "      <td>30.406682</td>\n",
       "      <td>195.774136</td>\n",
       "      <td>30.455421</td>\n",
       "      <td>obese</td>\n",
       "    </tr>\n",
       "  </tbody>\n",
       "</table>\n",
       "</div>"
      ],
      "text/plain": [
       "     height_in  weight_lbs        bmi  weight_one    bmi_one category_one\n",
       "889  70.134641  223.876048  31.996156  223.138487  31.890744        obese\n",
       "677  65.824258  240.450905  39.013040  242.168527  39.291724        obese\n",
       "328  66.491228  208.441419  33.144437  208.552924  33.162167        obese\n",
       "630  68.437252  246.648255  37.021009  247.107562  37.089949        obese\n",
       "749  67.223794  195.460833  30.406682  195.774136  30.455421        obese"
      ]
     },
     "execution_count": 19,
     "metadata": {},
     "output_type": "execute_result"
    }
   ],
   "source": [
    "pd.options.mode.chained_assignment = None\n",
    "\n",
    "# Generate random weight delta for Group A that's added to the intial weight.\n",
    "df_A_one = df_A[['height_in', 'weight_lbs', 'bmi']]\n",
    "df_A_one['weight_one'] = df_A_one['weight_lbs'] + np.random.randn(df_A_one.shape[0])\n",
    "df_A_one['bmi_one'] = (df_A_one['weight_one']/df_A_one['height_in']**2)*703\n",
    "df_A_one['category_one'] = df_A_one['bmi_one'].apply(category)\n",
    "df_A_one.head()"
   ]
  },
  {
   "cell_type": "code",
   "execution_count": 20,
   "metadata": {
    "collapsed": false
   },
   "outputs": [
    {
     "data": {
      "text/html": [
       "<div>\n",
       "<table border=\"1\" class=\"dataframe\">\n",
       "  <thead>\n",
       "    <tr style=\"text-align: right;\">\n",
       "      <th></th>\n",
       "      <th>height_in</th>\n",
       "      <th>weight_lbs</th>\n",
       "      <th>bmi</th>\n",
       "      <th>weight_one</th>\n",
       "      <th>bmi_one</th>\n",
       "      <th>category_one</th>\n",
       "    </tr>\n",
       "  </thead>\n",
       "  <tbody>\n",
       "    <tr>\n",
       "      <th>656</th>\n",
       "      <td>67.726538</td>\n",
       "      <td>247.325533</td>\n",
       "      <td>37.905875</td>\n",
       "      <td>246.941425</td>\n",
       "      <td>37.847005</td>\n",
       "      <td>obese</td>\n",
       "    </tr>\n",
       "    <tr>\n",
       "      <th>413</th>\n",
       "      <td>68.199152</td>\n",
       "      <td>223.004535</td>\n",
       "      <td>33.706299</td>\n",
       "      <td>219.315097</td>\n",
       "      <td>33.148654</td>\n",
       "      <td>obese</td>\n",
       "    </tr>\n",
       "    <tr>\n",
       "      <th>677</th>\n",
       "      <td>65.824258</td>\n",
       "      <td>240.450905</td>\n",
       "      <td>39.013040</td>\n",
       "      <td>235.939139</td>\n",
       "      <td>38.281009</td>\n",
       "      <td>obese</td>\n",
       "    </tr>\n",
       "    <tr>\n",
       "      <th>901</th>\n",
       "      <td>66.702310</td>\n",
       "      <td>198.432193</td>\n",
       "      <td>31.353477</td>\n",
       "      <td>198.099982</td>\n",
       "      <td>31.300986</td>\n",
       "      <td>obese</td>\n",
       "    </tr>\n",
       "    <tr>\n",
       "      <th>530</th>\n",
       "      <td>69.547026</td>\n",
       "      <td>213.983309</td>\n",
       "      <td>31.101268</td>\n",
       "      <td>203.700310</td>\n",
       "      <td>29.606692</td>\n",
       "      <td>overweight</td>\n",
       "    </tr>\n",
       "  </tbody>\n",
       "</table>\n",
       "</div>"
      ],
      "text/plain": [
       "     height_in  weight_lbs        bmi  weight_one    bmi_one category_one\n",
       "656  67.726538  247.325533  37.905875  246.941425  37.847005        obese\n",
       "413  68.199152  223.004535  33.706299  219.315097  33.148654        obese\n",
       "677  65.824258  240.450905  39.013040  235.939139  38.281009        obese\n",
       "901  66.702310  198.432193  31.353477  198.099982  31.300986        obese\n",
       "530  69.547026  213.983309  31.101268  203.700310  29.606692   overweight"
      ]
     },
     "execution_count": 20,
     "metadata": {},
     "output_type": "execute_result"
    }
   ],
   "source": [
    "# Generate random weight loss (four pounds average) for Group B that's added to the intial weight.\n",
    "df_B_one = df_B[['height_in', 'weight_lbs', 'bmi']]\n",
    "df_B_one['weight_one'] = df_B_one['weight_lbs'] + 4*np.random.randn(df_B_one.shape[0])-4\n",
    "df_B_one['bmi_one'] = (df_B_one['weight_one']/df_B_one['height_in']**2)*703\n",
    "df_B_one['category_one'] = df_B_one['bmi_one'].apply(category)\n",
    "df_B_one.head()"
   ]
  },
  {
   "cell_type": "code",
   "execution_count": 21,
   "metadata": {
    "collapsed": false
   },
   "outputs": [
    {
     "data": {
      "text/plain": [
       "Ttest_indResult(statistic=2.4605141754997497, pvalue=0.014440955374631755)"
      ]
     },
     "execution_count": 21,
     "metadata": {},
     "output_type": "execute_result"
    }
   ],
   "source": [
    "from scipy import stats\n",
    "stats.ttest_ind(df_A_one['bmi_one'], df_B_one['bmi_one'])"
   ]
  },
  {
   "cell_type": "markdown",
   "metadata": {},
   "source": [
    "The t-test between Group A's and B's BMIs after one month shows they are not significantly different. One consideration to look into at this point is the Simpson's paradox - a trend could be developing in the different ethnicities but disappears or reverses when these categories are combined. The reasons for Simpson’s paradox happening could be an incorrect experiment setup, or change affects that are not similar across the different categories of participants; for example, same hours spent in physical activity may not result in the same weight change across ethnicities. Continue with monitoring into the second month, and assume rates similar to the first month:"
   ]
  },
  {
   "cell_type": "code",
   "execution_count": 22,
   "metadata": {
    "collapsed": false
   },
   "outputs": [
    {
     "data": {
      "text/html": [
       "<div>\n",
       "<table border=\"1\" class=\"dataframe\">\n",
       "  <thead>\n",
       "    <tr style=\"text-align: right;\">\n",
       "      <th></th>\n",
       "      <th>height_in</th>\n",
       "      <th>weight_one</th>\n",
       "      <th>bmi_one</th>\n",
       "      <th>weight_two</th>\n",
       "      <th>bmi_two</th>\n",
       "      <th>category_two</th>\n",
       "    </tr>\n",
       "  </thead>\n",
       "  <tbody>\n",
       "    <tr>\n",
       "      <th>889</th>\n",
       "      <td>70.134641</td>\n",
       "      <td>223.138487</td>\n",
       "      <td>31.890744</td>\n",
       "      <td>224.027169</td>\n",
       "      <td>32.017754</td>\n",
       "      <td>obese</td>\n",
       "    </tr>\n",
       "    <tr>\n",
       "      <th>677</th>\n",
       "      <td>65.824258</td>\n",
       "      <td>242.168527</td>\n",
       "      <td>39.291724</td>\n",
       "      <td>241.151963</td>\n",
       "      <td>39.126787</td>\n",
       "      <td>obese</td>\n",
       "    </tr>\n",
       "    <tr>\n",
       "      <th>328</th>\n",
       "      <td>66.491228</td>\n",
       "      <td>208.552924</td>\n",
       "      <td>33.162167</td>\n",
       "      <td>208.565153</td>\n",
       "      <td>33.164112</td>\n",
       "      <td>obese</td>\n",
       "    </tr>\n",
       "    <tr>\n",
       "      <th>630</th>\n",
       "      <td>68.437252</td>\n",
       "      <td>247.107562</td>\n",
       "      <td>37.089949</td>\n",
       "      <td>247.165216</td>\n",
       "      <td>37.098603</td>\n",
       "      <td>obese</td>\n",
       "    </tr>\n",
       "    <tr>\n",
       "      <th>749</th>\n",
       "      <td>67.223794</td>\n",
       "      <td>195.774136</td>\n",
       "      <td>30.455421</td>\n",
       "      <td>196.740503</td>\n",
       "      <td>30.605753</td>\n",
       "      <td>obese</td>\n",
       "    </tr>\n",
       "  </tbody>\n",
       "</table>\n",
       "</div>"
      ],
      "text/plain": [
       "     height_in  weight_one    bmi_one  weight_two    bmi_two category_two\n",
       "889  70.134641  223.138487  31.890744  224.027169  32.017754        obese\n",
       "677  65.824258  242.168527  39.291724  241.151963  39.126787        obese\n",
       "328  66.491228  208.552924  33.162167  208.565153  33.164112        obese\n",
       "630  68.437252  247.107562  37.089949  247.165216  37.098603        obese\n",
       "749  67.223794  195.774136  30.455421  196.740503  30.605753        obese"
      ]
     },
     "execution_count": 22,
     "metadata": {},
     "output_type": "execute_result"
    }
   ],
   "source": [
    "df_A_two = df_A_one[['height_in', 'weight_one', 'bmi_one']]\n",
    "df_A_two['weight_two'] = df_A_two['weight_one'] + np.random.randn(df_A_one.shape[0]) \n",
    "df_A_two['bmi_two'] = (df_A_two['weight_two']/df_A_two['height_in']**2)*703\n",
    "df_A_two['category_two'] = df_A_two['bmi_two'].apply(category)\n",
    "df_A_two.head()"
   ]
  },
  {
   "cell_type": "code",
   "execution_count": 23,
   "metadata": {
    "collapsed": false
   },
   "outputs": [
    {
     "data": {
      "text/html": [
       "<div>\n",
       "<table border=\"1\" class=\"dataframe\">\n",
       "  <thead>\n",
       "    <tr style=\"text-align: right;\">\n",
       "      <th></th>\n",
       "      <th>height_in</th>\n",
       "      <th>weight_one</th>\n",
       "      <th>bmi_one</th>\n",
       "      <th>weight_two</th>\n",
       "      <th>bmi_two</th>\n",
       "      <th>category_two</th>\n",
       "    </tr>\n",
       "  </thead>\n",
       "  <tbody>\n",
       "    <tr>\n",
       "      <th>656</th>\n",
       "      <td>67.726538</td>\n",
       "      <td>246.941425</td>\n",
       "      <td>37.847005</td>\n",
       "      <td>239.038493</td>\n",
       "      <td>36.635777</td>\n",
       "      <td>obese</td>\n",
       "    </tr>\n",
       "    <tr>\n",
       "      <th>413</th>\n",
       "      <td>68.199152</td>\n",
       "      <td>219.315097</td>\n",
       "      <td>33.148654</td>\n",
       "      <td>215.381575</td>\n",
       "      <td>32.554117</td>\n",
       "      <td>obese</td>\n",
       "    </tr>\n",
       "    <tr>\n",
       "      <th>677</th>\n",
       "      <td>65.824258</td>\n",
       "      <td>235.939139</td>\n",
       "      <td>38.281009</td>\n",
       "      <td>231.371206</td>\n",
       "      <td>37.539864</td>\n",
       "      <td>obese</td>\n",
       "    </tr>\n",
       "    <tr>\n",
       "      <th>901</th>\n",
       "      <td>66.702310</td>\n",
       "      <td>198.099982</td>\n",
       "      <td>31.300986</td>\n",
       "      <td>197.983810</td>\n",
       "      <td>31.282630</td>\n",
       "      <td>obese</td>\n",
       "    </tr>\n",
       "    <tr>\n",
       "      <th>530</th>\n",
       "      <td>69.547026</td>\n",
       "      <td>203.700310</td>\n",
       "      <td>29.606692</td>\n",
       "      <td>210.088210</td>\n",
       "      <td>30.535138</td>\n",
       "      <td>obese</td>\n",
       "    </tr>\n",
       "  </tbody>\n",
       "</table>\n",
       "</div>"
      ],
      "text/plain": [
       "     height_in  weight_one    bmi_one  weight_two    bmi_two category_two\n",
       "656  67.726538  246.941425  37.847005  239.038493  36.635777        obese\n",
       "413  68.199152  219.315097  33.148654  215.381575  32.554117        obese\n",
       "677  65.824258  235.939139  38.281009  231.371206  37.539864        obese\n",
       "901  66.702310  198.099982  31.300986  197.983810  31.282630        obese\n",
       "530  69.547026  203.700310  29.606692  210.088210  30.535138        obese"
      ]
     },
     "execution_count": 23,
     "metadata": {},
     "output_type": "execute_result"
    }
   ],
   "source": [
    "df_B_two = df_B_one[['height_in', 'weight_one', 'bmi_one']]\n",
    "df_B_two['weight_two'] = df_B_two['weight_one'] + 4*np.random.randn(df_B_one.shape[0])-4\n",
    "df_B_two['bmi_two'] = (df_B_two['weight_two']/df_B_two['height_in']**2)*703\n",
    "df_B_two['category_two'] = df_B_two['bmi_two'].apply(category)\n",
    "df_B_two.head()"
   ]
  },
  {
   "cell_type": "code",
   "execution_count": 24,
   "metadata": {
    "collapsed": false
   },
   "outputs": [
    {
     "data": {
      "text/plain": [
       "Ttest_indResult(statistic=4.0578032065400933, pvalue=6.3335489117506686e-05)"
      ]
     },
     "execution_count": 24,
     "metadata": {},
     "output_type": "execute_result"
    }
   ],
   "source": [
    "stats.ttest_ind(df_A_two['bmi_two'], df_B_two['bmi_two'])"
   ]
  },
  {
   "cell_type": "markdown",
   "metadata": {},
   "source": [
    "The experimental and control BMI means are significant on the second month; however, just because significance is achieved doesn't mean the experiment can be concluded. At this point the null hypothesis - the app doesn't have an effect - can be rejected, but it doesn't necessarily mean that the app was effective in leading to Group B participants' weight loss. The experiment continues on to the third month."
   ]
  },
  {
   "cell_type": "code",
   "execution_count": 25,
   "metadata": {
    "collapsed": false
   },
   "outputs": [
    {
     "data": {
      "text/html": [
       "<div>\n",
       "<table border=\"1\" class=\"dataframe\">\n",
       "  <thead>\n",
       "    <tr style=\"text-align: right;\">\n",
       "      <th></th>\n",
       "      <th>height_in</th>\n",
       "      <th>weight_two</th>\n",
       "      <th>bmi_two</th>\n",
       "      <th>weight_three</th>\n",
       "      <th>bmi_three</th>\n",
       "      <th>category_three</th>\n",
       "    </tr>\n",
       "  </thead>\n",
       "  <tbody>\n",
       "    <tr>\n",
       "      <th>889</th>\n",
       "      <td>70.134641</td>\n",
       "      <td>224.027169</td>\n",
       "      <td>32.017754</td>\n",
       "      <td>223.131285</td>\n",
       "      <td>31.889715</td>\n",
       "      <td>obese</td>\n",
       "    </tr>\n",
       "    <tr>\n",
       "      <th>677</th>\n",
       "      <td>65.824258</td>\n",
       "      <td>241.151963</td>\n",
       "      <td>39.126787</td>\n",
       "      <td>243.087790</td>\n",
       "      <td>39.440874</td>\n",
       "      <td>obese</td>\n",
       "    </tr>\n",
       "    <tr>\n",
       "      <th>328</th>\n",
       "      <td>66.491228</td>\n",
       "      <td>208.565153</td>\n",
       "      <td>33.164112</td>\n",
       "      <td>208.108805</td>\n",
       "      <td>33.091547</td>\n",
       "      <td>obese</td>\n",
       "    </tr>\n",
       "    <tr>\n",
       "      <th>630</th>\n",
       "      <td>68.437252</td>\n",
       "      <td>247.165216</td>\n",
       "      <td>37.098603</td>\n",
       "      <td>247.285658</td>\n",
       "      <td>37.116681</td>\n",
       "      <td>obese</td>\n",
       "    </tr>\n",
       "    <tr>\n",
       "      <th>749</th>\n",
       "      <td>67.223794</td>\n",
       "      <td>196.740503</td>\n",
       "      <td>30.605753</td>\n",
       "      <td>196.585574</td>\n",
       "      <td>30.581651</td>\n",
       "      <td>obese</td>\n",
       "    </tr>\n",
       "  </tbody>\n",
       "</table>\n",
       "</div>"
      ],
      "text/plain": [
       "     height_in  weight_two    bmi_two  weight_three  bmi_three category_three\n",
       "889  70.134641  224.027169  32.017754    223.131285  31.889715          obese\n",
       "677  65.824258  241.151963  39.126787    243.087790  39.440874          obese\n",
       "328  66.491228  208.565153  33.164112    208.108805  33.091547          obese\n",
       "630  68.437252  247.165216  37.098603    247.285658  37.116681          obese\n",
       "749  67.223794  196.740503  30.605753    196.585574  30.581651          obese"
      ]
     },
     "execution_count": 25,
     "metadata": {},
     "output_type": "execute_result"
    }
   ],
   "source": [
    "df_A_three = df_A_two[['height_in', 'weight_two', 'bmi_two']]\n",
    "df_A_three['weight_three'] = df_A_three['weight_two'] + np.random.randn(df_A_two.shape[0]) \n",
    "df_A_three['bmi_three'] = (df_A_three['weight_three']/df_A_three['height_in']**2)*703\n",
    "df_A_three['category_three'] = df_A_three['bmi_three'].apply(category)\n",
    "df_A_three.head()"
   ]
  },
  {
   "cell_type": "code",
   "execution_count": 26,
   "metadata": {
    "collapsed": false
   },
   "outputs": [
    {
     "data": {
      "text/html": [
       "<div>\n",
       "<table border=\"1\" class=\"dataframe\">\n",
       "  <thead>\n",
       "    <tr style=\"text-align: right;\">\n",
       "      <th></th>\n",
       "      <th>height_in</th>\n",
       "      <th>weight_two</th>\n",
       "      <th>bmi_two</th>\n",
       "      <th>weight_three</th>\n",
       "      <th>bmi_three</th>\n",
       "      <th>category_three</th>\n",
       "    </tr>\n",
       "  </thead>\n",
       "  <tbody>\n",
       "    <tr>\n",
       "      <th>656</th>\n",
       "      <td>67.726538</td>\n",
       "      <td>239.038493</td>\n",
       "      <td>36.635777</td>\n",
       "      <td>237.166100</td>\n",
       "      <td>36.348809</td>\n",
       "      <td>obese</td>\n",
       "    </tr>\n",
       "    <tr>\n",
       "      <th>413</th>\n",
       "      <td>68.199152</td>\n",
       "      <td>215.381575</td>\n",
       "      <td>32.554117</td>\n",
       "      <td>206.443577</td>\n",
       "      <td>31.203172</td>\n",
       "      <td>obese</td>\n",
       "    </tr>\n",
       "    <tr>\n",
       "      <th>677</th>\n",
       "      <td>65.824258</td>\n",
       "      <td>231.371206</td>\n",
       "      <td>37.539864</td>\n",
       "      <td>231.201488</td>\n",
       "      <td>37.512327</td>\n",
       "      <td>obese</td>\n",
       "    </tr>\n",
       "    <tr>\n",
       "      <th>901</th>\n",
       "      <td>66.702310</td>\n",
       "      <td>197.983810</td>\n",
       "      <td>31.282630</td>\n",
       "      <td>197.489207</td>\n",
       "      <td>31.204479</td>\n",
       "      <td>obese</td>\n",
       "    </tr>\n",
       "    <tr>\n",
       "      <th>530</th>\n",
       "      <td>69.547026</td>\n",
       "      <td>210.088210</td>\n",
       "      <td>30.535138</td>\n",
       "      <td>201.107528</td>\n",
       "      <td>29.229846</td>\n",
       "      <td>overweight</td>\n",
       "    </tr>\n",
       "  </tbody>\n",
       "</table>\n",
       "</div>"
      ],
      "text/plain": [
       "     height_in  weight_two    bmi_two  weight_three  bmi_three category_three\n",
       "656  67.726538  239.038493  36.635777    237.166100  36.348809          obese\n",
       "413  68.199152  215.381575  32.554117    206.443577  31.203172          obese\n",
       "677  65.824258  231.371206  37.539864    231.201488  37.512327          obese\n",
       "901  66.702310  197.983810  31.282630    197.489207  31.204479          obese\n",
       "530  69.547026  210.088210  30.535138    201.107528  29.229846     overweight"
      ]
     },
     "execution_count": 26,
     "metadata": {},
     "output_type": "execute_result"
    }
   ],
   "source": [
    "df_B_three = df_B_two[['height_in', 'weight_two', 'bmi_two']]\n",
    "df_B_three['weight_three'] = df_B_three['weight_two'] + 4*np.random.randn(df_B_two.shape[0])-4 \n",
    "df_B_three['bmi_three'] = (df_B_three['weight_three']/df_B_three['height_in']**2)*703\n",
    "df_B_three['category_three'] = df_B_three['bmi_three'].apply(category)\n",
    "df_B_three.head()"
   ]
  },
  {
   "cell_type": "code",
   "execution_count": 27,
   "metadata": {
    "collapsed": false
   },
   "outputs": [
    {
     "data": {
      "text/plain": [
       "Ttest_indResult(statistic=5.7341217791899624, pvalue=2.4036159294375e-08)"
      ]
     },
     "execution_count": 27,
     "metadata": {},
     "output_type": "execute_result"
    }
   ],
   "source": [
    "stats.ttest_ind(df_A_three['bmi_three'], df_B_three['bmi_three'])"
   ]
  },
  {
   "cell_type": "markdown",
   "metadata": {},
   "source": [
    "The two groups remain statistically significant. After running different weight change combinations, significance is achieved when the weight difference between groups A and B is five pounds or more. One implication of this observation is the length of time significance can be achieved, which will be relative to the rate at which weight changes occur. For example, if Group A's weight remains consistent and Group B's moves one pound in either direction, it will take five months for the two groups to be significant; if B moves two pounds, it will take two and a half months; and so on.\n",
    "\n",
    "Pointplots showing comparisons between groups A and B for the three months given the initial weight loss assumptions are shown below."
   ]
  },
  {
   "cell_type": "code",
   "execution_count": 31,
   "metadata": {
    "collapsed": false
   },
   "outputs": [],
   "source": [
    "# Combine weight and BMI columns from multiple Group A dataframes.\n",
    "df_A_total = pd.concat([df_A[['gender','weight_lbs','bmi']], df_A_one[['weight_one','bmi_one']], df_A_two[['weight_two','bmi_two']], df_A_three[['weight_three','bmi_three']]], axis=1)\n",
    "df_A_total['group'] = 'A'\n",
    "\n",
    "# Combine weight and BMI columns from multiple Group B dataframes.\n",
    "df_B_total = pd.concat([df_B[['gender','weight_lbs','bmi']], df_B_one[['weight_one','bmi_one']], df_B_two[['weight_two','bmi_two']], df_B_three[['weight_three','bmi_three']]], axis=1)\n",
    "df_B_total['group'] = 'B'\n",
    "\n",
    "# Combine groups A and B dataframes.\n",
    "df_weight = pd.melt(pd.concat([df_A_total, df_B_total]), id_vars=['group','gender'], value_vars=['weight_lbs', 'weight_one', 'weight_two','weight_three'], var_name='month', value_name='weight_pounds')\n",
    "df_bmi = pd.melt(pd.concat([df_A_total, df_B_total]), id_vars=['group','gender'], value_vars=['bmi', 'bmi_one', 'bmi_two','bmi_three'], var_name='month', value_name='bmi')"
   ]
  },
  {
   "cell_type": "code",
   "execution_count": 32,
   "metadata": {
    "collapsed": false
   },
   "outputs": [
    {
     "data": {
      "image/png": "[encoded data removed]",
      "text/plain": [
       "<matplotlib.figure.Figure at 0x1ffa604c240>"
      ]
     },
     "metadata": {},
     "output_type": "display_data"
    }
   ],
   "source": [
    "fig = plt.figure(figsize=(15, 5))\n",
    "ax1 = fig.add_subplot(121)\n",
    "ax2 = fig.add_subplot(122)\n",
    "\n",
    "weight_plot = sns.pointplot(x='month', y='weight_pounds', palette='muted', hue='group', data=df_weight, dodge=True, ax=ax1)\n",
    "weight_plot.set(xticklabels=[0, 1, 2, 3])\n",
    "ax1.set_title('Monthly weight change')\n",
    "bmi_plot = sns.pointplot(x='month', y='bmi', palette='muted', hue='group', data=df_bmi, dodge=True, ax=ax2)\n",
    "bmi_plot.set(xticklabels=[0, 1, 2, 3])\n",
    "ax2.set_title('Monthly bmi change')\n",
    "plt.show()"
   ]
  },
  {
   "cell_type": "markdown",
   "metadata": {
    "collapsed": true
   },
   "source": [
    "# IV. Conclusion\n",
    "\n",
    "Although significance was achieved on the second month, the experiment must be conducted its entire duration, else run the risk of Type I errors (false positive). In this case the pre-determined timeframe was three months, which was derived from practical and theoretical standpoints. Practical considerations include resources available to run the tests and participants' availability, among others. Theoretical considerations include the length of time significant results can be observed in a weight loss program as recorded in scientific literature. However, as stated earlier significance in this experiment points to the app not necessarily being the cause of the weight loss, but rather there is probably not a no-app effect. Further tests can be conducted to isolate the app's effect or to determine the true cause of the weight loss.\n",
    "\n",
    "If the experiment went the other way and results were insignificant, the first point to consider is the sample categories or segments. As pointed out on the first month's results, the Simpson's paradox could explain how the segmented effect is being canceled out by the overall effect, i.e., the results within ethnicities may be different from the overall trend. Depending on resource availability and other factors, the experiment can be conducted for another three months, after which a decision can be made, if the results remain insignificant, to end the experiment and conclude the app to be ineffective.\n",
    "\n",
    "Lastly, in place of the t-test, a z-test could have been conducted in this case since it passes the criteria to do so, namely: known standard deviations (from the randomly generated population) and a large sample size (greater than 30)."
   ]
  },
  {
   "cell_type": "code",
   "execution_count": null,
   "metadata": {
    "collapsed": true
   },
   "outputs": [],
   "source": []
  }
 ],
 "metadata": {
  "anaconda-cloud": {},
  "kernelspec": {
   "display_name": "Python [default]",
   "language": "python",
   "name": "python3"
  },
  "language_info": {
   "codemirror_mode": {
    "name": "ipython",
    "version": 3
   },
   "file_extension": ".py",
   "mimetype": "text/x-python",
   "name": "python",
   "nbconvert_exporter": "python",
   "pygments_lexer": "ipython3",
   "version": "3.5.2"
  }
 },
 "nbformat": 4,
 "nbformat_minor": 1
}
