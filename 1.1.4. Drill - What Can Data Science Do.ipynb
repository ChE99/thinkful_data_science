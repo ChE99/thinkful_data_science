{
 "cells": [
  {
   "cell_type": "code",
   "execution_count": null,
   "metadata": {
    "collapsed": true
   },
   "outputs": [],
   "source": [
    "'''\n",
    "1) Determine which scenario would result in maximum profit given the cost and price for each item and an estimate of the\n",
    "   sales of each item both with and without advertising:\n",
    "   \n",
    "   Expected profit when widges are featured item = proft from widges + profit from doodads + profit from fizzbang\n",
    "   Expected profit when doodads are featured item = proft from widges + profit from doodads + profit from fizzbang\n",
    "   Expected profit when fizzbangs are featured item = proft from widges + profit from doodads + profit from fizzbang\n",
    "   \n",
    "   \n",
    "2) Review onboarding funnel data:\n",
    "   a. Determine where clients were lost in the three-step process.\n",
    "   b. How much time was spent in each step.\n",
    "   c. Which was the final step completed.\n",
    "   \n",
    "   Reach out to clients:\n",
    "   a. Those who completed all three steps.\n",
    "   b. Those who quit at any level.\n",
    "   \n",
    "   Formulate possible reasons for the slowdown based on onboarding funnel data and client survey:\n",
    "   a. Internal or external (i.e., economy)\n",
    "   b. Competition pricing\n",
    "   c. User experience (i.e., are signup forms easy to understand)\n",
    "   \n",
    "3) Determine user preference - price, availability, beds, kitchen, smoking, etc.\n",
    "   Allow users to categorize based on preferences - e.g., essential, important, etc.\n",
    "   Combine preferences and categories into a weighted average for each room.\n",
    "   Rank by decreasing weighted average.\n",
    "   \n",
    "4) Define typical churn distribution.\n",
    "   a. Set duration for sampling.\n",
    "   b. Obtain samples' meausres.\n",
    "   c. Plot distribution.\n",
    "   \n",
    "   Derive atypical churn from typical churn distribution.\n",
    "'''"
   ]
  }
 ],
 "metadata": {
  "kernelspec": {
   "display_name": "Python [default]",
   "language": "python",
   "name": "python3"
  },
  "language_info": {
   "codemirror_mode": {
    "name": "ipython",
    "version": 3
   },
   "file_extension": ".py",
   "mimetype": "text/x-python",
   "name": "python",
   "nbconvert_exporter": "python",
   "pygments_lexer": "ipython3",
   "version": "3.5.2"
  }
 },
 "nbformat": 4,
 "nbformat_minor": 2
}
