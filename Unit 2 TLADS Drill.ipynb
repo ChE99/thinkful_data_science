{
 "cells": [
  {
   "cell_type": "markdown",
   "metadata": {},
   "source": [
    "cntry - categorical\n",
    "\n",
    "idno - ordinal\n",
    "\n",
    "year - ratio\n",
    "\n",
    "tvtot - interval\n",
    "\n",
    "ppltrst\t- interval\n",
    "\n",
    "pplfair\t- interval\n",
    "\n",
    "pplhlp - interval\n",
    "\n",
    "happy - interval\n",
    "\n",
    "sclmeet - interval\n",
    "\n",
    "sclact - interval\n",
    "\n",
    "gndr - categorical\n",
    "\n",
    "agea - ratio\n",
    "\n",
    "partner - categorical\n"
   ]
  }
 ],
 "metadata": {
  "kernelspec": {
   "display_name": "Python [default]",
   "language": "python",
   "name": "python3"
  },
  "language_info": {
   "codemirror_mode": {
    "name": "ipython",
    "version": 3
   },
   "file_extension": ".py",
   "mimetype": "text/x-python",
   "name": "python",
   "nbconvert_exporter": "python",
   "pygments_lexer": "ipython3",
   "version": "3.5.2"
  }
 },
 "nbformat": 4,
 "nbformat_minor": 1
}
