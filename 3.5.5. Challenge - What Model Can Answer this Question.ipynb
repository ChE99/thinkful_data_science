{
 "cells": [
  {
   "cell_type": "markdown",
   "metadata": {},
   "source": [
    "1. Linear Regression\n",
    "\n",
    "2. SVM, Lasso Regression\n",
    "\n",
    "3. KNN, Decision Tree, Logistic Regression\n",
    "\n",
    "4. Naive Bayes\n",
    "\n",
    "5. Random Forest, Ridge/Lasso Regression, SVM\n",
    "\n",
    "6. Naive Bayes\n",
    "\n",
    "7. Random Forest, Ridge/Lasso Regression, SVM\n",
    "\n",
    "8. KNN, SVM\n",
    "\n",
    "9. Logistic Regression, SVM"
   ]
  },
  {
   "cell_type": "code",
   "execution_count": null,
   "metadata": {
    "collapsed": true
   },
   "outputs": [],
   "source": []
  }
 ],
 "metadata": {
  "kernelspec": {
   "display_name": "Python 3",
   "language": "python",
   "name": "python3"
  },
  "language_info": {
   "codemirror_mode": {
    "name": "ipython",
    "version": 3
   },
   "file_extension": ".py",
   "mimetype": "text/x-python",
   "name": "python",
   "nbconvert_exporter": "python",
   "pygments_lexer": "ipython3",
   "version": "3.6.3"
  }
 },
 "nbformat": 4,
 "nbformat_minor": 2
}
