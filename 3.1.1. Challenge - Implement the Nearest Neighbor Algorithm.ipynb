{
 "cells": [
  {
   "cell_type": "code",
   "execution_count": 1,
   "metadata": {
    "collapsed": true
   },
   "outputs": [],
   "source": [
    "import numpy as np"
   ]
  },
  {
   "cell_type": "code",
   "execution_count": 2,
   "metadata": {
    "collapsed": true
   },
   "outputs": [],
   "source": [
    "X_train = np.column_stack(([184, 134, 243, 186, 122, 197, 294, 382, 102, 264, \n",
    "                            205, 110, 307, 110, 397, 153, 190, 192, 210, 403,\n",
    "                            164, 198, 204, 253, 234, 190, 182, 401, 376, 102], \n",
    "                           [18, 34, 43, 36, 22, 9, 29, 22, 10, 24, \n",
    "                            20, 10, 17, 51, 7, 13, 19, 12, 21, 22,\n",
    "                            16, 18, 4, 23, 34, 19, 14, 11, 37, 42]))\n",
    "\n",
    "Y_train = [ 1, 0, 0, 0, 1, 1, 0, 1, 1, 0,\n",
    "            0, 1, 1, 0, 1, 1, 0, 1, 1, 1,\n",
    "            1, 1, 1, 1, 0, 0, 1, 1, 0, 0]\n",
    "\n",
    "X_test = np.array([24, 190])"
   ]
  },
  {
   "cell_type": "code",
   "execution_count": 3,
   "metadata": {
    "scrolled": true
   },
   "outputs": [
    {
     "name": "stdout",
     "output_type": "stream",
     "text": [
      "[ 234.91274976  190.8821626   263.76125568  223.51733714  194.49421585\n",
      "  250.37971164  314.35807609  395.45922672  196.17339269  291.81500989\n",
      "  248.31633051  199.48934809  331.68961395  163.45335726  415.47322417\n",
      "  219.02054698  238.32121181  244.76110802  251.31056484  414.56603817\n",
      "  223.3293532   244.66303358  258.83585532  283.42547521  261.60275228\n",
      "  238.32121181  236.51638421  417.33679445  383.81375692  167.29614461]\n"
     ]
    }
   ],
   "source": [
    "# Determine the Euclidean distance between the train and test points.\n",
    "distance = np.sqrt(np.sum((X_train - X_test)**2, axis = 1))\n",
    "print(distance)"
   ]
  },
  {
   "cell_type": "code",
   "execution_count": 4,
   "metadata": {},
   "outputs": [
    {
     "name": "stdout",
     "output_type": "stream",
     "text": [
      "0\n"
     ]
    }
   ],
   "source": [
    "# Return the Y_train value at the minimum index.\n",
    "min_index = np.argmin(distance)\n",
    "print(Y_train[min_index])"
   ]
  },
  {
   "cell_type": "markdown",
   "metadata": {},
   "source": [
    "This confirms the SKLearn result."
   ]
  },
  {
   "cell_type": "code",
   "execution_count": null,
   "metadata": {
    "collapsed": true
   },
   "outputs": [],
   "source": []
  }
 ],
 "metadata": {
  "kernelspec": {
   "display_name": "Python 3",
   "language": "python",
   "name": "python3"
  },
  "language_info": {
   "codemirror_mode": {
    "name": "ipython",
    "version": 3
   },
   "file_extension": ".py",
   "mimetype": "text/x-python",
   "name": "python",
   "nbconvert_exporter": "python",
   "pygments_lexer": "ipython3",
   "version": "3.6.3"
  }
 },
 "nbformat": 4,
 "nbformat_minor": 2
}
