{
 "cells": [
  {
   "cell_type": "markdown",
   "metadata": {},
   "source": [
    "cntry - categorical\n",
    "\n",
    "idno - categorical\n",
    "\n",
    "year - categorical\n",
    "\n",
    "tvtot - ratio\n",
    "\n",
    "ppltrst\t- ratio\n",
    "\n",
    "pplfair\t- ratio\n",
    "\n",
    "pplhlp - ratio\n",
    "\n",
    "happy - ratio\n",
    "\n",
    "sclmeet - ordinal\n",
    "\n",
    "sclact - ratio\n",
    "\n",
    "gndr - categorical\n",
    "\n",
    "agea - ratio\n",
    "\n",
    "partner - categorical\n"
   ]
  }
 ],
 "metadata": {
  "anaconda-cloud": {},
  "kernelspec": {
   "display_name": "Python [default]",
   "language": "python",
   "name": "python3"
  },
  "language_info": {
   "codemirror_mode": {
    "name": "ipython",
    "version": 3
   },
   "file_extension": ".py",
   "mimetype": "text/x-python",
   "name": "python",
   "nbconvert_exporter": "python",
   "pygments_lexer": "ipython3",
   "version": "3.5.2"
  }
 },
 "nbformat": 4,
 "nbformat_minor": 1
}
