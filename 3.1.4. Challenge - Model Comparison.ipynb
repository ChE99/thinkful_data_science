{
 "cells": [
  {
   "cell_type": "code",
   "execution_count": 1,
   "metadata": {
    "collapsed": true
   },
   "outputs": [],
   "source": [
    "import numpy as np\n",
    "import pandas as pd\n",
    "from sklearn import linear_model"
   ]
  },
  {
   "cell_type": "markdown",
   "metadata": {},
   "source": [
    "### A. Linear Regression\n",
    "\n",
    "#### 1. Fit the Model"
   ]
  },
  {
   "cell_type": "code",
   "execution_count": 2,
   "metadata": {
    "collapsed": true
   },
   "outputs": [],
   "source": [
    "# Open the FBI's 2013 New York crime dataset (skip first four rows).\n",
    "df_ny13 = pd.read_csv('https://raw.githubusercontent.com/Thinkful-Ed/data-201-resources/master/New_York_offenses/NEW_YORK-Offenses_Known_to_Law_Enforcement_by_City_2013%20-%2013tbl8ny.csv', skiprows=4)"
   ]
  },
  {
   "cell_type": "code",
   "execution_count": 3,
   "metadata": {
    "collapsed": true
   },
   "outputs": [],
   "source": [
    "# Rename columns.\n",
    "df_ny13.rename(columns={'City': 'city','Population': 'population', 'Violent\\ncrime': 'violent_crime', 'Murder and\\nnonnegligent\\nmanslaughter': 'murder', 'Rape\\n(legacy\\ndefinition)2': 'rape','Robbery': 'robbery', 'Aggravated\\nassault': 'aggravated_assault', 'Property\\ncrime': 'property_crime', 'Burglary': 'burglary', 'Larceny-\\ntheft': 'larceny_theft', 'Motor\\nvehicle\\ntheft': 'motor_vehicle_theft', 'Arson3': 'arson'}, inplace=True)\n",
    "\n",
    "# Create subset.\n",
    "df_ny13_ppmr = df_ny13[['population', 'murder', 'robbery', 'property_crime']]\n",
    "\n",
    "# Drop the null values.\n",
    "df_ny13_ppmr = df_ny13_ppmr.dropna()"
   ]
  },
  {
   "cell_type": "code",
   "execution_count": 4,
   "metadata": {
    "collapsed": true
   },
   "outputs": [],
   "source": [
    "# Create function to remove commas and convert columns to numeric.\n",
    "cols_ppmr = df_ny13_ppmr.columns[df_ny13_ppmr.dtypes.eq('object')]\n",
    "convert_col = lambda col_obj: pd.to_numeric(col_obj.replace(',',''))\n",
    "df_ny13_ppmr[cols_ppmr] = df_ny13_ppmr[cols_ppmr].applymap(convert_col)"
   ]
  },
  {
   "cell_type": "code",
   "execution_count": 5,
   "metadata": {
    "collapsed": true
   },
   "outputs": [],
   "source": [
    "# Create features.\n",
    "df_ny13_ppmr['population_squared'] = df_ny13_ppmr['population'] * df_ny13_ppmr['population']\n",
    "df_ny13_ppmr['murder_category'] = np.where(df_ny13_ppmr['murder']>0, 1, 0)\n",
    "df_ny13_ppmr['robbery_category'] = np.where(df_ny13_ppmr['robbery']>0, 1, 0)"
   ]
  },
  {
   "cell_type": "code",
   "execution_count": 6,
   "metadata": {},
   "outputs": [
    {
     "name": "stdout",
     "output_type": "stream",
     "text": [
      "\n",
      "Coefficients: \n",
      " [  3.46570268e-02  -2.11108019e-09   1.51866535e+01  -9.62774363e+01]\n",
      "\n",
      "Intercept: \n",
      " -109.575335623\n",
      "\n",
      "R-squared:\n",
      "0.996124710499\n"
     ]
    }
   ],
   "source": [
    "# Regression coefficients.\n",
    "regr_ny13_ppmr = linear_model.LinearRegression()\n",
    "y_ny13_ppmr = df_ny13_ppmr['property_crime']\n",
    "X_ny13_ppmr = df_ny13_ppmr[['population','population_squared','murder_category','robbery_category']]\n",
    "regr_ny13_ppmr.fit(X_ny13_ppmr, y_ny13_ppmr)\n",
    "\n",
    "print('\\nCoefficients: \\n', regr_ny13_ppmr.coef_)\n",
    "print('\\nIntercept: \\n', regr_ny13_ppmr.intercept_)\n",
    "print('\\nR-squared:')\n",
    "print(regr_ny13_ppmr.score(X_ny13_ppmr, y_ny13_ppmr))"
   ]
  },
  {
   "cell_type": "code",
   "execution_count": 7,
   "metadata": {},
   "outputs": [
    {
     "name": "stdout",
     "output_type": "stream",
     "text": [
      "\n",
      "Coefficients: \n",
      " [  1.31899277e-02   1.36183482e-07   1.94770525e+02   8.05675060e+01]\n",
      "\n",
      "Intercept: \n",
      " -18.823557926\n",
      "\n",
      "R-squared:\n",
      "0.745964704737\n"
     ]
    }
   ],
   "source": [
    "# Outliers removed.\n",
    "df_ny13_ppmr_or = df_ny13_ppmr[df_ny13_ppmr['population']<100000]\n",
    "regr_ny13_ppmr_or = linear_model.LinearRegression()\n",
    "y_ny13_ppmr_or = df_ny13_ppmr_or['property_crime']\n",
    "X_ny13_ppmr_or = df_ny13_ppmr_or[['population','population_squared','murder_category','robbery_category']]\n",
    "regr_ny13_ppmr_or.fit(X_ny13_ppmr_or, y_ny13_ppmr_or)\n",
    "\n",
    "print('\\nCoefficients: \\n', regr_ny13_ppmr_or.coef_)\n",
    "print('\\nIntercept: \\n', regr_ny13_ppmr_or.intercept_)\n",
    "print('\\nR-squared:')\n",
    "print(regr_ny13_ppmr_or.score(X_ny13_ppmr_or, y_ny13_ppmr_or))"
   ]
  },
  {
   "cell_type": "markdown",
   "metadata": {},
   "source": [
    "#### 2. Train and Test the Model\n",
    "\n",
    "##### a. Train/Test Split"
   ]
  },
  {
   "cell_type": "code",
   "execution_count": 8,
   "metadata": {},
   "outputs": [
    {
     "name": "stdout",
     "output_type": "stream",
     "text": [
      "Predicted: [ 536.96637503  -30.06354991  442.02069786  -25.77740268  -11.38346045]\n",
      "\n",
      "\n",
      "Actual:\n",
      "240    630\n",
      "118      5\n",
      "115    343\n",
      "44       2\n",
      "128      1\n",
      "Name: property_crime, dtype: int64\n"
     ]
    }
   ],
   "source": [
    "# Split the data into train and test samples.\n",
    "from sklearn.model_selection import train_test_split\n",
    "regr_tts_ny13 = linear_model.LinearRegression()\n",
    "\n",
    "# Use the outlier-removed dataset (dependent variable not log-transformed).\n",
    "X_train_tts_ny13, X_test_tts_ny13, y_train_tts_ny13, y_test_tts_ny13 = train_test_split(X_ny13_ppmr_or, df_ny13_ppmr_or['property_crime'], test_size=0.3, random_state=42)\n",
    "\n",
    "# Train the model.\n",
    "lm_tts_ny13 = regr_tts_ny13.fit(X_train_tts_ny13, y_train_tts_ny13)\n",
    "\n",
    "# Make predictions on the test sample.\n",
    "predictions_ttslr_ny13 = regr_tts_ny13.predict(X_test_tts_ny13)\n",
    "\n",
    "# Compare predicted vs. actual.\n",
    "print('Predicted:', predictions_ttslr_ny13[0:5])\n",
    "print('\\n')\n",
    "print('Actual:')\n",
    "print(y_test_tts_ny13[0:5])"
   ]
  },
  {
   "cell_type": "code",
   "execution_count": 9,
   "metadata": {},
   "outputs": [
    {
     "name": "stdout",
     "output_type": "stream",
     "text": [
      "Score: 0.770198446027\n"
     ]
    }
   ],
   "source": [
    "# Model score.\n",
    "print('Score:', lm_tts_ny13.score(X_test_tts_ny13, y_test_tts_ny13))"
   ]
  },
  {
   "cell_type": "markdown",
   "metadata": {},
   "source": [
    "##### b. K-Folds Cross Validation"
   ]
  },
  {
   "cell_type": "code",
   "execution_count": 10,
   "metadata": {},
   "outputs": [
    {
     "name": "stdout",
     "output_type": "stream",
     "text": [
      "Cross validated scores: [ 0.76049813  0.68939028  0.59979129]\n",
      "Average score: 0.683226566421\n"
     ]
    },
    {
     "name": "stderr",
     "output_type": "stream",
     "text": [
      "C:\\Users\\James\\Anaconda3\\lib\\site-packages\\sklearn\\cross_validation.py:41: DeprecationWarning: This module was deprecated in version 0.18 in favor of the model_selection module into which all the refactored classes and functions are moved. Also note that the interface of the new CV iterators are different from that of this module. This module will be removed in 0.20.\n",
      "  \"This module will be removed in 0.20.\", DeprecationWarning)\n"
     ]
    }
   ],
   "source": [
    "# Run the default three subsets, or folds, for cross validation.\n",
    "from sklearn.cross_validation import cross_val_score, cross_val_predict\n",
    "scores_cv_ny13 = cross_val_score(lm_tts_ny13, X_ny13_ppmr_or, y_ny13_ppmr_or)\n",
    "\n",
    "# The score for each fold.\n",
    "print('Cross validated scores:', scores_cv_ny13)\n",
    "\n",
    "# Mean score.\n",
    "print('Average score:', scores_cv_ny13.mean())"
   ]
  },
  {
   "cell_type": "markdown",
   "metadata": {
    "collapsed": true
   },
   "source": [
    "### B. KNN Regression \n",
    "\n",
    "#### 1. Fit the Model"
   ]
  },
  {
   "cell_type": "code",
   "execution_count": 11,
   "metadata": {
    "collapsed": true
   },
   "outputs": [],
   "source": [
    "# Fit the train and test data from the linear regression model into the KNN model.\n",
    "from sklearn import neighbors\n",
    "\n",
    "knn = neighbors.KNeighborsRegressor(n_neighbors=5)\n",
    "knn_w = neighbors.KNeighborsRegressor(n_neighbors=5, weights='distance')\n",
    "knn_tts_ny13 = knn.fit(X_train_tts_ny13, y_train_tts_ny13)\n",
    "knn_wtts_ny13 = knn_w.fit(X_train_tts_ny13, y_train_tts_ny13)"
   ]
  },
  {
   "cell_type": "markdown",
   "metadata": {},
   "source": [
    "#### 2. Train and Test the Model"
   ]
  },
  {
   "cell_type": "markdown",
   "metadata": {},
   "source": [
    "##### a. Train/Test Split"
   ]
  },
  {
   "cell_type": "code",
   "execution_count": 12,
   "metadata": {},
   "outputs": [
    {
     "name": "stdout",
     "output_type": "stream",
     "text": [
      "Unweighted Accuracy: 0.70012995742\n",
      "Weighted Accuracy: 0.657215890708\n"
     ]
    }
   ],
   "source": [
    "print('Unweighted Accuracy:', knn_tts_ny13.score(X_test_tts_ny13, y_test_tts_ny13))\n",
    "print('Weighted Accuracy:', knn_wtts_ny13.score(X_test_tts_ny13, y_test_tts_ny13))"
   ]
  },
  {
   "cell_type": "markdown",
   "metadata": {},
   "source": [
    "##### b. Cross Validation"
   ]
  },
  {
   "cell_type": "code",
   "execution_count": 15,
   "metadata": {},
   "outputs": [
    {
     "name": "stdout",
     "output_type": "stream",
     "text": [
      "Unweighted Accuracy: 0.677 (+/- 0.023)\n",
      "Weighted Accuracy: 0.675 (+/- 0.063)\n"
     ]
    }
   ],
   "source": [
    "# Run KNN cross validation.\n",
    "from sklearn.model_selection import cross_val_score\n",
    "\n",
    "score = cross_val_score(knn_tts_ny13, X_ny13_ppmr_or, df_ny13_ppmr_or['property_crime'], cv=3)\n",
    "print(\"Unweighted Accuracy: %0.3f (+/- %0.3f)\" % (score.mean(), score.std() * 2))\n",
    "score_w = cross_val_score(knn_wtts_ny13, X_ny13_ppmr_or, df_ny13_ppmr_or['property_crime'], cv=3)\n",
    "print(\"Weighted Accuracy: %0.3f (+/- %0.3f)\" % (score_w.mean(), score_w.std() * 2))"
   ]
  },
  {
   "cell_type": "markdown",
   "metadata": {
    "collapsed": true
   },
   "source": [
    "Score|  OLS  |KNN UW | KNN W\n",
    "-----|-------|-------|-------\n",
    "TTS  |  0.770|  0.700| 0.657\n",
    "CV   |  0.683|  0.677| 0.675"
   ]
  },
  {
   "cell_type": "markdown",
   "metadata": {},
   "source": [
    "There was a marked difference among the scores with the train/test/split method, but not so with cross validation. In both instances, linear regression outperformed KNN. Since KNN is flexible, it is more susceptible to high noise, as opposed to OLS which is more rigid, and underperforms OLS when the noise-to-signal ratio is high. KNN suffers from the curse of dimensionality, where prediction accuracy can significantly decrease as the number of predictors increases because of the data's distance from a test point. Although KNN can deal with nonlinearity, it cannot determine which predictors are important, or interpret the resulting predictors. Lastly, tuning K is critical to good performance.  \n",
    "\n",
    "Linear regression, on the other hand, has a fixed number of parameters and is computationally faster, but makes strong assumptions about the data. The algorithm may work well if the assumptions turn out to be correct, but it may perform badly if the assumptions are wrong. "
   ]
  },
  {
   "cell_type": "code",
   "execution_count": null,
   "metadata": {
    "collapsed": true
   },
   "outputs": [],
   "source": []
  }
 ],
 "metadata": {
  "kernelspec": {
   "display_name": "Python 3",
   "language": "python",
   "name": "python3"
  },
  "language_info": {
   "codemirror_mode": {
    "name": "ipython",
    "version": 3
   },
   "file_extension": ".py",
   "mimetype": "text/x-python",
   "name": "python",
   "nbconvert_exporter": "python",
   "pygments_lexer": "ipython3",
   "version": "3.6.3"
  }
 },
 "nbformat": 4,
 "nbformat_minor": 2
}
