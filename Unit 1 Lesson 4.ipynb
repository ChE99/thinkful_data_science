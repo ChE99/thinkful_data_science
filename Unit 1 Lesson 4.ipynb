{
 "cells": [
  {
   "cell_type": "markdown",
   "metadata": {},
   "source": [
    "## A/B Test\n",
    "\n",
    "1)\n",
    "\n",
    "a. Two versions - Placebo group and supplement group. <br>\n",
    "b. Sample - Similar groups of adults are randomly assigned to each group, with the participants unaware of which group they're being assigned to.<br>\n",
    "c. Hypothesis - Supplement group will sleep better. <br>\n",
    "d. Outcome of interest - Number of hours slept in daily, weekly, and monthly average. <br>\n",
    "e. Other measured variables - Participants' background (age, gender, career, race, etc.). How quickly participants fall asleep, how long they are in deep sleep, how often they awake, etc."
   ]
  },
  {
   "cell_type": "markdown",
   "metadata": {},
   "source": [
    "2)\n",
    "\n",
    "a. Two versions - Current vs. new uniform. <br>\n",
    "b. Sample - Gym instructors are evenly distributed between the two groups. <br>\n",
    "c. Hypothesis - The new uniforms will increase sign ups and improve members' retention. <br>\n",
    "d. Outcome of interest - Number of new sign ups and retention rate for the weeks/months following the new uniform implementation compared to the same period last week, month, quarter, or year. <br>\n",
    "e. Other measured variables - Each group will have representation from instructors' categories - age, gender, expertise, etc. Did new uniforms consequently boost instructors' morale and led to lower turnover?"
   ]
  },
  {
   "cell_type": "markdown",
   "metadata": {},
   "source": [
    "3)\n",
    "\n",
    "a. Two versions - Current vs. new homepage. <br>\n",
    "b. Sample - Subset of regular website visitors navigate through the old home page while another subset is diverted to the new. <br>\n",
    "c. Hypothesis - The new homepage will generate more revenue. <br>\n",
    "d. Outcome of interest - Amount spent per user per timeframe, or per user per visit. <br>\n",
    "e. Other measured variable - Types of visitors and their specific categories of interest (reptiles, felines, etc.). Length of time visitors stayed on the homepage. Did they visit other sections of the website and purchase from categories they normally wouldn't?"
   ]
  },
  {
   "cell_type": "markdown",
   "metadata": {},
   "source": [
    "4)\n",
    "\n",
    "a. Two versions - Emails with \"please read\" vs. those with none. <br>\n",
    "b. Sample - A subset of regular correspondents receives the please read emails, while the other receives the regular emails. <br>\n",
    "c. Hypothesis - Recipients will read and respond to the please read emails. <br>\n",
    "d. Outcome of interest - The read receipt notice is activated on both sets of emails to track who read them. Instructions are also included in the emails asking for recipients to respond, which is then measured. <br>\n",
    "e. Other measured variable - Types of recipients, i.e., business, personal, etc.The nature/importance of the emails' as implied in the subject; for example, the more severe the subject, a higher response rate can be expected. Length of time recipients read or respond after the emails are sent."
   ]
  },
  {
   "cell_type": "markdown",
   "metadata": {
    "collapsed": true
   },
   "source": [
    "## Bias and A/A Testing\n",
    "\n",
    "1) Are the ads sent to the same demographics - teens, adults, etc.? The emails sent in May may produce more favorable results being closer to the summer months.\n",
    "\n",
    "2) Location? Is the clinic in an area where the residents are more prone to anxiety? Are the medical professionals in the clinic highly trained and are there enough resources to properly diagnose anxiety? Perhaps the patients are easily diagnosed with anxiety when they don't necesarily have the condition due to the medical professionals' bias.\n",
    "\n",
    "3) When and where was the ad billboard placed? Was it at a location where there is an \"abnormal\" increase in traffic compared to other times of the year, e.g. festivals, etc.? Is it in a location where the population is more tech savvy and can easily access the internet upon seeing the billboard, i.e., urban vs. rural? How prominent is the billboard compared to the surroundings?\n",
    "\n",
    "4) When was the loyalty program initiated? It may not be the program itself that's the issue, but general economic conditions - patrons may have suffered personal economic setbacks that prevent them from participating. One week may be to quick of a timeframe to expect results; perhaps a month or a quarter would be more reasonable. To whom where the ads targeted? Perhaps they were already loyal patrons in the first place, and the marketing ad missed the casual patrons who would most likely drive up the visits."
   ]
  },
  {
   "cell_type": "code",
   "execution_count": null,
   "metadata": {
    "collapsed": true
   },
   "outputs": [],
   "source": []
  }
 ],
 "metadata": {
  "anaconda-cloud": {},
  "kernelspec": {
   "display_name": "Python [default]",
   "language": "python",
   "name": "python3"
  },
  "language_info": {
   "codemirror_mode": {
    "name": "ipython",
    "version": 3
   },
   "file_extension": ".py",
   "mimetype": "text/x-python",
   "name": "python",
   "nbconvert_exporter": "python",
   "pygments_lexer": "ipython3",
   "version": "3.5.2"
  }
 },
 "nbformat": 4,
 "nbformat_minor": 1
}
