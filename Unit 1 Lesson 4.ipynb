{
 "cells": [
  {
   "cell_type": "markdown",
   "metadata": {},
   "source": [
    "## A/B Test\n",
    "\n",
    "1)\n",
    "\n",
    "a. Two versions - Placebo group and supplement group. <br>\n",
    "b. Sample - Similar groups of adults are randomly assigned to each group, with the participants unaware of which group they're being assigned to.<br>\n",
    "c. Hypothesis - Supplement group will sleep better. <br>\n",
    "d. Outcome of interest - Number of hours slept in daily, weekly, and monthly average. <br>\n",
    "e. Other measured variables - Participants' background (age, gender, career, race, etc.). How quickly participants fall asleep, how long they are in deep sleep, how often they awake, etc."
   ]
  },
  {
   "cell_type": "markdown",
   "metadata": {},
   "source": [
    "2)\n",
    "\n",
    "a. Two versions - Current vs. new uniform. <br>\n",
    "b. Sample - Gym instructors are evenly distributed between the two groups. <br>\n",
    "c. Hypothesis - The new uniforms will increase sign ups and improve members' retention. <br>\n",
    "d. Outcome of interest - Number of new sign ups and retention rate for the weeks/months following the new uniform implementation compared to the same period last week, month, quarter, or year. <br>\n",
    "e. Other measured variables - Each group will have representation from instructors' categories - age, gender, expertise, etc. Did new uniforms consequently boost instructors' morale and led to lower turnover?"
   ]
  },
  {
   "cell_type": "markdown",
   "metadata": {},
   "source": [
    "3)\n",
    "\n",
    "a. Two versions - Current vs. new homepage. <br>\n",
    "b. Sample - Subset of regular website visitors navigate through the old home page while another subset is diverted to the new. <br>\n",
    "c. Hypothesis - The new homepage will generate more revenue. <br>\n",
    "d. Outcome of interest - Amount spent per user per timeframe, or per user per visit. <br>\n",
    "e. Other measured variable - Types of visitors and their specific categories of interest (reptiles, felines, etc.). Length of time visitors stayed on the homepage. Did they visit other sections of the website and purchase from categories they normally wouldn't?"
   ]
  },
  {
   "cell_type": "markdown",
   "metadata": {},
   "source": [
    "4)\n",
    "\n",
    "a. Two versions - Emails with \"please read\" vs. those with none. <br>\n",
    "b. Sample - A subset of regular correspondents receives the please read emails, while the other receives the regular emails. <br>\n",
    "c. Hypothesis - Recipients will read and respond to the please read emails. <br>\n",
    "d. Outcome of interest - The read receipt notice is activated on both sets of emails to track who read them. Instructions are also included in the emails asking for recipients to respond, which is then measured. <br>\n",
    "e. Other measured variable - Types of recipients, i.e., business, personal, etc.The nature/importance of the emails' as implied in the subject; for example, the more severe the subject, a higher response rate can be expected. Length of time recipients read or respond after the emails are sent."
   ]
  },
  {
   "cell_type": "markdown",
   "metadata": {
    "collapsed": true
   },
   "source": [
    "## Bias and A/A Testing\n",
    "\n",
    "1) Are the ads sent to the same demographics - teens, adults, etc.? The emails sent in May may produce more favorable results being closer to the summer months.\n",
    "\n",
    "2) Location? Is the clinic in an area where the residents are more prone to anxiety? Are the medical professionals in the clinic highly trained and are there enough resources to properly diagnose anxiety? Perhaps the patients are easily diagnosed with anxiety when they don't necesarily have the condition due to the medical professionals' bias.\n",
    "\n",
    "3) When and where was the ad billboard placed? Was it at a location where there is an \"abnormal\" increase in traffic compared to other times of the year, e.g. festivals, etc.? Is it in a location where the population is more tech savvy and can easily access the internet upon seeing the billboard, i.e., urban vs. rural? How prominent is the billboard compared to the surroundings?\n",
    "\n",
    "4) When was the loyalty program initiated? It may not be the program itself that's the issue, but general economic conditions - patrons may have suffered personal economic setbacks that prevent them from participating. One week may be to quick of a timeframe to expect results; perhaps a month or a quarter would be more reasonable. To whom where the ads targeted? Perhaps they were already loyal patrons in the first place, and the marketing ad missed the casual patrons who would most likely drive up the visits."
   ]
  },
  {
   "cell_type": "markdown",
   "metadata": {},
   "source": [
    "## Challenge: Evaluate an experiment analysis\n",
    "\n",
    "1) Were the droids of similar background? Perhaps one group consisted of droids who were more easily threatened and thus prone to convert; as such, the slogan had nothing to do with their conversion. How were the slogans delivered? Was the emperor's delivery different from Vader's?<br>\n",
    "\n",
    "Ensure the droids representing both groups have the same background and characteristics and that the method of delivery is similar regardless of who's making the presentation. Also ensure the environment during delivery is non-threatening and that the droids are not coerced into converting."
   ]
  },
  {
   "cell_type": "markdown",
   "metadata": {},
   "source": [
    "2) Jar jar's group was friendly to begin with, so the people in those planets would tend to favor the Jedi, as opposed to Windu'd group. Also, examine the results for Simpson's paradox. Overall, Jar jar may appear to be more successful, but the group's breakdown may tell a different story.<br> \n",
    "\n",
    "Jar jar and Windu should have two friendlies and two unfriendlies each with equal representation from the planets' different categories of populations. Their methods of promoting favorable feelings should also be similar."
   ]
  },
  {
   "cell_type": "markdown",
   "metadata": {},
   "source": [
    "3) The HR group will not be an accurate represenation of the five-country population. For an accurate A/B test, all participants must have an equal chance of being assigned to either group. In this study, which will involve measuring average job satisfaction, it is imperative that subgroups within HR and IT are closely examined to verify if the subgroup trend reflects the overall trend. If they differ, the report's conclusions can't be driven by the author's bias - for example, advocating for condition A because the overall trend is positive, as opposed to condition B that is more favorable when based on a positive subgroup trend. "
   ]
  },
  {
   "cell_type": "markdown",
   "metadata": {},
   "source": [
    "4) People who install the app are probably fitness conscious to begin with; as such, the app is merely tracking fitness lifestyles that have been in place beforehand, and not necessarily a result of the app's promptings. Also, what groups of people have installed the app? Are they younger and more active? <br>\n",
    "\n",
    "To accurately determine the app's effectiveness, two similar groups should be formed and their fitness activities tracked and measured, one group with the app and the other without. A survey should also be conducted that determines the participants' fitness backgrounds prior to installing the app, which is used as a baseline to compare their fitness activities after installing the app."
   ]
  },
  {
   "cell_type": "markdown",
   "metadata": {},
   "source": [
    "5) There was no randomness to the way the students took copies of the tests, or at least the way the copies of the tests were stacked. The smartest students could have inadvertently arrived one after the other and picked up copies of test B. The students should have been grouped by class rankings and evenly distributed to the three tests. If possible, also determine the students' backgrounds as these could have an impact on their test-taking."
   ]
  },
  {
   "cell_type": "code",
   "execution_count": null,
   "metadata": {
    "collapsed": true
   },
   "outputs": [],
   "source": []
  }
 ],
 "metadata": {
  "anaconda-cloud": {},
  "kernelspec": {
   "display_name": "Python [default]",
   "language": "python",
   "name": "python3"
  },
  "language_info": {
   "codemirror_mode": {
    "name": "ipython",
    "version": 3
   },
   "file_extension": ".py",
   "mimetype": "text/x-python",
   "name": "python",
   "nbconvert_exporter": "python",
   "pygments_lexer": "ipython3",
   "version": "3.5.2"
  }
 },
 "nbformat": 4,
 "nbformat_minor": 1
}
