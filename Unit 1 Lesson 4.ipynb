{
 "cells": [
  {
   "cell_type": "markdown",
   "metadata": {},
   "source": [
    "1)\n",
    "\n",
    "a. Two versions - Placebo group and supplement group. <br>\n",
    "b. Sample - Similar groups of adults are randomly assigned to each group, with the participants unaware of which group they're being assigned to.<br>\n",
    "c. Hypothesis - Supplement group will sleep better. <br>\n",
    "d. Outcome of interest - Number of hours slept in daily, weekly, and monthly average. <br>\n",
    "e. Other measured variables - Participants' background (age, gender, career, race, etc.). How quickly participants fall asleep, how long they are in deep sleep, how often they awake, etc."
   ]
  },
  {
   "cell_type": "markdown",
   "metadata": {},
   "source": [
    "2)\n",
    "\n",
    "a. Two versions - Current vs. new uniform. <br>\n",
    "b. Sample - Gym instructors are evenly distributed between the two groups. <br>\n",
    "c. Hypothesis - The new uniforms will increase sign ups and improve members' retention. <br>\n",
    "d. Outcome of interest - Number of new sign ups and retention rate for the weeks/months following the new uniform implementation compared to the same period last week, month, quarter, or year. <br>\n",
    "e. Other measured variables - Each group will have representation from instructors' categories - age, gender, expertise, etc. Did new uniforms consequently boost instructors' morale and led to lower turnover?"
   ]
  },
  {
   "cell_type": "markdown",
   "metadata": {},
   "source": [
    "3)\n",
    "\n",
    "a. Two versions - Current vs. new homepage. <br>\n",
    "b. Sample - Subset of regular website visitors navigate through the old home page while another subset is diverted to the new. <br>\n",
    "c. Hypothesis - The new homepage will generate more revenue. <br>\n",
    "d. Outcome of interest - Amount spent per user per timeframe, or per user per visit. <br>\n",
    "e. Other measured variable - Types of visitors and their specific categories of interest (reptiles, felines, etc.). Length of time visitors stayed on the homepage. Did they visit other sections of the website and purchase from categories they normally wouldn't?"
   ]
  },
  {
   "cell_type": "markdown",
   "metadata": {},
   "source": [
    "4)\n",
    "\n",
    "a. Two versions - Emails with \"please read\" vs. those with none. <br>\n",
    "b. Sample - A subset of regular correspondents receives the please read emails, while the other receives the regular emails. <br>\n",
    "c. Hypothesis - Recipients will read and respond to the please read emails. <br>\n",
    "d. Outcome of interest - The read receipt notice is activated on both sets of emails to track who read them. Instructions are also included in the emails asking for recipients to respond, which is then measured. <br>\n",
    "e. Other measured variable - Types of recipients, i.e., business, personal, etc.The nature/importance of the emails' as implied in the subject; for example, the more severe the subject, a higher response rate can be expected. Length of time recipients read or respond after the emails are sent."
   ]
  },
  {
   "cell_type": "code",
   "execution_count": null,
   "metadata": {
    "collapsed": true
   },
   "outputs": [],
   "source": []
  }
 ],
 "metadata": {
  "anaconda-cloud": {},
  "kernelspec": {
   "display_name": "Python [default]",
   "language": "python",
   "name": "python3"
  },
  "language_info": {
   "codemirror_mode": {
    "name": "ipython",
    "version": 3
   },
   "file_extension": ".py",
   "mimetype": "text/x-python",
   "name": "python",
   "nbconvert_exporter": "python",
   "pygments_lexer": "ipython3",
   "version": "3.5.2"
  }
 },
 "nbformat": 4,
 "nbformat_minor": 1
}
