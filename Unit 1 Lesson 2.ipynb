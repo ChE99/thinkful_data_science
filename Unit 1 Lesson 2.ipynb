{
 "cells": [
  {
   "cell_type": "code",
   "execution_count": 3,
   "metadata": {
    "collapsed": false
   },
   "outputs": [
    {
     "data": {
      "text/plain": [
       "\"\\nSELECT\\n    trip_id,\\n    duraton\\nFROM\\n    trips\\nWHERE\\n    duration >= 500 \\nORDER BY duration DESC\\n\\n\\n\\n\\nSELECT    \\n    *\\nFROM    \\n    stations\\nWHERE    \\n    station_id = 84 \\n\\n\\n\\nSELECT   \\n    MinTemperatureF\\nFROM\\n    weather\\nWHERE\\n    ZIP = 94301 AND\\n    Events like 'Rain'\\n\""
      ]
     },
     "execution_count": 3,
     "metadata": {},
     "output_type": "execute_result"
    }
   ],
   "source": [
    "# Select, from, where\n",
    "\n",
    "'''\n",
    "SELECT\n",
    "    trip_id,\n",
    "    duraton\n",
    "FROM\n",
    "    trips\n",
    "WHERE\n",
    "    duration >= 500 \n",
    "ORDER BY duration DESC\n",
    "\n",
    "\n",
    "\n",
    "\n",
    "SELECT    \n",
    "    *\n",
    "FROM    \n",
    "    stations\n",
    "WHERE    \n",
    "    station_id = 84 \n",
    "\n",
    "\n",
    "\n",
    "\n",
    "SELECT   \n",
    "    MinTemperatureF\n",
    "FROM\n",
    "    weather\n",
    "WHERE\n",
    "    ZIP = 94301 AND\n",
    "    Events like 'Rain'\n",
    "'''"
   ]
  },
  {
   "cell_type": "code",
   "execution_count": 7,
   "metadata": {
    "collapsed": false
   },
   "outputs": [
    {
     "data": {
      "text/plain": [
       "'\\nSELECT\\n    ZIP,\\n    MAX(MaxTemperatureF) max_temp\\nFROM\\n    weather\\nGROUP by 1\\n\\nZIP: 94063 \\nMax: 134\\n\\n\\n\\n\\nSELECT\\n    start_station,\\n    COUNT(*) station_count\\nFROM\\n    trips\\nGROUP by 1\\n\\n\\n\\n\\nSELECT\\n    trip_id,\\n    MIN(duration) min_duration\\nFROM\\n    trips\\n\\ntrip_id: 921019\\nmin_duration: 100\\n\\n\\n\\n\\nSELECT\\n    end_station,\\n    AVG(duration) avg_duration\\nFROM\\n    trips\\nGROUP BY 1\\n'"
      ]
     },
     "execution_count": 7,
     "metadata": {},
     "output_type": "execute_result"
    }
   ],
   "source": [
    "# Aggregates and groups\n",
    "\n",
    "'''\n",
    "SELECT\n",
    "    ZIP,\n",
    "    MAX(MaxTemperatureF) max_temp\n",
    "FROM\n",
    "    weather\n",
    "GROUP by 1\n",
    "\n",
    "ZIP: 94063 \n",
    "Max: 134\n",
    "\n",
    "\n",
    "\n",
    "\n",
    "SELECT\n",
    "    start_station,\n",
    "    COUNT(*) station_count\n",
    "FROM\n",
    "    trips\n",
    "GROUP by 1\n",
    "\n",
    "\n",
    "\n",
    "\n",
    "SELECT\n",
    "    trip_id,\n",
    "    MIN(duration) min_duration\n",
    "FROM\n",
    "    trips\n",
    "\n",
    "trip_id: 921019\n",
    "min_duration: 100\n",
    "\n",
    "\n",
    "\n",
    "\n",
    "SELECT\n",
    "    end_station,\n",
    "    AVG(duration) avg_duration\n",
    "FROM\n",
    "    trips\n",
    "GROUP BY 1\n",
    "'''"
   ]
  },
  {
   "cell_type": "code",
   "execution_count": null,
   "metadata": {
    "collapsed": true
   },
   "outputs": [],
   "source": []
  }
 ],
 "metadata": {
  "anaconda-cloud": {},
  "kernelspec": {
   "display_name": "Python [default]",
   "language": "python",
   "name": "python3"
  },
  "language_info": {
   "codemirror_mode": {
    "name": "ipython",
    "version": 3
   },
   "file_extension": ".py",
   "mimetype": "text/x-python",
   "name": "python",
   "nbconvert_exporter": "python",
   "pygments_lexer": "ipython3",
   "version": "3.5.2"
  }
 },
 "nbformat": 4,
 "nbformat_minor": 1
}
