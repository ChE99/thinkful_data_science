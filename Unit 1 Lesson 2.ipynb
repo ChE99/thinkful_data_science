{
 "cells": [
  {
   "cell_type": "code",
   "execution_count": 3,
   "metadata": {
    "collapsed": false
   },
   "outputs": [
    {
     "data": {
      "text/plain": [
       "\"\\nSELECT\\n    trip_id,\\n    duraton\\nFROM\\n    trips\\nWHERE\\n    duration >= 500 \\nORDER BY duration DESC\\n\\n\\n\\n\\nSELECT    \\n    *\\nFROM    \\n    stations\\nWHERE    \\n    station_id = 84 \\n\\n\\n\\nSELECT   \\n    MinTemperatureF\\nFROM\\n    weather\\nWHERE\\n    ZIP = 94301 AND\\n    Events like 'Rain'\\n\""
      ]
     },
     "execution_count": 3,
     "metadata": {},
     "output_type": "execute_result"
    }
   ],
   "source": [
    "# Select, from, where\n",
    "\n",
    "'''\n",
    "(1)\n",
    "SELECT\n",
    "    trip_id,\n",
    "    CAST(duration as INTEGER) duration\n",
    "FROM\n",
    "    trips\n",
    "WHERE\n",
    "    duration > 500 \n",
    "ORDER BY 2 DESC\n",
    "\n",
    "\n",
    "(2)\n",
    "SELECT    \n",
    "    *\n",
    "FROM    \n",
    "    stations\n",
    "WHERE    \n",
    "    station_id = 84 \n",
    "\n",
    "\n",
    "(3)\n",
    "SELECT   \n",
    "    MinTemperatureF\n",
    "FROM\n",
    "    weather\n",
    "WHERE\n",
    "    ZIP = 94301 AND\n",
    "    Events like 'Rain'\n",
    "'''"
   ]
  },
  {
   "cell_type": "code",
   "execution_count": 7,
   "metadata": {
    "collapsed": false
   },
   "outputs": [
    {
     "data": {
      "text/plain": [
       "'\\nSELECT\\n    ZIP,\\n    MAX(MaxTemperatureF) max_temp\\nFROM\\n    weather\\nGROUP by 1\\n\\nZIP: 94063 \\nMax: 134\\n\\n\\n\\n\\nSELECT\\n    start_station,\\n    COUNT(*) station_count\\nFROM\\n    trips\\nGROUP by 1\\n\\n\\n\\n\\nSELECT\\n    trip_id,\\n    MIN(duration) min_duration\\nFROM\\n    trips\\n\\ntrip_id: 921019\\nmin_duration: 100\\n\\n\\n\\n\\nSELECT\\n    end_station,\\n    AVG(duration) avg_duration\\nFROM\\n    trips\\nGROUP BY 1\\n'"
      ]
     },
     "execution_count": 7,
     "metadata": {},
     "output_type": "execute_result"
    }
   ],
   "source": [
    "# Aggregates and groups\n",
    "\n",
    "'''\n",
    "(1)\n",
    "SELECT\n",
    "    ZIP,\n",
    "    MAX(MaxTemperatureF) max_temp\n",
    "FROM\n",
    "    weather\n",
    "\n",
    "\n",
    "(2)\n",
    "SELECT\n",
    "    start_station,\n",
    "    COUNT(*) station_count\n",
    "FROM\n",
    "    trips\n",
    "GROUP by 1\n",
    "\n",
    "\n",
    "(3)\n",
    "SELECT\n",
    "    trip_id,\n",
    "    MIN(CAST(duration as INTEGER)) min_duration\n",
    "FROM\n",
    "    trips\n",
    "\n",
    "\n",
    "(4)\n",
    "SELECT\n",
    "    end_station,\n",
    "    AVG(CAST(duration as INTEGER)) avg_duration\n",
    "FROM\n",
    "    trips\n",
    "GROUP BY 1\n",
    "'''"
   ]
  },
  {
   "cell_type": "code",
   "execution_count": 1,
   "metadata": {
    "collapsed": false
   },
   "outputs": [
    {
     "data": {
      "text/plain": [
       "\"\\n1)\\nSELECT\\n    trips.trip_id,\\n    trips.duration,\\n    trips.zip_code\\nFROM\\n    trips \\nJOIN\\n    weather\\nON\\n    trips.zip_code = weather.zip\\nWHERE\\n    Events = 'Rain'\\nORDER BY duration DESC\\nLIMIT 3\\n\\n\\n\\nWITH\\n    longest_trip_rain\\nAS (\\n    SELECT\\n        zip\\n    FROM\\n        weather\\n    WHERE\\n        events = 'rain'\\n)\\nSELECT\\n    trip_id,\\n    duration,\\n    zip_code\\nFROM\\n    trips\\nJOIN\\n    longest_trip_rain\\nON\\n    longest_trip_rain.zip = trips.zip_code\\nORDER BY duration DESC\\nLIMIT 3\\n\\n\\n\\n2)\\nSELECT\\n    status.station_id,\\n    stations.name,\\n    COUNT(CASE WHEN bikes_available = 0 THEN 1 END) as empty_count\\nFROM\\n    status\\nJOIN\\n    stations\\nON\\n    status.station_id = stations.station_id\\nGROUP BY status.station_id\\nORDER BY empty_count DESC\\n\\n\\n\\n3)\\nSELECT\\n    trips.start_station,\\n    COUNT(start_station) as station_count,\\n    stations.dockcount\\nFROM\\n    trips\\nJOIN\\n    stations\\nON\\n    trips.start_station = stations.name\\nGROUP BY trips.start_station\\nORDER BY stations.dockcount DESC\\n\\n\""
      ]
     },
     "execution_count": 1,
     "metadata": {},
     "output_type": "execute_result"
    }
   ],
   "source": [
    "# Joins and CTEs\n",
    "\n",
    "'''\n",
    "(1)\n",
    "WITH\n",
    "    trip_rain\n",
    "AS (\n",
    "    SELECT\n",
    "        date\n",
    "    FROM\n",
    "        weather\n",
    "    WHERE\n",
    "        events like 'rain'\n",
    "    GROUP BY 1\n",
    ")\n",
    "SELECT\n",
    "    trip_id,\n",
    "    CAST(duration as INTEGER) duration,\n",
    "    DATE(start_date) trip_date\n",
    "FROM\n",
    "    trips\n",
    "JOIN\n",
    "    trip_rain\n",
    "ON\n",
    "    trip_rain.date = trip_date\n",
    "ORDER BY 2 DESC\n",
    "LIMIT 3\n",
    "\n",
    "\n",
    "\n",
    "(2)\n",
    "SELECT\n",
    "    status.station_id,\n",
    "    stations.name,\n",
    "    COUNT(CASE WHEN bikes_available = 0 THEN 1 END) empty_count\n",
    "FROM\n",
    "    status\n",
    "JOIN\n",
    "    stations\n",
    "ON\n",
    "    status.station_id = stations.station_id\n",
    "GROUP BY 1\n",
    "ORDER BY 3 DESC\n",
    "\n",
    "\n",
    "\n",
    "(3)\n",
    "SELECT\n",
    "    trips.start_station,\n",
    "    COUNT(start_station) trip_count,\n",
    "    stations.dockcount\n",
    "FROM\n",
    "    trips\n",
    "JOIN\n",
    "    stations\n",
    "ON\n",
    "    trips.start_station = stations.name\n",
    "GROUP BY 1\n",
    "ORDER BY 3 DESC\n",
    "\n",
    "\n",
    "\n",
    "(4.1)\n",
    "WITH \n",
    "    event_rain \n",
    "AS( \n",
    "    SELECT \n",
    "        date\n",
    "    FROM \n",
    "        weather\n",
    "    WHERE events like 'Rain'\n",
    "    GROUP BY 1\n",
    "),\n",
    "    rainy_trips \n",
    "AS(\n",
    "    SELECT\n",
    "        trip_id,\n",
    "        CAST(duration as INTEGER) duration,\n",
    "        DATE(start_date) trip_date\n",
    "    FROM \n",
    "        trips\n",
    "    JOIN \n",
    "        event_rain\n",
    "    ON \n",
    "        event_rain.date = trip_date\n",
    ")\n",
    "SELECT \n",
    "    trip_id,\n",
    "    trip_date,\n",
    "    max(duration)\n",
    "FROM \n",
    "    rainy_trips\n",
    "GROUP BY 2\n",
    "\n",
    "\n",
    "(4.2)\n",
    "WITH \n",
    "    event_rain \n",
    "AS( \n",
    "    SELECT \n",
    "        date\n",
    "    FROM \n",
    "        weather\n",
    "    WHERE events like 'Rain'\n",
    "    GROUP BY 1\n",
    ")\n",
    "SELECT\n",
    "    trip_id,\n",
    "    DATE(start_date) trip_date,\n",
    "    MAX(CAST(duration as INTEGER)) duration\n",
    "FROM \n",
    "    trips\n",
    "JOIN \n",
    "    event_rain\n",
    "ON \n",
    "    event_rain.date = trip_date\n",
    "GROUP BY 2\n",
    "'''"
   ]
  },
  {
   "cell_type": "code",
   "execution_count": null,
   "metadata": {
    "collapsed": true
   },
   "outputs": [],
   "source": []
  }
 ],
 "metadata": {
  "anaconda-cloud": {},
  "kernelspec": {
   "display_name": "Python [default]",
   "language": "python",
   "name": "python3"
  },
  "language_info": {
   "codemirror_mode": {
    "name": "ipython",
    "version": 3
   },
   "file_extension": ".py",
   "mimetype": "text/x-python",
   "name": "python",
   "nbconvert_exporter": "python",
   "pygments_lexer": "ipython3",
   "version": "3.5.2"
  }
 },
 "nbformat": 4,
 "nbformat_minor": 1
}
