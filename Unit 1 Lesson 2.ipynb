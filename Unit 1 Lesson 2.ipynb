{
 "cells": [
  {
   "cell_type": "markdown",
   "metadata": {},
   "source": [
    "SELECT\n",
    "    trip_id,\n",
    "    duration\n",
    "FROM\n",
    "    trips\n",
    "WHERE\n",
    "    duration >= 500 \n",
    "ORDER BY duration DESC\n",
    "\n",
    "\n",
    "\n",
    "\n",
    "SELECT\n",
    "    *\n",
    "FROM\n",
    "    stations\n",
    "WHERE\n",
    "    station_id = 84 \n",
    "\n",
    "\n",
    "\n",
    "SELECT\n",
    "    MinTemperatureF\n",
    "FROM\n",
    "    weather\n",
    "WHERE\n",
    "    ZIP = 94301 AND\n",
    "\tEvents like 'Rain' "
   ]
  }
 ],
 "metadata": {
  "anaconda-cloud": {},
  "kernelspec": {
   "display_name": "Python [default]",
   "language": "python",
   "name": "python3"
  },
  "language_info": {
   "codemirror_mode": {
    "name": "ipython",
    "version": 3
   },
   "file_extension": ".py",
   "mimetype": "text/x-python",
   "name": "python",
   "nbconvert_exporter": "python",
   "pygments_lexer": "ipython3",
   "version": "3.5.2"
  }
 },
 "nbformat": 4,
 "nbformat_minor": 1
}
