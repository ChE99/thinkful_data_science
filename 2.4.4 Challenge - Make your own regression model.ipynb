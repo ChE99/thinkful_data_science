{
 "cells": [
  {
   "cell_type": "code",
   "execution_count": 1,
   "metadata": {
    "collapsed": true
   },
   "outputs": [],
   "source": [
    "import numpy as np\n",
    "import pandas as pd\n",
    "import seaborn as sns\n",
    "from matplotlib import pyplot as plt\n",
    "from sklearn import linear_model\n",
    "%matplotlib inline"
   ]
  },
  {
   "cell_type": "markdown",
   "metadata": {},
   "source": [
    "### A. Data Cleaning"
   ]
  },
  {
   "cell_type": "code",
   "execution_count": 2,
   "metadata": {},
   "outputs": [
    {
     "data": {
      "text/plain": [
       "(351, 13)"
      ]
     },
     "execution_count": 2,
     "metadata": {},
     "output_type": "execute_result"
    }
   ],
   "source": [
    "# Open file (skip first four rows).\n",
    "df = pd.read_csv('https://raw.githubusercontent.com/Thinkful-Ed/data-201-resources/master/New_York_offenses/NEW_YORK-Offenses_Known_to_Law_Enforcement_by_City_2013%20-%2013tbl8ny.csv', skiprows=4)\n",
    "df.shape"
   ]
  },
  {
   "cell_type": "code",
   "execution_count": 3,
   "metadata": {},
   "outputs": [
    {
     "data": {
      "text/html": [
       "<div>\n",
       "<style>\n",
       "    .dataframe thead tr:only-child th {\n",
       "        text-align: right;\n",
       "    }\n",
       "\n",
       "    .dataframe thead th {\n",
       "        text-align: left;\n",
       "    }\n",
       "\n",
       "    .dataframe tbody tr th {\n",
       "        vertical-align: top;\n",
       "    }\n",
       "</style>\n",
       "<table border=\"1\" class=\"dataframe\">\n",
       "  <thead>\n",
       "    <tr style=\"text-align: right;\">\n",
       "      <th></th>\n",
       "      <th>City</th>\n",
       "      <th>Population</th>\n",
       "      <th>Violent\n",
       "crime</th>\n",
       "      <th>Murder and\n",
       "nonnegligent\n",
       "manslaughter</th>\n",
       "      <th>Rape\n",
       "(revised\n",
       "definition)1</th>\n",
       "      <th>Rape\n",
       "(legacy\n",
       "definition)2</th>\n",
       "      <th>Robbery</th>\n",
       "      <th>Aggravated\n",
       "assault</th>\n",
       "      <th>Property\n",
       "crime</th>\n",
       "      <th>Burglary</th>\n",
       "      <th>Larceny-\n",
       "theft</th>\n",
       "      <th>Motor\n",
       "vehicle\n",
       "theft</th>\n",
       "      <th>Arson3</th>\n",
       "    </tr>\n",
       "  </thead>\n",
       "  <tbody>\n",
       "    <tr>\n",
       "      <th>0</th>\n",
       "      <td>Adams Village</td>\n",
       "      <td>1,861</td>\n",
       "      <td>0</td>\n",
       "      <td>0.0</td>\n",
       "      <td>NaN</td>\n",
       "      <td>0</td>\n",
       "      <td>0</td>\n",
       "      <td>0</td>\n",
       "      <td>12</td>\n",
       "      <td>2</td>\n",
       "      <td>10</td>\n",
       "      <td>0</td>\n",
       "      <td>0.0</td>\n",
       "    </tr>\n",
       "    <tr>\n",
       "      <th>1</th>\n",
       "      <td>Addison Town and Village</td>\n",
       "      <td>2,577</td>\n",
       "      <td>3</td>\n",
       "      <td>0.0</td>\n",
       "      <td>NaN</td>\n",
       "      <td>0</td>\n",
       "      <td>0</td>\n",
       "      <td>3</td>\n",
       "      <td>24</td>\n",
       "      <td>3</td>\n",
       "      <td>20</td>\n",
       "      <td>1</td>\n",
       "      <td>0.0</td>\n",
       "    </tr>\n",
       "    <tr>\n",
       "      <th>2</th>\n",
       "      <td>Akron Village</td>\n",
       "      <td>2,846</td>\n",
       "      <td>3</td>\n",
       "      <td>0.0</td>\n",
       "      <td>NaN</td>\n",
       "      <td>0</td>\n",
       "      <td>0</td>\n",
       "      <td>3</td>\n",
       "      <td>16</td>\n",
       "      <td>1</td>\n",
       "      <td>15</td>\n",
       "      <td>0</td>\n",
       "      <td>0.0</td>\n",
       "    </tr>\n",
       "    <tr>\n",
       "      <th>3</th>\n",
       "      <td>Albany</td>\n",
       "      <td>97,956</td>\n",
       "      <td>791</td>\n",
       "      <td>8.0</td>\n",
       "      <td>NaN</td>\n",
       "      <td>30</td>\n",
       "      <td>227</td>\n",
       "      <td>526</td>\n",
       "      <td>4,090</td>\n",
       "      <td>705</td>\n",
       "      <td>3,243</td>\n",
       "      <td>142</td>\n",
       "      <td>NaN</td>\n",
       "    </tr>\n",
       "    <tr>\n",
       "      <th>4</th>\n",
       "      <td>Albion Village</td>\n",
       "      <td>6,388</td>\n",
       "      <td>23</td>\n",
       "      <td>0.0</td>\n",
       "      <td>NaN</td>\n",
       "      <td>3</td>\n",
       "      <td>4</td>\n",
       "      <td>16</td>\n",
       "      <td>223</td>\n",
       "      <td>53</td>\n",
       "      <td>165</td>\n",
       "      <td>5</td>\n",
       "      <td>NaN</td>\n",
       "    </tr>\n",
       "  </tbody>\n",
       "</table>\n",
       "</div>"
      ],
      "text/plain": [
       "                       City Population Violent\\ncrime  \\\n",
       "0             Adams Village      1,861              0   \n",
       "1  Addison Town and Village      2,577              3   \n",
       "2             Akron Village      2,846              3   \n",
       "3                    Albany     97,956            791   \n",
       "4            Albion Village      6,388             23   \n",
       "\n",
       "   Murder and\\nnonnegligent\\nmanslaughter  Rape\\n(revised\\ndefinition)1  \\\n",
       "0                                     0.0                           NaN   \n",
       "1                                     0.0                           NaN   \n",
       "2                                     0.0                           NaN   \n",
       "3                                     8.0                           NaN   \n",
       "4                                     0.0                           NaN   \n",
       "\n",
       "  Rape\\n(legacy\\ndefinition)2 Robbery Aggravated\\nassault Property\\ncrime  \\\n",
       "0                           0       0                   0              12   \n",
       "1                           0       0                   3              24   \n",
       "2                           0       0                   3              16   \n",
       "3                          30     227                 526           4,090   \n",
       "4                           3       4                  16             223   \n",
       "\n",
       "  Burglary Larceny-\\ntheft Motor\\nvehicle\\ntheft  Arson3  \n",
       "0        2              10                     0     0.0  \n",
       "1        3              20                     1     0.0  \n",
       "2        1              15                     0     0.0  \n",
       "3      705           3,243                   142     NaN  \n",
       "4       53             165                     5     NaN  "
      ]
     },
     "execution_count": 3,
     "metadata": {},
     "output_type": "execute_result"
    }
   ],
   "source": [
    "df.head()"
   ]
  },
  {
   "cell_type": "code",
   "execution_count": 4,
   "metadata": {},
   "outputs": [
    {
     "data": {
      "text/plain": [
       "City                                       object\n",
       "Population                                 object\n",
       "Violent\\ncrime                             object\n",
       "Murder and\\nnonnegligent\\nmanslaughter    float64\n",
       "Rape\\n(revised\\ndefinition)1              float64\n",
       "Rape\\n(legacy\\ndefinition)2                object\n",
       "Robbery                                    object\n",
       "Aggravated\\nassault                        object\n",
       "Property\\ncrime                            object\n",
       "Burglary                                   object\n",
       "Larceny-\\ntheft                            object\n",
       "Motor\\nvehicle\\ntheft                      object\n",
       "Arson3                                    float64\n",
       "dtype: object"
      ]
     },
     "execution_count": 4,
     "metadata": {},
     "output_type": "execute_result"
    }
   ],
   "source": [
    "# Check variable types.\n",
    "df.dtypes"
   ]
  },
  {
   "cell_type": "code",
   "execution_count": 5,
   "metadata": {},
   "outputs": [
    {
     "data": {
      "text/html": [
       "<div>\n",
       "<style>\n",
       "    .dataframe thead tr:only-child th {\n",
       "        text-align: right;\n",
       "    }\n",
       "\n",
       "    .dataframe thead th {\n",
       "        text-align: left;\n",
       "    }\n",
       "\n",
       "    .dataframe tbody tr th {\n",
       "        vertical-align: top;\n",
       "    }\n",
       "</style>\n",
       "<table border=\"1\" class=\"dataframe\">\n",
       "  <thead>\n",
       "    <tr style=\"text-align: right;\">\n",
       "      <th></th>\n",
       "      <th>population</th>\n",
       "      <th>murder</th>\n",
       "      <th>robbery</th>\n",
       "      <th>property_crime</th>\n",
       "    </tr>\n",
       "  </thead>\n",
       "  <tbody>\n",
       "    <tr>\n",
       "      <th>348</th>\n",
       "      <td>NaN</td>\n",
       "      <td>NaN</td>\n",
       "      <td>NaN</td>\n",
       "      <td>NaN</td>\n",
       "    </tr>\n",
       "    <tr>\n",
       "      <th>349</th>\n",
       "      <td>NaN</td>\n",
       "      <td>NaN</td>\n",
       "      <td>NaN</td>\n",
       "      <td>NaN</td>\n",
       "    </tr>\n",
       "    <tr>\n",
       "      <th>350</th>\n",
       "      <td>NaN</td>\n",
       "      <td>NaN</td>\n",
       "      <td>NaN</td>\n",
       "      <td>NaN</td>\n",
       "    </tr>\n",
       "  </tbody>\n",
       "</table>\n",
       "</div>"
      ],
      "text/plain": [
       "    population  murder robbery property_crime\n",
       "348        NaN     NaN     NaN            NaN\n",
       "349        NaN     NaN     NaN            NaN\n",
       "350        NaN     NaN     NaN            NaN"
      ]
     },
     "execution_count": 5,
     "metadata": {},
     "output_type": "execute_result"
    }
   ],
   "source": [
    "# Rename columns.\n",
    "df.rename(columns={'City': 'city','Population': 'population', 'Violent\\ncrime': 'violent_crime', 'Murder and\\nnonnegligent\\nmanslaughter': 'murder', 'Rape\\n(legacy\\ndefinition)2': 'rape','Robbery': 'robbery', 'Aggravated\\nassault': 'aggravated_assault', 'Property\\ncrime': 'property_crime', 'Burglary': 'burglary', 'Larceny-\\ntheft': 'larceny_theft', 'Motor\\nvehicle\\ntheft': 'motor_vehicle_theft', 'Arson3': 'arson'}, inplace=True)\n",
    "\n",
    "# Create subset.\n",
    "df2 = df[['population', 'murder', 'robbery', 'property_crime']]\n",
    "\n",
    "# Return the rows with null values.\n",
    "df2[df2.isnull().any(axis=1)]"
   ]
  },
  {
   "cell_type": "code",
   "execution_count": 6,
   "metadata": {},
   "outputs": [
    {
     "data": {
      "text/plain": [
       "(348, 4)"
      ]
     },
     "execution_count": 6,
     "metadata": {},
     "output_type": "execute_result"
    }
   ],
   "source": [
    "# Drop the null values.\n",
    "df2 = df2.dropna()\n",
    "df2.shape"
   ]
  },
  {
   "cell_type": "code",
   "execution_count": 7,
   "metadata": {
    "collapsed": true
   },
   "outputs": [],
   "source": [
    "# Create function to remove commas and convert columns to numeric.\n",
    "cols1 = df2.columns[df2.dtypes.eq('object')]\n",
    "convert_col = lambda col_obj: pd.to_numeric(col_obj.replace(',',''))\n",
    "df2[cols1] = df2[cols1].applymap(convert_col)"
   ]
  },
  {
   "cell_type": "code",
   "execution_count": 8,
   "metadata": {},
   "outputs": [
    {
     "data": {
      "image/png": "[encoded data removed]",
      "text/plain": [
       "<matplotlib.figure.Figure at 0x220867dd9e8>"
      ]
     },
     "metadata": {},
     "output_type": "display_data"
    }
   ],
   "source": [
    "# Check for outliers.\n",
    "fig = plt.figure(figsize=(20, 15))\n",
    "ax1 = fig.add_subplot(221)\n",
    "ax2 = fig.add_subplot(222)\n",
    "ax3 = fig.add_subplot(223)\n",
    "ax4 = fig.add_subplot(224)\n",
    "\n",
    "sns.violinplot(y='property_crime', palette='muted', data=df2, ax=ax1)\n",
    "sns.violinplot(y='population', palette='muted', data=df2, ax=ax2)\n",
    "sns.violinplot(y='murder', palette='muted', data=df2, ax=ax3)\n",
    "sns.violinplot(y='robbery', palette='muted', data=df2, ax=ax4)\n",
    "plt.show()"
   ]
  },
  {
   "cell_type": "code",
   "execution_count": 9,
   "metadata": {},
   "outputs": [
    {
     "data": {
      "image/png": "[encoded data removed]",
      "text/plain": [
       "<matplotlib.figure.Figure at 0x220867c5d30>"
      ]
     },
     "metadata": {},
     "output_type": "display_data"
    }
   ],
   "source": [
    "g = sns.PairGrid(df2)\n",
    "g = g.map(plt.scatter)"
   ]
  },
  {
   "cell_type": "code",
   "execution_count": 10,
   "metadata": {},
   "outputs": [
    {
     "name": "stdout",
     "output_type": "stream",
     "text": [
      "216    141971\n",
      "35      12491\n",
      "272     10051\n",
      "310      6473\n",
      "3        4090\n",
      "218      2807\n",
      "285      2800\n",
      "53       2689\n",
      "321      2528\n",
      "346      2368\n",
      "Name: property_crime, dtype: int64\n",
      "\n",
      "\n",
      "216    8396126\n",
      "35      258789\n",
      "272     210562\n",
      "346     199134\n",
      "310     143834\n",
      "7       118296\n",
      "3        97956\n",
      "126      96667\n",
      "267      87204\n",
      "57       80705\n",
      "Name: population, dtype: int64\n",
      "\n",
      "\n",
      "216    335.0\n",
      "35      47.0\n",
      "272     42.0\n",
      "310     21.0\n",
      "140     10.0\n",
      "3        8.0\n",
      "285      8.0\n",
      "321      7.0\n",
      "262      7.0\n",
      "346      6.0\n",
      "Name: murder, dtype: float64\n",
      "\n",
      "\n",
      "216    19170\n",
      "35      1322\n",
      "272      918\n",
      "310      400\n",
      "346      390\n",
      "206      228\n",
      "3        227\n",
      "140      204\n",
      "285      203\n",
      "218      166\n",
      "Name: robbery, dtype: int64\n"
     ]
    }
   ],
   "source": [
    "# Show top outliers.\n",
    "print(df2['property_crime'].sort_values(ascending=False).head(10))\n",
    "print('\\n')\n",
    "print(df2['population'].sort_values(ascending=False).head(10))\n",
    "print('\\n')\n",
    "print(df2['murder'].sort_values(ascending=False).head(10))\n",
    "print('\\n')\n",
    "print(df2['robbery'].sort_values(ascending=False).head(10))"
   ]
  },
  {
   "cell_type": "code",
   "execution_count": 11,
   "metadata": {},
   "outputs": [
    {
     "data": {
      "text/html": [
       "<div>\n",
       "<style>\n",
       "    .dataframe thead tr:only-child th {\n",
       "        text-align: right;\n",
       "    }\n",
       "\n",
       "    .dataframe thead th {\n",
       "        text-align: left;\n",
       "    }\n",
       "\n",
       "    .dataframe tbody tr th {\n",
       "        vertical-align: top;\n",
       "    }\n",
       "</style>\n",
       "<table border=\"1\" class=\"dataframe\">\n",
       "  <thead>\n",
       "    <tr style=\"text-align: right;\">\n",
       "      <th></th>\n",
       "      <th>population</th>\n",
       "      <th>murder</th>\n",
       "      <th>robbery</th>\n",
       "      <th>property_crime</th>\n",
       "      <th>population_squared</th>\n",
       "      <th>murder_category</th>\n",
       "      <th>robbery_category</th>\n",
       "    </tr>\n",
       "  </thead>\n",
       "  <tbody>\n",
       "    <tr>\n",
       "      <th>0</th>\n",
       "      <td>1861</td>\n",
       "      <td>0.0</td>\n",
       "      <td>0</td>\n",
       "      <td>12</td>\n",
       "      <td>3463321</td>\n",
       "      <td>0</td>\n",
       "      <td>0</td>\n",
       "    </tr>\n",
       "    <tr>\n",
       "      <th>1</th>\n",
       "      <td>2577</td>\n",
       "      <td>0.0</td>\n",
       "      <td>0</td>\n",
       "      <td>24</td>\n",
       "      <td>6640929</td>\n",
       "      <td>0</td>\n",
       "      <td>0</td>\n",
       "    </tr>\n",
       "    <tr>\n",
       "      <th>2</th>\n",
       "      <td>2846</td>\n",
       "      <td>0.0</td>\n",
       "      <td>0</td>\n",
       "      <td>16</td>\n",
       "      <td>8099716</td>\n",
       "      <td>0</td>\n",
       "      <td>0</td>\n",
       "    </tr>\n",
       "    <tr>\n",
       "      <th>3</th>\n",
       "      <td>97956</td>\n",
       "      <td>8.0</td>\n",
       "      <td>227</td>\n",
       "      <td>4090</td>\n",
       "      <td>9595377936</td>\n",
       "      <td>1</td>\n",
       "      <td>1</td>\n",
       "    </tr>\n",
       "    <tr>\n",
       "      <th>4</th>\n",
       "      <td>6388</td>\n",
       "      <td>0.0</td>\n",
       "      <td>4</td>\n",
       "      <td>223</td>\n",
       "      <td>40806544</td>\n",
       "      <td>0</td>\n",
       "      <td>1</td>\n",
       "    </tr>\n",
       "  </tbody>\n",
       "</table>\n",
       "</div>"
      ],
      "text/plain": [
       "   population  murder  robbery  property_crime  population_squared  \\\n",
       "0        1861     0.0        0              12             3463321   \n",
       "1        2577     0.0        0              24             6640929   \n",
       "2        2846     0.0        0              16             8099716   \n",
       "3       97956     8.0      227            4090          9595377936   \n",
       "4        6388     0.0        4             223            40806544   \n",
       "\n",
       "   murder_category  robbery_category  \n",
       "0                0                 0  \n",
       "1                0                 0  \n",
       "2                0                 0  \n",
       "3                1                 1  \n",
       "4                0                 1  "
      ]
     },
     "execution_count": 11,
     "metadata": {},
     "output_type": "execute_result"
    }
   ],
   "source": [
    "# Create features.\n",
    "df2['population_squared'] = df2['population'] * df2['population']\n",
    "df2['murder_category'] = np.where(df2['murder']>0, 1, 0)\n",
    "df2['robbery_category'] = np.where(df2['robbery']>0, 1, 0)\n",
    "df2.head()"
   ]
  },
  {
   "cell_type": "code",
   "execution_count": 12,
   "metadata": {},
   "outputs": [
    {
     "name": "stdout",
     "output_type": "stream",
     "text": [
      "\n",
      "Coefficients: \n",
      " [  3.46570268e-02  -2.11108019e-09   1.51866535e+01  -9.62774363e+01]\n",
      "\n",
      "Intercept: \n",
      " -109.575335623\n",
      "\n",
      "R-squared:\n",
      "0.996124710499\n"
     ]
    }
   ],
   "source": [
    "# Run the regression model based on population and the three created features.\n",
    "regr = linear_model.LinearRegression()\n",
    "Y = df2['property_crime']\n",
    "X = df2[['population','population_squared','murder_category','robbery_category']]\n",
    "regr.fit(X, Y)\n",
    "\n",
    "print('\\nCoefficients: \\n', regr.coef_)\n",
    "print('\\nIntercept: \\n', regr.intercept_)\n",
    "print('\\nR-squared:')\n",
    "print(regr.score(X, Y))"
   ]
  },
  {
   "cell_type": "markdown",
   "metadata": {},
   "source": [
    "R-squared is extremely high; the model is probably overfit. Check if the regression assumptions are true. "
   ]
  },
  {
   "cell_type": "markdown",
   "metadata": {},
   "source": [
    "### B. Verify assumptions\n",
    "\n",
    "#### 1. Multivariate non-normality"
   ]
  },
  {
   "cell_type": "code",
   "execution_count": 13,
   "metadata": {},
   "outputs": [
    {
     "data": {
      "image/png": "[encoded data removed]",
      "text/plain": [
       "<matplotlib.figure.Figure at 0x220829ea908>"
      ]
     },
     "metadata": {},
     "output_type": "display_data"
    }
   ],
   "source": [
    "# Check for multivariate non-normality.\n",
    "predicted = regr.predict(X)\n",
    "actual = df2['property_crime']\n",
    "residual = actual - predicted\n",
    "plt.hist(residual)\n",
    "plt.title('Residual counts')\n",
    "plt.xlabel('Residual')\n",
    "plt.ylabel('Count')\n",
    "plt.show()"
   ]
  },
  {
   "cell_type": "code",
   "execution_count": 14,
   "metadata": {},
   "outputs": [
    {
     "data": {
      "image/png": "[encoded data removed]",
      "text/plain": [
       "<matplotlib.figure.Figure at 0x220879669b0>"
      ]
     },
     "metadata": {},
     "output_type": "display_data"
    }
   ],
   "source": [
    "# Confirm with QQ plot.\n",
    "import pylab \n",
    "import scipy.stats as stats\n",
    "\n",
    "stats.probplot(residual, plot=pylab)\n",
    "plt.show()"
   ]
  },
  {
   "cell_type": "markdown",
   "metadata": {},
   "source": [
    "The residuals are not normally distributed. Fix with non-linear transformations in either dependent or independent variables, or both. "
   ]
  },
  {
   "cell_type": "code",
   "execution_count": 15,
   "metadata": {},
   "outputs": [
    {
     "data": {
      "text/html": [
       "<div>\n",
       "<style>\n",
       "    .dataframe thead tr:only-child th {\n",
       "        text-align: right;\n",
       "    }\n",
       "\n",
       "    .dataframe thead th {\n",
       "        text-align: left;\n",
       "    }\n",
       "\n",
       "    .dataframe tbody tr th {\n",
       "        vertical-align: top;\n",
       "    }\n",
       "</style>\n",
       "<table border=\"1\" class=\"dataframe\">\n",
       "  <thead>\n",
       "    <tr style=\"text-align: right;\">\n",
       "      <th></th>\n",
       "      <th>population</th>\n",
       "      <th>murder</th>\n",
       "      <th>robbery</th>\n",
       "      <th>property_crime</th>\n",
       "      <th>population_squared</th>\n",
       "      <th>murder_category</th>\n",
       "      <th>robbery_category</th>\n",
       "    </tr>\n",
       "  </thead>\n",
       "  <tbody>\n",
       "    <tr>\n",
       "      <th>186</th>\n",
       "      <td>1688</td>\n",
       "      <td>0.0</td>\n",
       "      <td>0</td>\n",
       "      <td>0</td>\n",
       "      <td>2849344</td>\n",
       "      <td>0</td>\n",
       "      <td>0</td>\n",
       "    </tr>\n",
       "    <tr>\n",
       "      <th>208</th>\n",
       "      <td>1622</td>\n",
       "      <td>0.0</td>\n",
       "      <td>0</td>\n",
       "      <td>0</td>\n",
       "      <td>2630884</td>\n",
       "      <td>0</td>\n",
       "      <td>0</td>\n",
       "    </tr>\n",
       "    <tr>\n",
       "      <th>256</th>\n",
       "      <td>1274</td>\n",
       "      <td>0.0</td>\n",
       "      <td>0</td>\n",
       "      <td>0</td>\n",
       "      <td>1623076</td>\n",
       "      <td>0</td>\n",
       "      <td>0</td>\n",
       "    </tr>\n",
       "    <tr>\n",
       "      <th>287</th>\n",
       "      <td>872</td>\n",
       "      <td>0.0</td>\n",
       "      <td>0</td>\n",
       "      <td>0</td>\n",
       "      <td>760384</td>\n",
       "      <td>0</td>\n",
       "      <td>0</td>\n",
       "    </tr>\n",
       "    <tr>\n",
       "      <th>295</th>\n",
       "      <td>1437</td>\n",
       "      <td>0.0</td>\n",
       "      <td>0</td>\n",
       "      <td>0</td>\n",
       "      <td>2064969</td>\n",
       "      <td>0</td>\n",
       "      <td>0</td>\n",
       "    </tr>\n",
       "    <tr>\n",
       "      <th>319</th>\n",
       "      <td>615</td>\n",
       "      <td>0.0</td>\n",
       "      <td>0</td>\n",
       "      <td>0</td>\n",
       "      <td>378225</td>\n",
       "      <td>0</td>\n",
       "      <td>0</td>\n",
       "    </tr>\n",
       "  </tbody>\n",
       "</table>\n",
       "</div>"
      ],
      "text/plain": [
       "     population  murder  robbery  property_crime  population_squared  \\\n",
       "186        1688     0.0        0               0             2849344   \n",
       "208        1622     0.0        0               0             2630884   \n",
       "256        1274     0.0        0               0             1623076   \n",
       "287         872     0.0        0               0              760384   \n",
       "295        1437     0.0        0               0             2064969   \n",
       "319         615     0.0        0               0              378225   \n",
       "\n",
       "     murder_category  robbery_category  \n",
       "186                0                 0  \n",
       "208                0                 0  \n",
       "256                0                 0  \n",
       "287                0                 0  \n",
       "295                0                 0  \n",
       "319                0                 0  "
      ]
     },
     "execution_count": 15,
     "metadata": {},
     "output_type": "execute_result"
    }
   ],
   "source": [
    "# Transformation causes error. Check for zeroes in property_crime (dependent variable).\n",
    "df2[df2['property_crime'] == 0]"
   ]
  },
  {
   "cell_type": "code",
   "execution_count": 16,
   "metadata": {},
   "outputs": [
    {
     "data": {
      "text/plain": [
       "(342, 7)"
      ]
     },
     "execution_count": 16,
     "metadata": {},
     "output_type": "execute_result"
    }
   ],
   "source": [
    "# Drop rows with zeroes.\n",
    "df3 = df2[df2['property_crime'] != 0]\n",
    "df3.shape"
   ]
  },
  {
   "cell_type": "markdown",
   "metadata": {},
   "source": [
    "Removing rows with zeroes in the dependent variable should not adversely impact the model since they don't add to the model's predictive value. The same can't be said for independent variables. Rows with zero independent variables will not be dropped, therefore, transformation will be limited to the dependent variable. Log transformation will be conducted since it is best suited for dealing with outliers, which causes residual non-normality. "
   ]
  },
  {
   "cell_type": "code",
   "execution_count": 17,
   "metadata": {},
   "outputs": [
    {
     "name": "stdout",
     "output_type": "stream",
     "text": [
      "\n",
      "Coefficients: \n",
      " [  2.53312085e-05  -2.92565093e-12   4.94593986e-01   1.63131662e+00]\n",
      "\n",
      "Intercept: \n",
      " 3.29309526531\n",
      "\n",
      "R-squared:\n",
      "0.690682085308\n"
     ]
    }
   ],
   "source": [
    "# Rerun the model with log transformation on the dependent variable.\n",
    "Y2 = np.log(df3['property_crime'])\n",
    "X2 = df3[['population','population_squared','murder_category','robbery_category']]\n",
    "regr.fit(X2, Y2)\n",
    "\n",
    "print('\\nCoefficients: \\n', regr.coef_)\n",
    "print('\\nIntercept: \\n', regr.intercept_)\n",
    "print('\\nR-squared:')\n",
    "print(regr.score(X2, Y2))"
   ]
  },
  {
   "cell_type": "markdown",
   "metadata": {},
   "source": [
    "The model's accuracy dropped significantly. "
   ]
  },
  {
   "cell_type": "code",
   "execution_count": 18,
   "metadata": {},
   "outputs": [
    {
     "data": {
      "image/png": "[encoded data removed]",
      "text/plain": [
       "<matplotlib.figure.Figure at 0x220880f6630>"
      ]
     },
     "metadata": {},
     "output_type": "display_data"
    }
   ],
   "source": [
    "# Verify residual distribution.\n",
    "predicted2 = regr.predict(X2)\n",
    "actual2 = Y2\n",
    "residual2 = actual2 - predicted2\n",
    "plt.hist(residual2)\n",
    "plt.title('Residual counts')\n",
    "plt.xlabel('Residual')\n",
    "plt.ylabel('Count')\n",
    "plt.show()"
   ]
  },
  {
   "cell_type": "code",
   "execution_count": 19,
   "metadata": {},
   "outputs": [
    {
     "data": {
      "image/png": "[encoded data removed]",
      "text/plain": [
       "<matplotlib.figure.Figure at 0x22088154630>"
      ]
     },
     "metadata": {},
     "output_type": "display_data"
    }
   ],
   "source": [
    "# Check with QQ plot.\n",
    "stats.probplot(residual2, plot=pylab)\n",
    "plt.show()"
   ]
  },
  {
   "cell_type": "markdown",
   "metadata": {},
   "source": [
    "The log transformation appears to have improved the residual distribution, but at the expense of model accuracy. "
   ]
  },
  {
   "cell_type": "markdown",
   "metadata": {},
   "source": [
    "##### a. Comparison: Outliers removed"
   ]
  },
  {
   "cell_type": "code",
   "execution_count": 20,
   "metadata": {
    "collapsed": true
   },
   "outputs": [],
   "source": [
    "# Compare results with data where outliers are removed.\n",
    "df4 = df2[df2['population']<100000]"
   ]
  },
  {
   "cell_type": "code",
   "execution_count": 21,
   "metadata": {},
   "outputs": [
    {
     "name": "stdout",
     "output_type": "stream",
     "text": [
      "\n",
      "Coefficients: \n",
      " [  1.31899277e-02   1.36183482e-07   1.94770525e+02   8.05675060e+01]\n",
      "\n",
      "Intercept: \n",
      " -18.823557926\n",
      "\n",
      "R-squared:\n",
      "0.745964704737\n"
     ]
    }
   ],
   "source": [
    "Y3 = df4['property_crime']\n",
    "X3 = df4[['population','population_squared','murder_category','robbery_category']]\n",
    "regr.fit(X3, Y3)\n",
    "\n",
    "print('\\nCoefficients: \\n', regr.coef_)\n",
    "print('\\nIntercept: \\n', regr.intercept_)\n",
    "print('\\nR-squared:')\n",
    "print(regr.score(X3, Y3))"
   ]
  },
  {
   "cell_type": "code",
   "execution_count": 22,
   "metadata": {},
   "outputs": [
    {
     "data": {
      "image/png": "[encoded data removed]",
      "text/plain": [
       "<matplotlib.figure.Figure at 0x220881877f0>"
      ]
     },
     "metadata": {},
     "output_type": "display_data"
    }
   ],
   "source": [
    "predicted3 = regr.predict(X3)\n",
    "actual3 = Y3\n",
    "residual3 = actual3 - predicted3\n",
    "plt.hist(residual3)\n",
    "plt.title('Residual counts')\n",
    "plt.xlabel('Residual')\n",
    "plt.ylabel('Count')\n",
    "plt.show()"
   ]
  },
  {
   "cell_type": "code",
   "execution_count": 23,
   "metadata": {},
   "outputs": [
    {
     "data": {
      "image/png": "[encoded data removed]",
      "text/plain": [
       "<matplotlib.figure.Figure at 0x2208811fef0>"
      ]
     },
     "metadata": {},
     "output_type": "display_data"
    }
   ],
   "source": [
    "stats.probplot(residual3, plot=pylab)\n",
    "plt.show()"
   ]
  },
  {
   "cell_type": "markdown",
   "metadata": {},
   "source": [
    "##### b. Comparison: Outliers removed with log transformation"
   ]
  },
  {
   "cell_type": "code",
   "execution_count": 24,
   "metadata": {},
   "outputs": [
    {
     "name": "stdout",
     "output_type": "stream",
     "text": [
      "\n",
      "Coefficients: \n",
      " [  9.63342242e-05  -6.95527515e-10   1.42060833e-01   1.16510150e+00]\n",
      "\n",
      "Intercept: \n",
      " 2.9921533517\n",
      "\n",
      "R-squared:\n",
      "0.732091721047\n"
     ]
    }
   ],
   "source": [
    "df5 = df3[df3['population']<100000]\n",
    "Y4 = np.log(df5['property_crime'])\n",
    "X4 = df5[['population','population_squared','murder_category','robbery_category']]\n",
    "regr.fit(X4, Y4)\n",
    "\n",
    "print('\\nCoefficients: \\n', regr.coef_)\n",
    "print('\\nIntercept: \\n', regr.intercept_)\n",
    "print('\\nR-squared:')\n",
    "print(regr.score(X4, Y4))"
   ]
  },
  {
   "cell_type": "code",
   "execution_count": 25,
   "metadata": {},
   "outputs": [
    {
     "data": {
      "image/png": "[encoded data removed]",
      "text/plain": [
       "<matplotlib.figure.Figure at 0x22087a390b8>"
      ]
     },
     "metadata": {},
     "output_type": "display_data"
    }
   ],
   "source": [
    "predicted4 = regr.predict(X4)\n",
    "actual4 = Y4\n",
    "residual4 = actual4 - predicted4\n",
    "plt.hist(residual4)\n",
    "plt.title('Residual counts')\n",
    "plt.xlabel('Residual')\n",
    "plt.ylabel('Count')\n",
    "plt.show()"
   ]
  },
  {
   "cell_type": "code",
   "execution_count": 26,
   "metadata": {},
   "outputs": [
    {
     "data": {
      "image/png": "[encoded data removed]",
      "text/plain": [
       "<matplotlib.figure.Figure at 0x22087ca9278>"
      ]
     },
     "metadata": {},
     "output_type": "display_data"
    }
   ],
   "source": [
    "stats.probplot(residual4, plot=pylab)\n",
    "plt.show()"
   ]
  },
  {
   "cell_type": "markdown",
   "metadata": {},
   "source": [
    "The log transformation of the dependent variable where the outliers have been removed appears to improve residual distribution the most. It also improves the model's accuracy."
   ]
  },
  {
   "cell_type": "markdown",
   "metadata": {},
   "source": [
    "#### 2. Heteroscedasticity"
   ]
  },
  {
   "cell_type": "code",
   "execution_count": 27,
   "metadata": {},
   "outputs": [
    {
     "data": {
      "image/png": "[encoded data removed]",
      "text/plain": [
       "<matplotlib.figure.Figure at 0x220881c7048>"
      ]
     },
     "metadata": {},
     "output_type": "display_data"
    }
   ],
   "source": [
    "# Check for heteroscedasticity.\n",
    "plt.scatter(predicted, residual)\n",
    "plt.title('Residual vs. Predicted')\n",
    "plt.xlabel('Predicted')\n",
    "plt.ylabel('Residual')\n",
    "plt.show()"
   ]
  },
  {
   "cell_type": "markdown",
   "metadata": {},
   "source": [
    "Variable transformation can also address heteroscedasticity issues. The following plots show the corresponding effects."
   ]
  },
  {
   "cell_type": "code",
   "execution_count": 28,
   "metadata": {},
   "outputs": [
    {
     "data": {
      "image/png": "[encoded data removed]",
      "text/plain": [
       "<matplotlib.figure.Figure at 0x2208825dcc0>"
      ]
     },
     "metadata": {},
     "output_type": "display_data"
    }
   ],
   "source": [
    "# Log transformation with outliers.\n",
    "plt.scatter(predicted2, residual2)\n",
    "plt.title('Residual vs. Predicted')\n",
    "plt.xlabel('Predicted')\n",
    "plt.ylabel('Residual')\n",
    "plt.show()"
   ]
  },
  {
   "cell_type": "code",
   "execution_count": 29,
   "metadata": {},
   "outputs": [
    {
     "data": {
      "image/png": "[encoded data removed]",
      "text/plain": [
       "<matplotlib.figure.Figure at 0x220882fe2b0>"
      ]
     },
     "metadata": {},
     "output_type": "display_data"
    }
   ],
   "source": [
    "# Outliers removed, no transformation.\n",
    "plt.scatter(predicted3, residual3)\n",
    "plt.title('Residual vs. Predicted')\n",
    "plt.xlabel('Predicted')\n",
    "plt.ylabel('Residual')\n",
    "plt.show()"
   ]
  },
  {
   "cell_type": "code",
   "execution_count": 30,
   "metadata": {},
   "outputs": [
    {
     "data": {
      "image/png": "[encoded data removed]",
      "text/plain": [
       "<matplotlib.figure.Figure at 0x22088357e10>"
      ]
     },
     "metadata": {},
     "output_type": "display_data"
    }
   ],
   "source": [
    "# Outliers removed, with transformation.\n",
    "plt.scatter(predicted4, residual4)\n",
    "plt.title('Residual vs. Predicted')\n",
    "plt.xlabel('Predicted')\n",
    "plt.ylabel('Residual')\n",
    "plt.show()"
   ]
  },
  {
   "cell_type": "markdown",
   "metadata": {},
   "source": [
    "As with multivariate non-normality, log transformation on the dependent variable where the outliers have been removed appear to have the most effect on heteroscedasticity."
   ]
  },
  {
   "cell_type": "code",
   "execution_count": 31,
   "metadata": {},
   "outputs": [
    {
     "data": {
      "image/png": "[encoded data removed]",
      "text/plain": [
       "<matplotlib.figure.Figure at 0x22087a39c18>"
      ]
     },
     "metadata": {},
     "output_type": "display_data"
    }
   ],
   "source": [
    "# Another option for heteroscedasticity is the boxcox transformation.\n",
    "from scipy.stats import boxcox\n",
    "Y_bc = boxcox(df3['property_crime'])\n",
    "plt.hist(Y_bc, bins=50)\n",
    "plt.show()"
   ]
  },
  {
   "cell_type": "code",
   "execution_count": 32,
   "metadata": {},
   "outputs": [
    {
     "data": {
      "image/png": "[encoded data removed]",
      "text/plain": [
       "<matplotlib.figure.Figure at 0x22088385be0>"
      ]
     },
     "metadata": {},
     "output_type": "display_data"
    }
   ],
   "source": [
    "# For comparison, a plot of the original dependent variable is shown.\n",
    "plt.hist(Y, bins=50)\n",
    "plt.show()"
   ]
  },
  {
   "cell_type": "markdown",
   "metadata": {
    "collapsed": true
   },
   "source": [
    "### C. Build a model\n",
    "\n",
    "#### 1. Preset features\n",
    "\n",
    "Use the features created earlier - square of population and categorical representation of murder and robbery."
   ]
  },
  {
   "cell_type": "code",
   "execution_count": 33,
   "metadata": {},
   "outputs": [
    {
     "data": {
      "text/html": [
       "<table class=\"simpletable\">\n",
       "<caption>OLS Regression Results</caption>\n",
       "<tr>\n",
       "  <th>Dep. Variable:</th>     <td>property_crime</td>  <th>  R-squared:         </th> <td>   0.744</td>\n",
       "</tr>\n",
       "<tr>\n",
       "  <th>Model:</th>                   <td>OLS</td>       <th>  Adj. R-squared:    </th> <td>   0.741</td>\n",
       "</tr>\n",
       "<tr>\n",
       "  <th>Method:</th>             <td>Least Squares</td>  <th>  F-statistic:       </th> <td>   240.9</td>\n",
       "</tr>\n",
       "<tr>\n",
       "  <th>Date:</th>             <td>Sat, 30 Dec 2017</td> <th>  Prob (F-statistic):</th> <td>1.14e-96</td>\n",
       "</tr>\n",
       "<tr>\n",
       "  <th>Time:</th>                 <td>13:16:56</td>     <th>  Log-Likelihood:    </th> <td> -2333.3</td>\n",
       "</tr>\n",
       "<tr>\n",
       "  <th>No. Observations:</th>      <td>   336</td>      <th>  AIC:               </th> <td>   4677.</td>\n",
       "</tr>\n",
       "<tr>\n",
       "  <th>Df Residuals:</th>          <td>   331</td>      <th>  BIC:               </th> <td>   4696.</td>\n",
       "</tr>\n",
       "<tr>\n",
       "  <th>Df Model:</th>              <td>     4</td>      <th>                     </th>     <td> </td>   \n",
       "</tr>\n",
       "<tr>\n",
       "  <th>Covariance Type:</th>      <td>nonrobust</td>    <th>                     </th>     <td> </td>   \n",
       "</tr>\n",
       "</table>\n",
       "<table class=\"simpletable\">\n",
       "<tr>\n",
       "           <td></td>             <th>coef</th>     <th>std err</th>      <th>t</th>      <th>P>|t|</th>  <th>[0.025</th>    <th>0.975]</th>  \n",
       "</tr>\n",
       "<tr>\n",
       "  <th>Intercept</th>          <td>  -18.9381</td> <td>   24.356</td> <td>   -0.778</td> <td> 0.437</td> <td>  -66.850</td> <td>   28.974</td>\n",
       "</tr>\n",
       "<tr>\n",
       "  <th>population</th>         <td>    0.0132</td> <td>    0.003</td> <td>    5.188</td> <td> 0.000</td> <td>    0.008</td> <td>    0.018</td>\n",
       "</tr>\n",
       "<tr>\n",
       "  <th>population_squared</th> <td> 1.361e-07</td> <td> 3.15e-08</td> <td>    4.322</td> <td> 0.000</td> <td> 7.42e-08</td> <td> 1.98e-07</td>\n",
       "</tr>\n",
       "<tr>\n",
       "  <th>murder_category</th>    <td>  194.7452</td> <td>   47.549</td> <td>    4.096</td> <td> 0.000</td> <td>  101.210</td> <td>  288.281</td>\n",
       "</tr>\n",
       "<tr>\n",
       "  <th>robbery_category</th>   <td>   80.6318</td> <td>   33.525</td> <td>    2.405</td> <td> 0.017</td> <td>   14.683</td> <td>  146.580</td>\n",
       "</tr>\n",
       "</table>\n",
       "<table class=\"simpletable\">\n",
       "<tr>\n",
       "  <th>Omnibus:</th>       <td>114.955</td> <th>  Durbin-Watson:     </th> <td>   1.928</td>\n",
       "</tr>\n",
       "<tr>\n",
       "  <th>Prob(Omnibus):</th> <td> 0.000</td>  <th>  Jarque-Bera (JB):  </th> <td>4206.557</td>\n",
       "</tr>\n",
       "<tr>\n",
       "  <th>Skew:</th>          <td> 0.657</td>  <th>  Prob(JB):          </th> <td>    0.00</td>\n",
       "</tr>\n",
       "<tr>\n",
       "  <th>Kurtosis:</th>      <td>20.284</td>  <th>  Cond. No.          </th> <td>4.53e+09</td>\n",
       "</tr>\n",
       "</table>"
      ],
      "text/plain": [
       "<class 'statsmodels.iolib.summary.Summary'>\n",
       "\"\"\"\n",
       "                            OLS Regression Results                            \n",
       "==============================================================================\n",
       "Dep. Variable:         property_crime   R-squared:                       0.744\n",
       "Model:                            OLS   Adj. R-squared:                  0.741\n",
       "Method:                 Least Squares   F-statistic:                     240.9\n",
       "Date:                Sat, 30 Dec 2017   Prob (F-statistic):           1.14e-96\n",
       "Time:                        13:16:56   Log-Likelihood:                -2333.3\n",
       "No. Observations:                 336   AIC:                             4677.\n",
       "Df Residuals:                     331   BIC:                             4696.\n",
       "Df Model:                           4                                         \n",
       "Covariance Type:            nonrobust                                         \n",
       "======================================================================================\n",
       "                         coef    std err          t      P>|t|      [0.025      0.975]\n",
       "--------------------------------------------------------------------------------------\n",
       "Intercept            -18.9381     24.356     -0.778      0.437     -66.850      28.974\n",
       "population             0.0132      0.003      5.188      0.000       0.008       0.018\n",
       "population_squared  1.361e-07   3.15e-08      4.322      0.000    7.42e-08    1.98e-07\n",
       "murder_category      194.7452     47.549      4.096      0.000     101.210     288.281\n",
       "robbery_category      80.6318     33.525      2.405      0.017      14.683     146.580\n",
       "==============================================================================\n",
       "Omnibus:                      114.955   Durbin-Watson:                   1.928\n",
       "Prob(Omnibus):                  0.000   Jarque-Bera (JB):             4206.557\n",
       "Skew:                           0.657   Prob(JB):                         0.00\n",
       "Kurtosis:                      20.284   Cond. No.                     4.53e+09\n",
       "==============================================================================\n",
       "\n",
       "Warnings:\n",
       "[1] Standard Errors assume that the covariance matrix of the errors is correctly specified.\n",
       "[2] The condition number is large, 4.53e+09. This might indicate that there are\n",
       "strong multicollinearity or other numerical problems.\n",
       "\"\"\""
      ]
     },
     "execution_count": 33,
     "metadata": {},
     "output_type": "execute_result"
    }
   ],
   "source": [
    "# Use statsmodels (as opposed to scikit-learn) for summary table.\n",
    "import statsmodels.formula.api as smf\n",
    "\n",
    "# Fit the model on the features that were created earlier for population, murder and robbery.\n",
    "lm = smf.ols(formula='property_crime ~ population + population_squared + murder_category + robbery_category', data=df5).fit()\n",
    "\n",
    "# Print the summary table.\n",
    "lm.summary()"
   ]
  },
  {
   "cell_type": "markdown",
   "metadata": {},
   "source": [
    "All features have significant p values (< 0.05), which means the null hypothesis, i.e., that there is no association between these features and property crime can be rejected. These features are therefore valid and can be kept in this model, which has a modest accuracy at 0.74 R-squared."
   ]
  },
  {
   "cell_type": "code",
   "execution_count": 34,
   "metadata": {
    "scrolled": true
   },
   "outputs": [
    {
     "name": "stdout",
     "output_type": "stream",
     "text": [
      "Predicted:\n",
      "0       6.088937\n",
      "1      15.969010\n",
      "2      19.717006\n",
      "3    2855.158447\n",
      "4     151.537257\n",
      "dtype: float64\n",
      "\n",
      "\n",
      "Actual:\n",
      "0      12\n",
      "1      24\n",
      "2      16\n",
      "3    4090\n",
      "4     223\n",
      "Name: property_crime, dtype: int64\n"
     ]
    }
   ],
   "source": [
    "# Predict and compare with actual.\n",
    "print('Predicted:')\n",
    "print(lm.predict(df5).head())\n",
    "print('\\n')\n",
    "print('Actual:')\n",
    "print(df5['property_crime'].head())"
   ]
  },
  {
   "cell_type": "markdown",
   "metadata": {},
   "source": [
    "#### 2. Feature selection\n",
    "\n",
    "Select variables using automatic feature selection techniques. For demonstration purposes, two techniques will be used. The entire dataset will be utilized and prepared per the steps below."
   ]
  },
  {
   "cell_type": "code",
   "execution_count": 35,
   "metadata": {},
   "outputs": [
    {
     "data": {
      "text/plain": [
       "city                              0\n",
       "population                        3\n",
       "violent_crime                     3\n",
       "murder                            3\n",
       "Rape\\n(revised\\ndefinition)1    351\n",
       "rape                              3\n",
       "robbery                           3\n",
       "aggravated_assault                3\n",
       "property_crime                    3\n",
       "burglary                          3\n",
       "larceny_theft                     3\n",
       "motor_vehicle_theft               3\n",
       "arson                           164\n",
       "dtype: int64"
      ]
     },
     "execution_count": 35,
     "metadata": {},
     "output_type": "execute_result"
    }
   ],
   "source": [
    "# Show null count for each column.\n",
    "df.isnull().sum()"
   ]
  },
  {
   "cell_type": "code",
   "execution_count": 36,
   "metadata": {},
   "outputs": [
    {
     "data": {
      "text/html": [
       "<div>\n",
       "<style>\n",
       "    .dataframe thead tr:only-child th {\n",
       "        text-align: right;\n",
       "    }\n",
       "\n",
       "    .dataframe thead th {\n",
       "        text-align: left;\n",
       "    }\n",
       "\n",
       "    .dataframe tbody tr th {\n",
       "        vertical-align: top;\n",
       "    }\n",
       "</style>\n",
       "<table border=\"1\" class=\"dataframe\">\n",
       "  <thead>\n",
       "    <tr style=\"text-align: right;\">\n",
       "      <th></th>\n",
       "      <th>city</th>\n",
       "      <th>population</th>\n",
       "      <th>violent_crime</th>\n",
       "      <th>murder</th>\n",
       "      <th>Rape\n",
       "(revised\n",
       "definition)1</th>\n",
       "      <th>rape</th>\n",
       "      <th>robbery</th>\n",
       "      <th>aggravated_assault</th>\n",
       "      <th>property_crime</th>\n",
       "      <th>burglary</th>\n",
       "      <th>larceny_theft</th>\n",
       "      <th>motor_vehicle_theft</th>\n",
       "      <th>arson</th>\n",
       "    </tr>\n",
       "  </thead>\n",
       "  <tbody>\n",
       "    <tr>\n",
       "      <th>346</th>\n",
       "      <td>Yonkers</td>\n",
       "      <td>199,134</td>\n",
       "      <td>1,036</td>\n",
       "      <td>6.0</td>\n",
       "      <td>NaN</td>\n",
       "      <td>25</td>\n",
       "      <td>390</td>\n",
       "      <td>615</td>\n",
       "      <td>2,368</td>\n",
       "      <td>470</td>\n",
       "      <td>1,662</td>\n",
       "      <td>236</td>\n",
       "      <td>10.0</td>\n",
       "    </tr>\n",
       "    <tr>\n",
       "      <th>347</th>\n",
       "      <td>Yorktown Town</td>\n",
       "      <td>36,643</td>\n",
       "      <td>15</td>\n",
       "      <td>0.0</td>\n",
       "      <td>NaN</td>\n",
       "      <td>0</td>\n",
       "      <td>2</td>\n",
       "      <td>13</td>\n",
       "      <td>334</td>\n",
       "      <td>45</td>\n",
       "      <td>287</td>\n",
       "      <td>2</td>\n",
       "      <td>NaN</td>\n",
       "    </tr>\n",
       "    <tr>\n",
       "      <th>348</th>\n",
       "      <td>1 The figures shown in this column for the off...</td>\n",
       "      <td>NaN</td>\n",
       "      <td>NaN</td>\n",
       "      <td>NaN</td>\n",
       "      <td>NaN</td>\n",
       "      <td>NaN</td>\n",
       "      <td>NaN</td>\n",
       "      <td>NaN</td>\n",
       "      <td>NaN</td>\n",
       "      <td>NaN</td>\n",
       "      <td>NaN</td>\n",
       "      <td>NaN</td>\n",
       "      <td>NaN</td>\n",
       "    </tr>\n",
       "    <tr>\n",
       "      <th>349</th>\n",
       "      <td>2 The figures shown in this column for the off...</td>\n",
       "      <td>NaN</td>\n",
       "      <td>NaN</td>\n",
       "      <td>NaN</td>\n",
       "      <td>NaN</td>\n",
       "      <td>NaN</td>\n",
       "      <td>NaN</td>\n",
       "      <td>NaN</td>\n",
       "      <td>NaN</td>\n",
       "      <td>NaN</td>\n",
       "      <td>NaN</td>\n",
       "      <td>NaN</td>\n",
       "      <td>NaN</td>\n",
       "    </tr>\n",
       "    <tr>\n",
       "      <th>350</th>\n",
       "      <td>3 The FBI does not publish arson data unless i...</td>\n",
       "      <td>NaN</td>\n",
       "      <td>NaN</td>\n",
       "      <td>NaN</td>\n",
       "      <td>NaN</td>\n",
       "      <td>NaN</td>\n",
       "      <td>NaN</td>\n",
       "      <td>NaN</td>\n",
       "      <td>NaN</td>\n",
       "      <td>NaN</td>\n",
       "      <td>NaN</td>\n",
       "      <td>NaN</td>\n",
       "      <td>NaN</td>\n",
       "    </tr>\n",
       "  </tbody>\n",
       "</table>\n",
       "</div>"
      ],
      "text/plain": [
       "                                                  city population  \\\n",
       "346                                            Yonkers    199,134   \n",
       "347                                      Yorktown Town     36,643   \n",
       "348  1 The figures shown in this column for the off...        NaN   \n",
       "349  2 The figures shown in this column for the off...        NaN   \n",
       "350  3 The FBI does not publish arson data unless i...        NaN   \n",
       "\n",
       "    violent_crime  murder  Rape\\n(revised\\ndefinition)1 rape robbery  \\\n",
       "346         1,036     6.0                           NaN   25     390   \n",
       "347            15     0.0                           NaN    0       2   \n",
       "348           NaN     NaN                           NaN  NaN     NaN   \n",
       "349           NaN     NaN                           NaN  NaN     NaN   \n",
       "350           NaN     NaN                           NaN  NaN     NaN   \n",
       "\n",
       "    aggravated_assault property_crime burglary larceny_theft  \\\n",
       "346                615          2,368      470         1,662   \n",
       "347                 13            334       45           287   \n",
       "348                NaN            NaN      NaN           NaN   \n",
       "349                NaN            NaN      NaN           NaN   \n",
       "350                NaN            NaN      NaN           NaN   \n",
       "\n",
       "    motor_vehicle_theft  arson  \n",
       "346                 236   10.0  \n",
       "347                   2    NaN  \n",
       "348                 NaN    NaN  \n",
       "349                 NaN    NaN  \n",
       "350                 NaN    NaN  "
      ]
     },
     "execution_count": 36,
     "metadata": {},
     "output_type": "execute_result"
    }
   ],
   "source": [
    "# Check null rows.\n",
    "df.tail()"
   ]
  },
  {
   "cell_type": "code",
   "execution_count": 37,
   "metadata": {
    "collapsed": true
   },
   "outputs": [],
   "source": [
    "# Drop unnecessary variables.\n",
    "df6 = df.drop(['city', 'Rape\\n(revised\\ndefinition)1'], axis=1)\n",
    "\n",
    "# Drop last three rows with nulls.\n",
    "df6 = df6[:-3]\n",
    "\n",
    "# Convert arson nulls to 0.\n",
    "df6['arson'] = df6['arson'].fillna(0)\n",
    "\n",
    "# Convert object variables to numeric.\n",
    "cols2 = df6.columns[df6.dtypes.eq('object')]\n",
    "df6[cols2] = df6[cols2].applymap(convert_col)"
   ]
  },
  {
   "cell_type": "markdown",
   "metadata": {},
   "source": [
    "##### a. Univariate selection\n",
    "\n",
    "The scikit-learn library provides the SelectKBest class that can be used with a suite of different statistical tests to select a specific number of features."
   ]
  },
  {
   "cell_type": "code",
   "execution_count": 49,
   "metadata": {},
   "outputs": [
    {
     "name": "stdout",
     "output_type": "stream",
     "text": [
      "[  1.755e+09   1.364e+07   7.423e+04   2.160e+05   5.060e+06   8.330e+06\n",
      "   2.480e+06   2.194e+07   1.573e+06   2.143e+04]\n"
     ]
    }
   ],
   "source": [
    "from sklearn.feature_selection import SelectKBest\n",
    "from sklearn.feature_selection import chi2\n",
    "\n",
    "Y5 = df6['property_crime']\n",
    "X5 = df6.drop('property_crime', axis=1)\n",
    "test = SelectKBest(score_func=chi2, k=4)\n",
    "fit = test.fit(X5, Y5)\n",
    "np.set_printoptions(precision=3)\n",
    "print(fit.scores_)"
   ]
  },
  {
   "cell_type": "markdown",
   "metadata": {},
   "source": [
    "The following features have the highest scores and will be selected to build the model:\n",
    "\n",
    "population = 1.755e+09<br>\n",
    "violent_crime = 1.364e+07<br>\n",
    "aggravated_assault = 8.330e+06<br>\n",
    "larceny_theft = 2.194e+07<br>"
   ]
  },
  {
   "cell_type": "code",
   "execution_count": 39,
   "metadata": {},
   "outputs": [
    {
     "data": {
      "text/html": [
       "<table class=\"simpletable\">\n",
       "<caption>OLS Regression Results</caption>\n",
       "<tr>\n",
       "  <th>Dep. Variable:</th>     <td>property_crime</td>  <th>  R-squared:         </th> <td>   1.000</td> \n",
       "</tr>\n",
       "<tr>\n",
       "  <th>Model:</th>                   <td>OLS</td>       <th>  Adj. R-squared:    </th> <td>   1.000</td> \n",
       "</tr>\n",
       "<tr>\n",
       "  <th>Method:</th>             <td>Least Squares</td>  <th>  F-statistic:       </th> <td>9.504e+05</td>\n",
       "</tr>\n",
       "<tr>\n",
       "  <th>Date:</th>             <td>Sat, 30 Dec 2017</td> <th>  Prob (F-statistic):</th>  <td>  0.00</td>  \n",
       "</tr>\n",
       "<tr>\n",
       "  <th>Time:</th>                 <td>13:16:56</td>     <th>  Log-Likelihood:    </th> <td> -1985.2</td> \n",
       "</tr>\n",
       "<tr>\n",
       "  <th>No. Observations:</th>      <td>   348</td>      <th>  AIC:               </th> <td>   3980.</td> \n",
       "</tr>\n",
       "<tr>\n",
       "  <th>Df Residuals:</th>          <td>   343</td>      <th>  BIC:               </th> <td>   4000.</td> \n",
       "</tr>\n",
       "<tr>\n",
       "  <th>Df Model:</th>              <td>     4</td>      <th>                     </th>     <td> </td>    \n",
       "</tr>\n",
       "<tr>\n",
       "  <th>Covariance Type:</th>      <td>nonrobust</td>    <th>                     </th>     <td> </td>    \n",
       "</tr>\n",
       "</table>\n",
       "<table class=\"simpletable\">\n",
       "<tr>\n",
       "           <td></td>             <th>coef</th>     <th>std err</th>      <th>t</th>      <th>P>|t|</th>  <th>[0.025</th>    <th>0.975]</th>  \n",
       "</tr>\n",
       "<tr>\n",
       "  <th>Intercept</th>          <td>   30.8124</td> <td>    4.717</td> <td>    6.532</td> <td> 0.000</td> <td>   21.534</td> <td>   40.090</td>\n",
       "</tr>\n",
       "<tr>\n",
       "  <th>population</th>         <td>   -0.0050</td> <td>    0.000</td> <td>  -18.592</td> <td> 0.000</td> <td>   -0.006</td> <td>   -0.004</td>\n",
       "</tr>\n",
       "<tr>\n",
       "  <th>violent_crime</th>      <td>    3.2517</td> <td>    0.185</td> <td>   17.578</td> <td> 0.000</td> <td>    2.888</td> <td>    3.616</td>\n",
       "</tr>\n",
       "<tr>\n",
       "  <th>aggravated_assault</th> <td>   -4.6277</td> <td>    0.325</td> <td>  -14.255</td> <td> 0.000</td> <td>   -5.266</td> <td>   -3.989</td>\n",
       "</tr>\n",
       "<tr>\n",
       "  <th>larceny_theft</th>      <td>    1.3614</td> <td>    0.014</td> <td>   94.982</td> <td> 0.000</td> <td>    1.333</td> <td>    1.390</td>\n",
       "</tr>\n",
       "</table>\n",
       "<table class=\"simpletable\">\n",
       "<tr>\n",
       "  <th>Omnibus:</th>       <td>343.551</td> <th>  Durbin-Watson:     </th> <td>   1.966</td> \n",
       "</tr>\n",
       "<tr>\n",
       "  <th>Prob(Omnibus):</th> <td> 0.000</td>  <th>  Jarque-Bera (JB):  </th> <td>13771.495</td>\n",
       "</tr>\n",
       "<tr>\n",
       "  <th>Skew:</th>          <td> 4.102</td>  <th>  Prob(JB):          </th> <td>    0.00</td> \n",
       "</tr>\n",
       "<tr>\n",
       "  <th>Kurtosis:</th>      <td>32.706</td>  <th>  Cond. No.          </th> <td>5.43e+05</td> \n",
       "</tr>\n",
       "</table>"
      ],
      "text/plain": [
       "<class 'statsmodels.iolib.summary.Summary'>\n",
       "\"\"\"\n",
       "                            OLS Regression Results                            \n",
       "==============================================================================\n",
       "Dep. Variable:         property_crime   R-squared:                       1.000\n",
       "Model:                            OLS   Adj. R-squared:                  1.000\n",
       "Method:                 Least Squares   F-statistic:                 9.504e+05\n",
       "Date:                Sat, 30 Dec 2017   Prob (F-statistic):               0.00\n",
       "Time:                        13:16:56   Log-Likelihood:                -1985.2\n",
       "No. Observations:                 348   AIC:                             3980.\n",
       "Df Residuals:                     343   BIC:                             4000.\n",
       "Df Model:                           4                                         \n",
       "Covariance Type:            nonrobust                                         \n",
       "======================================================================================\n",
       "                         coef    std err          t      P>|t|      [0.025      0.975]\n",
       "--------------------------------------------------------------------------------------\n",
       "Intercept             30.8124      4.717      6.532      0.000      21.534      40.090\n",
       "population            -0.0050      0.000    -18.592      0.000      -0.006      -0.004\n",
       "violent_crime          3.2517      0.185     17.578      0.000       2.888       3.616\n",
       "aggravated_assault    -4.6277      0.325    -14.255      0.000      -5.266      -3.989\n",
       "larceny_theft          1.3614      0.014     94.982      0.000       1.333       1.390\n",
       "==============================================================================\n",
       "Omnibus:                      343.551   Durbin-Watson:                   1.966\n",
       "Prob(Omnibus):                  0.000   Jarque-Bera (JB):            13771.495\n",
       "Skew:                           4.102   Prob(JB):                         0.00\n",
       "Kurtosis:                      32.706   Cond. No.                     5.43e+05\n",
       "==============================================================================\n",
       "\n",
       "Warnings:\n",
       "[1] Standard Errors assume that the covariance matrix of the errors is correctly specified.\n",
       "[2] The condition number is large, 5.43e+05. This might indicate that there are\n",
       "strong multicollinearity or other numerical problems.\n",
       "\"\"\""
      ]
     },
     "execution_count": 39,
     "metadata": {},
     "output_type": "execute_result"
    }
   ],
   "source": [
    "# Fit the model with the selected features.\n",
    "lm2 = smf.ols(formula='property_crime ~ population + violent_crime + aggravated_assault + larceny_theft', data=df6).fit()\n",
    "\n",
    "# Print the summary table.\n",
    "lm2.summary()"
   ]
  },
  {
   "cell_type": "markdown",
   "metadata": {},
   "source": [
    "The R-squared is 1.0, which indicates the model is probably overfit. The data has been confimed to have multivariate non-normality, therefore, variable transformations will be necessary."
   ]
  },
  {
   "cell_type": "code",
   "execution_count": 40,
   "metadata": {},
   "outputs": [
    {
     "name": "stdout",
     "output_type": "stream",
     "text": [
      "Predicted:\n",
      "0      35.138718\n",
      "1      41.051528\n",
      "2      32.901770\n",
      "3    4094.971280\n",
      "4     224.313282\n",
      "dtype: float64\n",
      "\n",
      "\n",
      "Actual:\n",
      "0      12\n",
      "1      24\n",
      "2      16\n",
      "3    4090\n",
      "4     223\n",
      "Name: property_crime, dtype: int64\n"
     ]
    }
   ],
   "source": [
    "# Make prediction and compare with actual.\n",
    "print('Predicted:')\n",
    "print(lm2.predict(df6).head())\n",
    "print('\\n')\n",
    "print('Actual:')\n",
    "print(df6['property_crime'].head())"
   ]
  },
  {
   "cell_type": "code",
   "execution_count": 42,
   "metadata": {},
   "outputs": [
    {
     "data": {
      "image/png": "[encoded data removed]",
      "text/plain": [
       "<matplotlib.figure.Figure at 0x22089595048>"
      ]
     },
     "metadata": {},
     "output_type": "display_data"
    }
   ],
   "source": [
    "# Verify multivariate non-normality on the new subset.\n",
    "X_5 = df6[['population', 'violent_crime', 'aggravated_assault', 'larceny_theft']]\n",
    "predicted5 = regr.predict(X_5)\n",
    "actual5 = Y5\n",
    "residual5 = actual5 - predicted5\n",
    "plt.hist(residual5)\n",
    "plt.title('Residual counts')\n",
    "plt.xlabel('Residual')\n",
    "plt.ylabel('Count')\n",
    "plt.show()"
   ]
  },
  {
   "cell_type": "code",
   "execution_count": 44,
   "metadata": {},
   "outputs": [
    {
     "name": "stdout",
     "output_type": "stream",
     "text": [
      "\n",
      "Coefficients: \n",
      " [  4.485e-06  -3.619e-03  -6.739e-03   3.172e-03]\n",
      "\n",
      "Intercept: \n",
      " 4.12161231654\n",
      "\n",
      "R-squared:\n",
      "0.49273254556\n"
     ]
    }
   ],
   "source": [
    "# Conduct log transformation and run new coefficients and intercept.\n",
    "df7 = df6[df6['property_crime'] != 0]\n",
    "Y6 = np.log(df7['property_crime'])\n",
    "X6 = df7[['population', 'violent_crime', 'aggravated_assault', 'larceny_theft']]\n",
    "regr.fit(X6, Y6)\n",
    "\n",
    "print('\\nCoefficients: \\n', regr.coef_)\n",
    "print('\\nIntercept: \\n', regr.intercept_)\n",
    "print('\\nR-squared:')\n",
    "print(regr.score(X6, Y6))"
   ]
  },
  {
   "cell_type": "markdown",
   "metadata": {},
   "source": [
    "The R-squared dropped by half after transforming the dependent variable."
   ]
  },
  {
   "cell_type": "code",
   "execution_count": 45,
   "metadata": {},
   "outputs": [
    {
     "data": {
      "image/png": "[encoded data removed]",
      "text/plain": [
       "<matplotlib.figure.Figure at 0x2208950a3c8>"
      ]
     },
     "metadata": {},
     "output_type": "display_data"
    }
   ],
   "source": [
    "# Verify log transformation effect on residual.\n",
    "predicted6 = regr.predict(X6)\n",
    "actual6 = Y6\n",
    "residual6 = actual6 - predicted6\n",
    "plt.hist(residual6)\n",
    "plt.title('Residual counts')\n",
    "plt.xlabel('Residual')\n",
    "plt.ylabel('Count')\n",
    "plt.show()"
   ]
  },
  {
   "cell_type": "markdown",
   "metadata": {},
   "source": [
    "##### b. Feature importance\n",
    "\n",
    "Bagged decision trees like Random Forest and Extra Trees can be used to estimate the importance of features. Construct a ExtraTreesClassifier classifier for this example."
   ]
  },
  {
   "cell_type": "code",
   "execution_count": 46,
   "metadata": {},
   "outputs": [
    {
     "name": "stdout",
     "output_type": "stream",
     "text": [
      "[ 0.161  0.095  0.026  0.059  0.075  0.094  0.147  0.202  0.098  0.043]\n"
     ]
    }
   ],
   "source": [
    "from sklearn.ensemble import ExtraTreesClassifier\n",
    "model = ExtraTreesClassifier()\n",
    "model.fit(X5, Y5)\n",
    "print(model.feature_importances_)"
   ]
  },
  {
   "cell_type": "markdown",
   "metadata": {},
   "source": [
    "The following features have the highest scores and will be selected to build the model. The results are similar to univariate selection except for one feature.\n",
    "\n",
    "population=0.168<br>\n",
    "violent_crime=0.102<br>\n",
    "burglary=0.156<br>\n",
    "larceny_theft=0.184<br>"
   ]
  },
  {
   "cell_type": "code",
   "execution_count": 47,
   "metadata": {},
   "outputs": [
    {
     "data": {
      "text/html": [
       "<table class=\"simpletable\">\n",
       "<caption>OLS Regression Results</caption>\n",
       "<tr>\n",
       "  <th>Dep. Variable:</th>     <td>property_crime</td>  <th>  R-squared:         </th> <td>   1.000</td> \n",
       "</tr>\n",
       "<tr>\n",
       "  <th>Model:</th>                   <td>OLS</td>       <th>  Adj. R-squared:    </th> <td>   1.000</td> \n",
       "</tr>\n",
       "<tr>\n",
       "  <th>Method:</th>             <td>Least Squares</td>  <th>  F-statistic:       </th> <td>4.704e+07</td>\n",
       "</tr>\n",
       "<tr>\n",
       "  <th>Date:</th>             <td>Sat, 30 Dec 2017</td> <th>  Prob (F-statistic):</th>  <td>  0.00</td>  \n",
       "</tr>\n",
       "<tr>\n",
       "  <th>Time:</th>                 <td>13:16:57</td>     <th>  Log-Likelihood:    </th> <td> -1306.3</td> \n",
       "</tr>\n",
       "<tr>\n",
       "  <th>No. Observations:</th>      <td>   348</td>      <th>  AIC:               </th> <td>   2623.</td> \n",
       "</tr>\n",
       "<tr>\n",
       "  <th>Df Residuals:</th>          <td>   343</td>      <th>  BIC:               </th> <td>   2642.</td> \n",
       "</tr>\n",
       "<tr>\n",
       "  <th>Df Model:</th>              <td>     4</td>      <th>                     </th>     <td> </td>    \n",
       "</tr>\n",
       "<tr>\n",
       "  <th>Covariance Type:</th>      <td>nonrobust</td>    <th>                     </th>     <td> </td>    \n",
       "</tr>\n",
       "</table>\n",
       "<table class=\"simpletable\">\n",
       "<tr>\n",
       "        <td></td>           <th>coef</th>     <th>std err</th>      <th>t</th>      <th>P>|t|</th>  <th>[0.025</th>    <th>0.975]</th>  \n",
       "</tr>\n",
       "<tr>\n",
       "  <th>Intercept</th>     <td>   -1.2855</td> <td>    0.710</td> <td>   -1.812</td> <td> 0.071</td> <td>   -2.681</td> <td>    0.110</td>\n",
       "</tr>\n",
       "<tr>\n",
       "  <th>population</th>    <td>    0.0002</td> <td> 5.54e-05</td> <td>    3.758</td> <td> 0.000</td> <td> 9.93e-05</td> <td>    0.000</td>\n",
       "</tr>\n",
       "<tr>\n",
       "  <th>violent_crime</th> <td>    0.1005</td> <td>    0.006</td> <td>   15.647</td> <td> 0.000</td> <td>    0.088</td> <td>    0.113</td>\n",
       "</tr>\n",
       "<tr>\n",
       "  <th>burglary</th>      <td>    1.2100</td> <td>    0.007</td> <td>  163.368</td> <td> 0.000</td> <td>    1.195</td> <td>    1.225</td>\n",
       "</tr>\n",
       "<tr>\n",
       "  <th>larceny_theft</th> <td>    0.9740</td> <td>    0.003</td> <td>  280.824</td> <td> 0.000</td> <td>    0.967</td> <td>    0.981</td>\n",
       "</tr>\n",
       "</table>\n",
       "<table class=\"simpletable\">\n",
       "<tr>\n",
       "  <th>Omnibus:</th>       <td>90.276</td> <th>  Durbin-Watson:     </th> <td>   2.134</td>\n",
       "</tr>\n",
       "<tr>\n",
       "  <th>Prob(Omnibus):</th> <td> 0.000</td> <th>  Jarque-Bera (JB):  </th> <td>2296.037</td>\n",
       "</tr>\n",
       "<tr>\n",
       "  <th>Skew:</th>          <td>-0.363</td> <th>  Prob(JB):          </th> <td>    0.00</td>\n",
       "</tr>\n",
       "<tr>\n",
       "  <th>Kurtosis:</th>      <td>15.563</td> <th>  Cond. No.          </th> <td>5.74e+05</td>\n",
       "</tr>\n",
       "</table>"
      ],
      "text/plain": [
       "<class 'statsmodels.iolib.summary.Summary'>\n",
       "\"\"\"\n",
       "                            OLS Regression Results                            \n",
       "==============================================================================\n",
       "Dep. Variable:         property_crime   R-squared:                       1.000\n",
       "Model:                            OLS   Adj. R-squared:                  1.000\n",
       "Method:                 Least Squares   F-statistic:                 4.704e+07\n",
       "Date:                Sat, 30 Dec 2017   Prob (F-statistic):               0.00\n",
       "Time:                        13:16:57   Log-Likelihood:                -1306.3\n",
       "No. Observations:                 348   AIC:                             2623.\n",
       "Df Residuals:                     343   BIC:                             2642.\n",
       "Df Model:                           4                                         \n",
       "Covariance Type:            nonrobust                                         \n",
       "=================================================================================\n",
       "                    coef    std err          t      P>|t|      [0.025      0.975]\n",
       "---------------------------------------------------------------------------------\n",
       "Intercept        -1.2855      0.710     -1.812      0.071      -2.681       0.110\n",
       "population        0.0002   5.54e-05      3.758      0.000    9.93e-05       0.000\n",
       "violent_crime     0.1005      0.006     15.647      0.000       0.088       0.113\n",
       "burglary          1.2100      0.007    163.368      0.000       1.195       1.225\n",
       "larceny_theft     0.9740      0.003    280.824      0.000       0.967       0.981\n",
       "==============================================================================\n",
       "Omnibus:                       90.276   Durbin-Watson:                   2.134\n",
       "Prob(Omnibus):                  0.000   Jarque-Bera (JB):             2296.037\n",
       "Skew:                          -0.363   Prob(JB):                         0.00\n",
       "Kurtosis:                      15.563   Cond. No.                     5.74e+05\n",
       "==============================================================================\n",
       "\n",
       "Warnings:\n",
       "[1] Standard Errors assume that the covariance matrix of the errors is correctly specified.\n",
       "[2] The condition number is large, 5.74e+05. This might indicate that there are\n",
       "strong multicollinearity or other numerical problems.\n",
       "\"\"\""
      ]
     },
     "execution_count": 47,
     "metadata": {},
     "output_type": "execute_result"
    }
   ],
   "source": [
    "# Fit the model on the selected features.\n",
    "lm3 = smf.ols(formula='property_crime ~ population + violent_crime + burglary + larceny_theft', data=df6).fit()\n",
    "\n",
    "# Print the summary table.\n",
    "lm3.summary()"
   ]
  },
  {
   "cell_type": "markdown",
   "metadata": {},
   "source": [
    "The R-squared is also 1.0, which indicates possible overfitting."
   ]
  },
  {
   "cell_type": "code",
   "execution_count": 50,
   "metadata": {},
   "outputs": [
    {
     "name": "stdout",
     "output_type": "stream",
     "text": [
      "Predicted:\n",
      "0      11.262648\n",
      "1      22.663581\n",
      "2      15.429383\n",
      "3    4110.453607\n",
      "4     227.203506\n",
      "dtype: float64\n",
      "\n",
      "\n",
      "Actual:\n",
      "0      12\n",
      "1      24\n",
      "2      16\n",
      "3    4090\n",
      "4     223\n",
      "Name: property_crime, dtype: int64\n"
     ]
    }
   ],
   "source": [
    "# Make prediction and compare with actual.\n",
    "print('Predicted:')\n",
    "print(lm3.predict(df6).head())\n",
    "print('\\n')\n",
    "print('Actual:')\n",
    "print(df6['property_crime'].head())"
   ]
  },
  {
   "cell_type": "code",
   "execution_count": 48,
   "metadata": {},
   "outputs": [
    {
     "name": "stdout",
     "output_type": "stream",
     "text": [
      "\n",
      "Coefficients: \n",
      " [  3.100e-05  -9.570e-03   4.631e-03   1.460e-03]\n",
      "\n",
      "Intercept: \n",
      " 3.97704824326\n",
      "\n",
      "R-squared:\n",
      "0.536781805385\n"
     ]
    }
   ],
   "source": [
    "# Run the log transformation and new coefficients and intercept.\n",
    "Y7 = np.log(df7['property_crime'])\n",
    "X7 = df7[['population', 'violent_crime', 'burglary', 'larceny_theft']]\n",
    "regr.fit(X7, Y7)\n",
    "\n",
    "print('\\nCoefficients: \\n', regr.coef_)\n",
    "print('\\nIntercept: \\n', regr.intercept_)\n",
    "print('\\nR-squared:')\n",
    "print(regr.score(X7, Y7))"
   ]
  },
  {
   "cell_type": "markdown",
   "metadata": {
    "collapsed": true
   },
   "source": [
    "The R-squared is slightly improved compared to the univariate selection log transformation."
   ]
  },
  {
   "cell_type": "code",
   "execution_count": null,
   "metadata": {
    "collapsed": true
   },
   "outputs": [],
   "source": []
  }
 ],
 "metadata": {
  "kernelspec": {
   "display_name": "Python 3",
   "language": "python",
   "name": "python3"
  },
  "language_info": {
   "codemirror_mode": {
    "name": "ipython",
    "version": 3
   },
   "file_extension": ".py",
   "mimetype": "text/x-python",
   "name": "python",
   "nbconvert_exporter": "python",
   "pygments_lexer": "ipython3",
   "version": "3.6.3"
  }
 },
 "nbformat": 4,
 "nbformat_minor": 2
}
