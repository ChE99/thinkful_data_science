{
 "cells": [
  {
   "cell_type": "markdown",
   "metadata": {},
   "source": [
    "1) Good\n",
    "\n",
    "\n",
    "2) Will a livelihood education program reduce juvenile delinquency in the U.S.?\n",
    "\n",
    "\n",
    "3) Good\n",
    "\n",
    "\n",
    "4) Good\n",
    "\n",
    "\n",
    "5) Good\n",
    "\n",
    "\n",
    "6) Will monthly promotions attract more customers to AT&T?\n",
    "\n",
    "\n",
    "7) Did a malfunctioning part cause the Challenger Shuttle to explode?\n",
    "\n",
    "8) Good\n",
    "\n",
    "\n",
    "9) Good\n",
    "\n",
    "\n",
    "10) What is Google's scoring algorithm that leads searches to be in the top 10?"
   ]
  },
  {
   "cell_type": "code",
   "execution_count": null,
   "metadata": {
    "collapsed": true
   },
   "outputs": [],
   "source": []
  }
 ],
 "metadata": {
  "anaconda-cloud": {},
  "kernelspec": {
   "display_name": "Python [default]",
   "language": "python",
   "name": "python3"
  },
  "language_info": {
   "codemirror_mode": {
    "name": "ipython",
    "version": 3
   },
   "file_extension": ".py",
   "mimetype": "text/x-python",
   "name": "python",
   "nbconvert_exporter": "python",
   "pygments_lexer": "ipython3",
   "version": "3.5.2"
  }
 },
 "nbformat": 4,
 "nbformat_minor": 1
}
