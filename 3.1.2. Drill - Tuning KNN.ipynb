{
 "cells": [
  {
   "cell_type": "markdown",
   "metadata": {},
   "source": [
    "Use KNN's weighting option and set feature weights in the following order: utilities, groceries, dining and entertainment. Utilities gets the highest weight since this is a recurring cost that consumers are expected to pay. Groceries is also a recurring cost, but doesn't have the same liability as utilities, so it gets the second highest weight. \n",
    "\n",
    "Consumers with data points where utilities are paid on time and groceries are bought on a regular basis will be classified as low risk for delinquency."
   ]
  },
  {
   "cell_type": "code",
   "execution_count": null,
   "metadata": {
    "collapsed": true
   },
   "outputs": [],
   "source": []
  }
 ],
 "metadata": {
  "kernelspec": {
   "display_name": "Python 3",
   "language": "python",
   "name": "python3"
  },
  "language_info": {
   "codemirror_mode": {
    "name": "ipython",
    "version": 3
   },
   "file_extension": ".py",
   "mimetype": "text/x-python",
   "name": "python",
   "nbconvert_exporter": "python",
   "pygments_lexer": "ipython3",
   "version": "3.6.3"
  }
 },
 "nbformat": 4,
 "nbformat_minor": 2
}
